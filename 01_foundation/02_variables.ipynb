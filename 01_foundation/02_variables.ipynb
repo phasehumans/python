{
 "cells": [
  {
   "cell_type": "code",
   "execution_count": 2,
   "metadata": {},
   "outputs": [
    {
     "name": "stdout",
     "output_type": "stream",
     "text": [
      "chaitanya\n",
      "age :  21\n",
      "name : chaitanya\n",
      "5.11 chaitanya 21\n",
      "<class 'float'>\n"
     ]
    }
   ],
   "source": [
    "# declare and assign variables\n",
    "age= 21\n",
    "name= \"chaitanya\"\n",
    "height= 5.11\n",
    "\n",
    "\n",
    "# print\n",
    "print(name)\n",
    "print(\"age : \",age)\n",
    "print(\"name :\",name)\n",
    "print(height, name, age)\n",
    "\n",
    "\n",
    "type(height)\n",
    "print(type(height))"
   ]
  },
  {
   "cell_type": "code",
   "execution_count": 3,
   "metadata": {},
   "outputs": [],
   "source": [
    "# variable types:\n",
    "# python is dynamically typed, var is determined at runtime\n",
    "age = 21\n",
    "height= 5.11\n",
    "name= \"chaitanya\"\n",
    "\n",
    "# datatype declare nahi kar rahe hai; runtime similar to js, ts"
   ]
  },
  {
   "cell_type": "code",
   "execution_count": 4,
   "metadata": {},
   "outputs": [
    {
     "name": "stdout",
     "output_type": "stream",
     "text": [
      "<class 'int'>\n",
      "<class 'str'>\n",
      "<class 'float'>\n"
     ]
    }
   ],
   "source": [
    "# type checking\n",
    "print(type(age))\n",
    "print(type(name))\n",
    "print(type(height))"
   ]
  },
  {
   "cell_type": "code",
   "execution_count": 21,
   "metadata": {},
   "outputs": [
    {
     "name": "stdout",
     "output_type": "stream",
     "text": [
      "<class 'int'>\n",
      "<class 'str'>\n",
      "<class 'str'>\n",
      "<class 'int'>\n",
      "21.0\n",
      "<class 'float'>\n"
     ]
    }
   ],
   "source": [
    "# type conversion\n",
    "age_str= str(age)\n",
    "\n",
    "print(type(age))\n",
    "print(type(age_str))\n",
    "\n",
    "ages= \"21\"\n",
    "print(type(ages))\n",
    "\n",
    "ages_int= int(ages)\n",
    "print(type(ages_int))\n",
    "\n",
    "\n",
    "# type casting\n",
    "ages_float= float(ages_int)\n",
    "print(ages_float)\n",
    "print(type(ages_float))"
   ]
  },
  {
   "cell_type": "code",
   "execution_count": 12,
   "metadata": {},
   "outputs": [
    {
     "name": "stdout",
     "output_type": "stream",
     "text": [
      "<class 'int'>\n",
      "10\n",
      "<class 'str'>\n",
      "10.0\n",
      "<class 'float'>\n"
     ]
    }
   ],
   "source": [
    "a= 10\n",
    "type(a)\n",
    "\n",
    "str(a)\n",
    "print(type(a))\n",
    "\n",
    "a1= str(a)\n",
    "print(a1)\n",
    "print(type(a1))\n",
    "\n",
    "a2= float(a)\n",
    "print(a2)\n",
    "print(type(a2))\n",
    "\n",
    "# direct conversion is not possible; psuedo var is used to typecast"
   ]
  },
  {
   "cell_type": "code",
   "execution_count": null,
   "metadata": {},
   "outputs": [
    {
     "ename": "ValueError",
     "evalue": "invalid literal for int() with base 10: 'chaitanya'",
     "output_type": "error",
     "traceback": [
      "\u001b[31m---------------------------------------------------------------------------\u001b[39m",
      "\u001b[31mValueError\u001b[39m                                Traceback (most recent call last)",
      "\u001b[36mCell\u001b[39m\u001b[36m \u001b[39m\u001b[32mIn[15]\u001b[39m\u001b[32m, line 2\u001b[39m\n\u001b[32m      1\u001b[39m \u001b[38;5;66;03m# can't convert full string into int\u001b[39;00m\n\u001b[32m----> \u001b[39m\u001b[32m2\u001b[39m name_int= \u001b[38;5;28;43mint\u001b[39;49m\u001b[43m(\u001b[49m\u001b[43mname\u001b[49m\u001b[43m)\u001b[49m\n\u001b[32m      3\u001b[39m \u001b[38;5;28mprint\u001b[39m(\u001b[38;5;28mtype\u001b[39m(name_int))\n",
      "\u001b[31mValueError\u001b[39m: invalid literal for int() with base 10: 'chaitanya'"
     ]
    }
   ],
   "source": [
    "# can't convert full string into int\n",
    "# compatible conversion protcol: abc -> int X \n",
    "\n",
    "name_int= int(name)\n",
    "print(type(name_int))"
   ]
  },
  {
   "cell_type": "code",
   "execution_count": 13,
   "metadata": {},
   "outputs": [
    {
     "name": "stdout",
     "output_type": "stream",
     "text": [
      "10 <class 'int'>\n",
      "apple <class 'str'>\n"
     ]
    }
   ],
   "source": [
    "# dynamic typing:\n",
    "# python allows the type of variable to change as program executes\n",
    "\n",
    "x= 10\n",
    "print(x, type(x))\n",
    "\n",
    "x= \"apple\"\n",
    "print(x, type(x))\n"
   ]
  },
  {
   "cell_type": "code",
   "execution_count": null,
   "metadata": {},
   "outputs": [
    {
     "name": "stdout",
     "output_type": "stream",
     "text": [
      "21 <class 'str'>\n",
      "21 <class 'int'>\n"
     ]
    }
   ],
   "source": [
    "# input \n",
    "age= input(\"enter the age\")\n",
    "print(age, type(age))       # default type is str\n",
    "\n",
    "\n",
    "age= int(input(\"enter the age(num)\"))\n",
    "print(age, type(age))\n",
    "\n"
   ]
  },
  {
   "cell_type": "code",
   "execution_count": null,
   "metadata": {},
   "outputs": [
    {
     "name": "stdout",
     "output_type": "stream",
     "text": [
      "54\n",
      "5\n",
      "111\n"
     ]
    }
   ],
   "source": [
    "# multiple inputs\n",
    "ip1, ip2, ip3= map(int, input().split())\n",
    "\n",
    "print(ip1)\n",
    "print(ip2)\n",
    "print(ip3)"
   ]
  },
  {
   "cell_type": "code",
   "execution_count": 35,
   "metadata": {},
   "outputs": [
    {
     "name": "stdout",
     "output_type": "stream",
     "text": [
      "hello, world\n",
      "I have scored 8.5 in my 3rd semester\n",
      "i have scored 8.5 in my 4th semester\n"
     ]
    }
   ],
   "source": [
    "# output\n",
    "print(\"hello, world\")\n",
    "\n",
    "cgpa= 8.5\n",
    "sem= \"4th\"\n",
    "\n",
    "print(\"I have scored\", cgpa ,\"in my 3rd semester\")\n",
    "print(\"i have scored {} in my {} semester\".format(cgpa, sem))\n"
   ]
  }
 ],
 "metadata": {
  "kernelspec": {
   "display_name": "Python 3",
   "language": "python",
   "name": "python3"
  },
  "language_info": {
   "codemirror_mode": {
    "name": "ipython",
    "version": 3
   },
   "file_extension": ".py",
   "mimetype": "text/x-python",
   "name": "python",
   "nbconvert_exporter": "python",
   "pygments_lexer": "ipython3",
   "version": "3.13.1"
  }
 },
 "nbformat": 4,
 "nbformat_minor": 2
}
