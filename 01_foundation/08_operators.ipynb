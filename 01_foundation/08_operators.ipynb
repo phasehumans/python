{
  "cells": [
    {
      "cell_type": "markdown",
      "metadata": {},
      "source": [
        "### Operators"
      ]
    },
    {
      "cell_type": "markdown",
      "metadata": {
        "id": "iS6JPgDRmG3l"
      },
      "source": [
        "Arithmetic Operators"
      ]
    },
    {
      "cell_type": "code",
      "execution_count": null,
      "metadata": {
        "colab": {
          "base_uri": "https://localhost:8080/"
        },
        "id": "H156wPRglk7O",
        "outputId": "066b3dc8-f0f9-4e81-f2b7-7b1acf10ccf4"
      },
      "outputs": [
        {
          "name": "stdout",
          "output_type": "stream",
          "text": [
            "13\n",
            "7\n",
            "30\n",
            "3.3333333333333335\n",
            "3\n",
            "1\n",
            "1000\n"
          ]
        }
      ],
      "source": [
        "x = 10\n",
        "y = 3\n",
        "\n",
        "## Perform the arithmetic operations\n",
        "print(x + y) # Addition\n",
        "print(x - y) # Subtraction\n",
        "print(x * y) # Multiplication\n",
        "print(x / y) # Division\n",
        "print(x // y) # Floor Division\n",
        "print(x % y) # Modulus (remainder)\n",
        "print(x ** y) # Exponentiation"
      ]
    },
    {
      "cell_type": "markdown",
      "metadata": {
        "id": "jij4FuhYoS8q"
      },
      "source": [
        "Comparison Operators"
      ]
    },
    {
      "cell_type": "code",
      "execution_count": 36,
      "metadata": {
        "colab": {
          "base_uri": "https://localhost:8080/"
        },
        "id": "rjS1L0CbnjNu",
        "outputId": "caf9f3a9-af2d-4ea2-b398-da8d8c1142d9"
      },
      "outputs": [
        {
          "name": "stdout",
          "output_type": "stream",
          "text": [
            "False\n",
            "True\n",
            "False\n",
            "True\n",
            "False\n",
            "True\n"
          ]
        }
      ],
      "source": [
        "x = 5\n",
        "y = 10\n",
        "\n",
        "## Perform comparison operator\n",
        "print(x == y) # Equal to\n",
        "print(x != y) # Not Equal to\n",
        "print(x > y)  # Greater than\n",
        "print(x < y)  # Less than\n",
        "print(x >= y) # Greater than or equal to\n",
        "print(x <= y) # Less than or equal to"
      ]
    },
    {
      "cell_type": "markdown",
      "metadata": {
        "id": "I8SWj6tUqV1c"
      },
      "source": [
        "Logical Operators"
      ]
    },
    {
      "cell_type": "code",
      "execution_count": 37,
      "metadata": {
        "colab": {
          "base_uri": "https://localhost:8080/"
        },
        "id": "4ZTX7Hgyo1qV",
        "outputId": "e70cbe8c-c4cc-4123-dcde-6c3e25df2562"
      },
      "outputs": [
        {
          "name": "stdout",
          "output_type": "stream",
          "text": [
            "True\n",
            "True\n",
            "False\n"
          ]
        }
      ],
      "source": [
        "x = 5\n",
        "y = 10\n",
        "z = 15\n",
        "\n",
        "## Perform logical operators\n",
        "print(x < y and y < z)\n",
        "print(x < y or x > z)\n",
        "print(not(x < y))"
      ]
    },
    {
      "cell_type": "markdown",
      "metadata": {
        "id": "rLNjSv5Xq2sq"
      },
      "source": [
        "Bitwise Operators"
      ]
    },
    {
      "cell_type": "code",
      "execution_count": 38,
      "metadata": {
        "colab": {
          "base_uri": "https://localhost:8080/"
        },
        "id": "fdaShu49qtK8",
        "outputId": "f249e68a-e909-472e-bbdf-9a36fdb01fcc"
      },
      "outputs": [
        {
          "name": "stdout",
          "output_type": "stream",
          "text": [
            "2\n",
            "14\n",
            "12\n",
            "-11\n",
            "20\n",
            "5\n"
          ]
        }
      ],
      "source": [
        "x = 10\n",
        "y = 6\n",
        "\n",
        "## Perform Bitwise Operations\n",
        "print(x & y) # AND Operation\n",
        "print(x | y) # OR Operation\n",
        "print(x ^ y) # XOR Operation\n",
        "\n",
        "## Task\n",
        "print(~x) # NOT Operation\n",
        "\n",
        "\n",
        "print(x << 1) # Left Shift Operation\n",
        "print(x >> 1) # Right Shift Operation"
      ]
    },
    {
      "cell_type": "markdown",
      "metadata": {
        "id": "O2MqDEiQxsSC"
      },
      "source": [
        "Assignment Operators"
      ]
    },
    {
      "cell_type": "code",
      "execution_count": 39,
      "metadata": {
        "colab": {
          "base_uri": "https://localhost:8080/"
        },
        "id": "qBM_trZ9xLfN",
        "outputId": "2f3a525a-7516-463c-dd61-bb94921ad12a"
      },
      "outputs": [
        {
          "name": "stdout",
          "output_type": "stream",
          "text": [
            "23\n",
            "20\n",
            "60\n",
            "20.0\n",
            "2.0\n"
          ]
        }
      ],
      "source": [
        "x = 20\n",
        "y = 3\n",
        "\n",
        "## Perform assignment operators\n",
        "x += y # x = x + y\n",
        "print(x)\n",
        "\n",
        "x -= y # x = x - y\n",
        "print(x)\n",
        "\n",
        "x *= y\n",
        "print(x)\n",
        "\n",
        "x /= y\n",
        "print(x)\n",
        "\n",
        "x %= y\n",
        "print(x)"
      ]
    },
    {
      "cell_type": "markdown",
      "metadata": {
        "id": "j-1iFN3fyUeD"
      },
      "source": [
        "Membership Operators"
      ]
    },
    {
      "cell_type": "code",
      "execution_count": 40,
      "metadata": {
        "colab": {
          "base_uri": "https://localhost:8080/"
        },
        "id": "3kxvBkKzyMJ9",
        "outputId": "2d1be107-b419-43c8-968f-b391c01b6adf"
      },
      "outputs": [
        {
          "name": "stdout",
          "output_type": "stream",
          "text": [
            "True\n"
          ]
        }
      ],
      "source": [
        "print('a' in 'Priya')"
      ]
    },
    {
      "cell_type": "code",
      "execution_count": 41,
      "metadata": {
        "colab": {
          "base_uri": "https://localhost:8080/"
        },
        "id": "onBuzOJiyuUb",
        "outputId": "beffab94-6447-4fcd-9a55-7e9bd5f18d6b"
      },
      "outputs": [
        {
          "name": "stdout",
          "output_type": "stream",
          "text": [
            "False\n"
          ]
        }
      ],
      "source": [
        "print('a' not in 'Priya')"
      ]
    },
    {
      "cell_type": "code",
      "execution_count": 1,
      "metadata": {},
      "outputs": [
        {
          "name": "stdout",
          "output_type": "stream",
          "text": [
            "False\n"
          ]
        }
      ],
      "source": [
        "print('c' in 'sonawane')"
      ]
    },
    {
      "cell_type": "markdown",
      "metadata": {
        "id": "Xok_-2hQzHMT"
      },
      "source": [
        "Identity Operators"
      ]
    },
    {
      "cell_type": "code",
      "execution_count": 42,
      "metadata": {
        "colab": {
          "base_uri": "https://localhost:8080/"
        },
        "id": "NAcPtOlOy1hL",
        "outputId": "5caa1651-01fd-47d2-d129-172d33c85bf3"
      },
      "outputs": [
        {
          "name": "stdout",
          "output_type": "stream",
          "text": [
            "True\n",
            "True\n",
            "False\n"
          ]
        }
      ],
      "source": [
        "x = 10\n",
        "y = 10\n",
        "z= y\n",
        "## Perform identity operators\n",
        "print(x is y)\n",
        "print(x is z)\n",
        "print(x is not y)"
      ]
    },
    {
      "cell_type": "code",
      "execution_count": 3,
      "metadata": {},
      "outputs": [
        {
          "name": "stdout",
          "output_type": "stream",
          "text": [
            "True\n",
            "True\n",
            "True\n"
          ]
        }
      ],
      "source": [
        "x= \"chaitanya\"\n",
        "z= x\n",
        "y= \"chaitanya\"\n",
        "\n",
        "print(x is y)\n",
        "print(x is z)\n",
        "print(y is z)"
      ]
    },
    {
      "cell_type": "code",
      "execution_count": 4,
      "metadata": {
        "colab": {
          "base_uri": "https://localhost:8080/"
        },
        "id": "M_qFWmWC0JKW",
        "outputId": "dcb47974-4cd7-4314-b214-a68ca99317b5"
      },
      "outputs": [
        {
          "name": "stdout",
          "output_type": "stream",
          "text": [
            "2352673945968\n",
            "2352673945968\n",
            "2352673945968\n"
          ]
        }
      ],
      "source": [
        "print(id(x))\n",
        "print(id(y))\n",
        "\n",
        "print(id(\"chaitanya\"))"
      ]
    },
    {
      "cell_type": "markdown",
      "metadata": {
        "id": "AjjjkkX92c8j"
      },
      "source": [
        "### Strings"
      ]
    },
    {
      "cell_type": "code",
      "execution_count": 45,
      "metadata": {
        "colab": {
          "base_uri": "https://localhost:8080/"
        },
        "id": "lUvUw09P1Mp7",
        "outputId": "f407aab2-29b4-498e-c0ab-c89e266dd49b"
      },
      "outputs": [
        {
          "data": {
            "text/plain": [
              "str"
            ]
          },
          "execution_count": 45,
          "metadata": {},
          "output_type": "execute_result"
        }
      ],
      "source": [
        "name = \"chetan\"\n",
        "type(name)"
      ]
    },
    {
      "cell_type": "code",
      "execution_count": 46,
      "metadata": {
        "colab": {
          "base_uri": "https://localhost:8080/"
        },
        "id": "C_3aT8hs1PJW",
        "outputId": "54bccece-d93f-45c4-eb1a-f40db1004cda"
      },
      "outputs": [
        {
          "name": "stdout",
          "output_type": "stream",
          "text": [
            "e\n",
            "!\n"
          ]
        }
      ],
      "source": [
        "string = \"Hello, World!\"\n",
        "second_char = string[1]\n",
        "last_char = string[-1]\n",
        "\n",
        "print(second_char)\n",
        "print(last_char)"
      ]
    },
    {
      "cell_type": "code",
      "execution_count": 47,
      "metadata": {},
      "outputs": [
        {
          "name": "stdout",
          "output_type": "stream",
          "text": [
            "h\n",
            "i\n",
            "a\n",
            "9\n"
          ]
        }
      ],
      "source": [
        "str= \"chaitanya\"\n",
        "\n",
        "print(str[1])\n",
        "print(str[3])\n",
        "print(str[-1])\n",
        "\n",
        "print(len(str))"
      ]
    },
    {
      "cell_type": "code",
      "execution_count": 48,
      "metadata": {
        "colab": {
          "base_uri": "https://localhost:8080/"
        },
        "id": "Zh2cPhJR23lM",
        "outputId": "667ba6ef-0146-4973-eade-5d9a9b0d04c3"
      },
      "outputs": [
        {
          "data": {
            "text/plain": [
              "13"
            ]
          },
          "execution_count": 48,
          "metadata": {},
          "output_type": "execute_result"
        }
      ],
      "source": [
        "len(string)"
      ]
    },
    {
      "cell_type": "markdown",
      "metadata": {
        "id": "5iH-L97u3Vdj"
      },
      "source": [
        "Slicing Operation"
      ]
    },
    {
      "cell_type": "markdown",
      "metadata": {
        "id": "kH9geD_A3stx"
      },
      "source": [
        "string[start:end:step_size]"
      ]
    },
    {
      "cell_type": "code",
      "execution_count": 49,
      "metadata": {
        "colab": {
          "base_uri": "https://localhost:8080/"
        },
        "id": "4im9Os7n2_6v",
        "outputId": "ace23957-39ca-4452-fc14-861705e86793"
      },
      "outputs": [
        {
          "name": "stdout",
          "output_type": "stream",
          "text": [
            "ell\n"
          ]
        }
      ],
      "source": [
        "string= \"Hello, world!!\"\n",
        "\n",
        "print(string[1:4])"
      ]
    },
    {
      "cell_type": "code",
      "execution_count": null,
      "metadata": {
        "colab": {
          "base_uri": "https://localhost:8080/"
        },
        "id": "_T5NdMYV3JXt",
        "outputId": "8663eb4f-d307-434e-e38e-531da51a47a5"
      },
      "outputs": [
        {
          "name": "stdout",
          "output_type": "stream",
          "text": [
            "el,w\n"
          ]
        }
      ],
      "source": [
        "print(string[1:8:2])\n",
        "# stepsize of 2: ek skip karke chao; deafult is 1"
      ]
    },
    {
      "cell_type": "code",
      "execution_count": null,
      "metadata": {
        "colab": {
          "base_uri": "https://localhost:8080/"
        },
        "id": "zsk1PRbO5ANC",
        "outputId": "6e72ec1e-b069-4851-c265-f4ae21a35904"
      },
      "outputs": [
        {
          "name": "stdout",
          "output_type": "stream",
          "text": [
            "Hello\n"
          ]
        }
      ],
      "source": [
        "print(string[:5])\n",
        "# default as [0:5]"
      ]
    },
    {
      "cell_type": "code",
      "execution_count": 52,
      "metadata": {
        "colab": {
          "base_uri": "https://localhost:8080/"
        },
        "id": "7wSMXWgC5fee",
        "outputId": "83cfb572-63a7-4c0a-8fb5-4e5a0fff49b9"
      },
      "outputs": [
        {
          "name": "stdout",
          "output_type": "stream",
          "text": [
            "world!!\n"
          ]
        }
      ],
      "source": [
        "print(string[7:])"
      ]
    },
    {
      "cell_type": "markdown",
      "metadata": {
        "id": "yDNpofwC6bqN"
      },
      "source": [
        "Python strings are immutable. Once a string is created, you cannot change it."
      ]
    },
    {
      "cell_type": "code",
      "execution_count": 67,
      "metadata": {
        "colab": {
          "base_uri": "https://localhost:8080/"
        },
        "id": "sqY8hzUT5u10",
        "outputId": "f5f1551e-adb9-4c52-a5ab-6a7f2139e9c1"
      },
      "outputs": [
        {
          "name": "stdout",
          "output_type": "stream",
          "text": [
            " Fun\n"
          ]
        }
      ],
      "source": [
        "print(string[-4:])"
      ]
    },
    {
      "cell_type": "code",
      "execution_count": 54,
      "metadata": {
        "colab": {
          "base_uri": "https://localhost:8080/"
        },
        "id": "csjhEWcL6UqE",
        "outputId": "209b52c8-0738-40b1-e539-c87085727959"
      },
      "outputs": [
        {
          "name": "stdout",
          "output_type": "stream",
          "text": [
            "Hello, wo\n"
          ]
        }
      ],
      "source": [
        "print(string[:-5])"
      ]
    },
    {
      "cell_type": "markdown",
      "metadata": {
        "id": "WuQEzZLI8fZC"
      },
      "source": [
        "Reversal of the entire string"
      ]
    },
    {
      "cell_type": "code",
      "execution_count": 55,
      "metadata": {
        "colab": {
          "base_uri": "https://localhost:8080/"
        },
        "id": "FFe6q4i-7hTL",
        "outputId": "dca9cb9f-63de-410e-ea01-370f7505e1c9"
      },
      "outputs": [
        {
          "name": "stdout",
          "output_type": "stream",
          "text": [
            "!!dlrow ,olleH\n"
          ]
        }
      ],
      "source": [
        "print(string[::-1])"
      ]
    },
    {
      "cell_type": "code",
      "execution_count": 6,
      "metadata": {},
      "outputs": [
        {
          "name": "stdout",
          "output_type": "stream",
          "text": [
            "aynatiahc\n",
            "chaitanya\n"
          ]
        }
      ],
      "source": [
        "name= \"chaitanya\"\n",
        "print(name[::-1])\n",
        "print(name[::])"
      ]
    },
    {
      "cell_type": "code",
      "execution_count": 56,
      "metadata": {
        "colab": {
          "base_uri": "https://localhost:8080/"
        },
        "id": "jUcN2J9D8eY7",
        "outputId": "e3b81f51-fb09-4132-b7a6-4cf24566af85"
      },
      "outputs": [
        {
          "name": "stdout",
          "output_type": "stream",
          "text": [
            "Hello, world!!\n"
          ]
        }
      ],
      "source": [
        "print(string[::])"
      ]
    },
    {
      "cell_type": "code",
      "execution_count": 57,
      "metadata": {
        "colab": {
          "base_uri": "https://localhost:8080/"
        },
        "id": "iyKHKJnN8nm1",
        "outputId": "ff3ff87b-955e-4e12-dfed-7bad50da5ec4"
      },
      "outputs": [
        {
          "name": "stdout",
          "output_type": "stream",
          "text": [
            "!drw,le\n"
          ]
        }
      ],
      "source": [
        "print(string[::-2])"
      ]
    },
    {
      "cell_type": "markdown",
      "metadata": {
        "id": "S8kfr2-79zo6"
      },
      "source": [
        "Inbuilt Functions of String"
      ]
    },
    {
      "cell_type": "code",
      "execution_count": 58,
      "metadata": {
        "colab": {
          "base_uri": "https://localhost:8080/"
        },
        "id": "k7FN932Y9KV_",
        "outputId": "7a7edd45-dcdd-41e1-da8d-cb7f9f945459"
      },
      "outputs": [
        {
          "name": "stdout",
          "output_type": "stream",
          "text": [
            "HELLO, WORLD!!\n"
          ]
        }
      ],
      "source": [
        "uppercase_string = string.upper()\n",
        "print(uppercase_string)"
      ]
    },
    {
      "cell_type": "code",
      "execution_count": 59,
      "metadata": {
        "colab": {
          "base_uri": "https://localhost:8080/"
        },
        "id": "J5tk0I1g-CQk",
        "outputId": "9e903279-a165-476c-8676-dc5af50485c6"
      },
      "outputs": [
        {
          "name": "stdout",
          "output_type": "stream",
          "text": [
            "hello, world!!\n"
          ]
        }
      ],
      "source": [
        "lowercase_string = string.lower()\n",
        "print(lowercase_string)"
      ]
    },
    {
      "cell_type": "code",
      "execution_count": 68,
      "metadata": {
        "colab": {
          "base_uri": "https://localhost:8080/"
        },
        "id": "jI-LEXOH-HLJ",
        "outputId": "d75d92bf-1152-4092-ffd0-2663df6a565c"
      },
      "outputs": [
        {
          "name": "stdout",
          "output_type": "stream",
          "text": [
            "Today'S Session Is Quite Fun\n"
          ]
        }
      ],
      "source": [
        "string = \"Today's session is quite fun\"\n",
        "titlecase_string = string.title()\n",
        "\n",
        "# first letter cap of all words\n",
        "print(titlecase_string)"
      ]
    },
    {
      "cell_type": "code",
      "execution_count": null,
      "metadata": {
        "colab": {
          "base_uri": "https://localhost:8080/"
        },
        "id": "WQGQxJSS-TN4",
        "outputId": "2bf48c89-7072-4621-c742-05b970b209c0"
      },
      "outputs": [
        {
          "name": "stdout",
          "output_type": "stream",
          "text": [
            "Today's session is quite fun\n"
          ]
        }
      ],
      "source": [
        "string = \"Today's Session is quite Fun\"\n",
        "capitalized_string = string.capitalize()\n",
        "\n",
        "# first letter cap of sentence\n",
        "print(capitalized_string)"
      ]
    },
    {
      "cell_type": "code",
      "execution_count": 62,
      "metadata": {
        "colab": {
          "base_uri": "https://localhost:8080/"
        },
        "id": "cVvz4nQ8-hpr",
        "outputId": "3de45821-da49-4912-996c-c6a27e94e67d"
      },
      "outputs": [
        {
          "name": "stdout",
          "output_type": "stream",
          "text": [
            "Hello World\n"
          ]
        }
      ],
      "source": [
        "str1 = \"Hello\"\n",
        "str2 = \"World\"\n",
        "# Concatenation Operation\n",
        "result = str1 + \" \" + str2\n",
        "print(result)"
      ]
    },
    {
      "cell_type": "code",
      "execution_count": 63,
      "metadata": {
        "colab": {
          "base_uri": "https://localhost:8080/"
        },
        "id": "K0F-SBwo-0wC",
        "outputId": "f979e347-4424-4344-9a45-c2e6337a27fa"
      },
      "outputs": [
        {
          "name": "stdout",
          "output_type": "stream",
          "text": [
            "HelloHelloHello\n"
          ]
        }
      ],
      "source": [
        "result = str1 * 3\n",
        "print(result)"
      ]
    },
    {
      "cell_type": "code",
      "execution_count": 64,
      "metadata": {
        "colab": {
          "base_uri": "https://localhost:8080/"
        },
        "id": "pn1t9P6-_Dxr",
        "outputId": "9f4b0dac-4275-42d4-d720-59f12326c98a"
      },
      "outputs": [
        {
          "name": "stdout",
          "output_type": "stream",
          "text": [
            "oa' \n"
          ]
        }
      ],
      "source": [
        "print(string[1:8:2])"
      ]
    },
    {
      "cell_type": "code",
      "execution_count": 65,
      "metadata": {
        "colab": {
          "base_uri": "https://localhost:8080/",
          "height": 35
        },
        "id": "i8vfGdkWBDpM",
        "outputId": "ef63fdc0-535b-49fe-dfac-4c84937840a5"
      },
      "outputs": [
        {
          "data": {
            "text/plain": [
              "\"oa' \""
            ]
          },
          "execution_count": 65,
          "metadata": {},
          "output_type": "execute_result"
        }
      ],
      "source": [
        "## expression\n",
        "string[1:8:2]"
      ]
    }
  ],
  "metadata": {
    "colab": {
      "provenance": []
    },
    "kernelspec": {
      "display_name": "Python 3",
      "language": "python",
      "name": "python3"
    },
    "language_info": {
      "codemirror_mode": {
        "name": "ipython",
        "version": 3
      },
      "file_extension": ".py",
      "mimetype": "text/x-python",
      "name": "python",
      "nbconvert_exporter": "python",
      "pygments_lexer": "ipython3",
      "version": "3.13.1"
    }
  },
  "nbformat": 4,
  "nbformat_minor": 0
}
