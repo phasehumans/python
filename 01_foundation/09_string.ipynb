{
 "cells": [
  {
   "cell_type": "code",
   "execution_count": 1,
   "metadata": {
    "colab": {
     "base_uri": "https://localhost:8080/"
    },
    "executionInfo": {
     "elapsed": 63,
     "status": "ok",
     "timestamp": 1745128172939,
     "user": {
      "displayName": "Chaitanya",
      "userId": "17149693889078725148"
     },
     "user_tz": -330
    },
    "id": "qe4eRoBqmguV",
    "outputId": "a984f91c-9dac-419c-84b5-47764cbe7503"
   },
   "outputs": [
    {
     "name": "stdout",
     "output_type": "stream",
     "text": [
      "False\n",
      "True\n",
      "True\n",
      "False\n",
      "False\n",
      "True\n"
     ]
    }
   ],
   "source": [
    "str1= \"apple\"\n",
    "str2= \"banana\"\n",
    "\n",
    "print(str1==str2)\n",
    "print(str1!=str2)\n",
    "print(str1<str2)\n",
    "print(str1>str2)\n",
    "print(str1>=str2)\n",
    "print(str1<=str2)\n",
    "\n",
    "# calcn based on ASCII values of characters"
   ]
  },
  {
   "cell_type": "code",
   "execution_count": 6,
   "metadata": {
    "colab": {
     "base_uri": "https://localhost:8080/"
    },
    "executionInfo": {
     "elapsed": 13,
     "status": "ok",
     "timestamp": 1745128492546,
     "user": {
      "displayName": "Chaitanya",
      "userId": "17149693889078725148"
     },
     "user_tz": -330
    },
    "id": "eP0187VAvqww",
    "outputId": "f6905880-f22e-477f-b738-a7081bedc32c"
   },
   "outputs": [
    {
     "data": {
      "text/plain": [
       "False"
      ]
     },
     "execution_count": 6,
     "metadata": {},
     "output_type": "execute_result"
    }
   ],
   "source": [
    "\"zebra\" < \"apple\""
   ]
  },
  {
   "cell_type": "code",
   "execution_count": 7,
   "metadata": {
    "colab": {
     "base_uri": "https://localhost:8080/"
    },
    "executionInfo": {
     "elapsed": 15,
     "status": "ok",
     "timestamp": 1745128495280,
     "user": {
      "displayName": "Chaitanya",
      "userId": "17149693889078725148"
     },
     "user_tz": -330
    },
    "id": "UXOdVR9lwogG",
    "outputId": "a6a89707-8c8e-45c1-e317-a4d40b43b8c9"
   },
   "outputs": [
    {
     "data": {
      "text/plain": [
       "True"
      ]
     },
     "execution_count": 7,
     "metadata": {},
     "output_type": "execute_result"
    }
   ],
   "source": [
    "\"Zebra\" < \"apple\""
   ]
  },
  {
   "cell_type": "code",
   "execution_count": null,
   "metadata": {
    "colab": {
     "base_uri": "https://localhost:8080/"
    },
    "executionInfo": {
     "elapsed": 9,
     "status": "ok",
     "timestamp": 1745128531495,
     "user": {
      "displayName": "Chaitanya",
      "userId": "17149693889078725148"
     },
     "user_tz": -330
    },
    "id": "rG5Wn5MFw5fE",
    "outputId": "d2922aa8-c1a0-4bb3-c675-83df129236c2"
   },
   "outputs": [
    {
     "data": {
      "text/plain": [
       "97"
      ]
     },
     "execution_count": 10,
     "metadata": {},
     "output_type": "execute_result"
    }
   ],
   "source": [
    "ord(\"a\")\n",
    "# ASCII value"
   ]
  },
  {
   "cell_type": "code",
   "execution_count": 11,
   "metadata": {
    "colab": {
     "base_uri": "https://localhost:8080/"
    },
    "executionInfo": {
     "elapsed": 9,
     "status": "ok",
     "timestamp": 1745128532661,
     "user": {
      "displayName": "Chaitanya",
      "userId": "17149693889078725148"
     },
     "user_tz": -330
    },
    "id": "bls6CgZ6w8U2",
    "outputId": "fdef0dda-82dd-46d8-d575-6504fac6dfb2"
   },
   "outputs": [
    {
     "data": {
      "text/plain": [
       "65"
      ]
     },
     "execution_count": 11,
     "metadata": {},
     "output_type": "execute_result"
    }
   ],
   "source": [
    "ord(\"A\")"
   ]
  },
  {
   "cell_type": "code",
   "execution_count": 13,
   "metadata": {
    "colab": {
     "base_uri": "https://localhost:8080/"
    },
    "executionInfo": {
     "elapsed": 18,
     "status": "ok",
     "timestamp": 1745128953990,
     "user": {
      "displayName": "Chaitanya",
      "userId": "17149693889078725148"
     },
     "user_tz": -330
    },
    "id": "rqfj3Mc2w_mW",
    "outputId": "3cd92a34-a5ce-4f25-bafb-7884db70f270"
   },
   "outputs": [
    {
     "name": "stdout",
     "output_type": "stream",
     "text": [
      "hello python\n"
     ]
    }
   ],
   "source": [
    "# replace()\n",
    "\n",
    "org_str= \"hello world\"\n",
    "\n",
    "newstr= org_str.replace(\"world\", \"python\")\n",
    "print(newstr)"
   ]
  },
  {
   "cell_type": "code",
   "execution_count": 1,
   "metadata": {},
   "outputs": [
    {
     "name": "stdout",
     "output_type": "stream",
     "text": [
      "Chetan Sonawane\n"
     ]
    }
   ],
   "source": [
    "name= \"Chaitanya Sonawane\"\n",
    "\n",
    "print(name.replace(\"Chaitanya\", \"Chetan\"))"
   ]
  },
  {
   "cell_type": "code",
   "execution_count": 21,
   "metadata": {
    "colab": {
     "base_uri": "https://localhost:8080/"
    },
    "executionInfo": {
     "elapsed": 46,
     "status": "ok",
     "timestamp": 1745129494887,
     "user": {
      "displayName": "Chaitanya",
      "userId": "17149693889078725148"
     },
     "user_tz": -330
    },
    "id": "BYxmhr1CynR4",
    "outputId": "08fac7e0-1208-4af6-a33b-9bb0cb8d3d8c"
   },
   "outputs": [
    {
     "name": "stdout",
     "output_type": "stream",
     "text": [
      "['this', 'is', 'the', 'sentence']\n",
      "['rohit', ' mohit', ' chetan', ' anant', ' sachin']\n"
     ]
    }
   ],
   "source": [
    "# split()\n",
    "\n",
    "sentence= \"this is the sentence\"\n",
    "\n",
    "words= sentence.split()\n",
    "print(words)\n",
    "\n",
    "\n",
    "names= \"rohit, mohit, chetan, anant, sachin\"\n",
    "\n",
    "words1= names.split(',')\n",
    "print(words1)\n"
   ]
  },
  {
   "cell_type": "code",
   "execution_count": 23,
   "metadata": {
    "colab": {
     "base_uri": "https://localhost:8080/",
     "height": 193
    },
    "executionInfo": {
     "elapsed": 16,
     "status": "error",
     "timestamp": 1745129624448,
     "user": {
      "displayName": "Chaitanya",
      "userId": "17149693889078725148"
     },
     "user_tz": -330
    },
    "id": "S009b2kPzz29",
    "outputId": "9da6468f-b8cf-4194-f85f-47c004f3d91c"
   },
   "outputs": [
    {
     "ename": "TypeError",
     "evalue": "can only concatenate str (not \"int\") to str",
     "output_type": "error",
     "traceback": [
      "\u001b[0;31m---------------------------------------------------------------------------\u001b[0m",
      "\u001b[0;31mTypeError\u001b[0m                                 Traceback (most recent call last)",
      "\u001b[0;32m<ipython-input-23-c0abe33c8628>\u001b[0m in \u001b[0;36m<cell line: 0>\u001b[0;34m()\u001b[0m\n\u001b[1;32m      2\u001b[0m \u001b[0;34m\u001b[0m\u001b[0m\n\u001b[1;32m      3\u001b[0m \u001b[0mage\u001b[0m\u001b[0;34m=\u001b[0m \u001b[0;36m30\u001b[0m\u001b[0;34m\u001b[0m\u001b[0;34m\u001b[0m\u001b[0m\n\u001b[0;32m----> 4\u001b[0;31m \u001b[0mtext\u001b[0m\u001b[0;34m=\u001b[0m \u001b[0;34m\"my name is rohit and my age is {}\"\u001b[0m \u001b[0;34m+\u001b[0m \u001b[0mage\u001b[0m\u001b[0;34m\u001b[0m\u001b[0;34m\u001b[0m\u001b[0m\n\u001b[0m\u001b[1;32m      5\u001b[0m \u001b[0mprint\u001b[0m\u001b[0;34m(\u001b[0m\u001b[0mtext\u001b[0m\u001b[0;34m)\u001b[0m\u001b[0;34m\u001b[0m\u001b[0;34m\u001b[0m\u001b[0m\n",
      "\u001b[0;31mTypeError\u001b[0m: can only concatenate str (not \"int\") to str"
     ]
    }
   ],
   "source": [
    "# formating\n",
    "\n",
    "age= 30\n",
    "text= \"my name is rohit and my age is {}\" + age\n",
    "print(text)\n",
    "\n",
    "# cant comnibe diff; use formating f\"{var}\"\""
   ]
  },
  {
   "cell_type": "code",
   "execution_count": 25,
   "metadata": {
    "colab": {
     "base_uri": "https://localhost:8080/"
    },
    "executionInfo": {
     "elapsed": 18,
     "status": "ok",
     "timestamp": 1745129698058,
     "user": {
      "displayName": "Chaitanya",
      "userId": "17149693889078725148"
     },
     "user_tz": -330
    },
    "id": "v6FRzHAq1F2X",
    "outputId": "b6991839-170d-40a0-daf0-93e6374db022"
   },
   "outputs": [
    {
     "name": "stdout",
     "output_type": "stream",
     "text": [
      "my name is chaitanya, i am 20 years old\n"
     ]
    }
   ],
   "source": [
    "age= 20\n",
    "\n",
    "text= f\"my name is chaitanya, i am {age} years old\"\n",
    "print(text)"
   ]
  },
  {
   "cell_type": "code",
   "execution_count": 32,
   "metadata": {
    "colab": {
     "base_uri": "https://localhost:8080/"
    },
    "executionInfo": {
     "elapsed": 35,
     "status": "ok",
     "timestamp": 1745129907366,
     "user": {
      "displayName": "Chaitanya",
      "userId": "17149693889078725148"
     },
     "user_tz": -330
    },
    "id": "O9AAqsdV1d50",
    "outputId": "c64d746f-fd04-4842-b8a8-ad45e2334740"
   },
   "outputs": [
    {
     "name": "stdout",
     "output_type": "stream",
     "text": [
      "      hello world\n",
      "hello world\n",
      "      hello world\n",
      "hello world\n",
      "      hello world\n"
     ]
    }
   ],
   "source": [
    "# strip()\n",
    "# removes white spaces from beginig and end, not betn\n",
    "\n",
    "texr= \"      hello world\"\n",
    "print(texr)\n",
    "\n",
    "print(texr.strip())     #str is immutable, no changes in str\n",
    "print(texr)\n",
    "\n",
    "newtexr= texr.strip()\n",
    "print(newtexr)\n",
    "\n",
    "print(texr)"
   ]
  },
  {
   "cell_type": "code",
   "execution_count": 36,
   "metadata": {
    "colab": {
     "base_uri": "https://localhost:8080/"
    },
    "executionInfo": {
     "elapsed": 36,
     "status": "ok",
     "timestamp": 1745130312124,
     "user": {
      "displayName": "Chaitanya",
      "userId": "17149693889078725148"
     },
     "user_tz": -330
    },
    "id": "Dd5SKdbQ15Cz",
    "outputId": "5dc821e6-92fe-431d-9e7e-07ccd98c8cc8"
   },
   "outputs": [
    {
     "name": "stdout",
     "output_type": "stream",
     "text": [
      "10\n",
      "11\n",
      "2\n"
     ]
    }
   ],
   "source": [
    "# index()\n",
    "\n",
    "name= \"chaitanya sonawane\"\n",
    "print(name.index(\"sonawane\"))\n",
    "print(name.index(\"o\"))\n",
    "print(name.index(\"a\"))\n"
   ]
  },
  {
   "cell_type": "code",
   "execution_count": 37,
   "metadata": {
    "colab": {
     "base_uri": "https://localhost:8080/",
     "height": 141
    },
    "executionInfo": {
     "elapsed": 27,
     "status": "error",
     "timestamp": 1745130332703,
     "user": {
      "displayName": "Chaitanya",
      "userId": "17149693889078725148"
     },
     "user_tz": -330
    },
    "id": "WnIJYZWp31sv",
    "outputId": "f7406a93-d7ae-4f0c-db9e-efe4daa60749"
   },
   "outputs": [
    {
     "ename": "ValueError",
     "evalue": "substring not found",
     "output_type": "error",
     "traceback": [
      "\u001b[0;31m---------------------------------------------------------------------------\u001b[0m",
      "\u001b[0;31mValueError\u001b[0m                                Traceback (most recent call last)",
      "\u001b[0;32m<ipython-input-37-3ff7d546d22b>\u001b[0m in \u001b[0;36m<cell line: 0>\u001b[0;34m()\u001b[0m\n\u001b[0;32m----> 1\u001b[0;31m \u001b[0mprint\u001b[0m\u001b[0;34m(\u001b[0m\u001b[0mname\u001b[0m\u001b[0;34m.\u001b[0m\u001b[0mindex\u001b[0m\u001b[0;34m(\u001b[0m\u001b[0;34m\"chetan\"\u001b[0m\u001b[0;34m)\u001b[0m\u001b[0;34m)\u001b[0m\u001b[0;34m\u001b[0m\u001b[0;34m\u001b[0m\u001b[0m\n\u001b[0m",
      "\u001b[0;31mValueError\u001b[0m: substring not found"
     ]
    }
   ],
   "source": [
    "print(name.index(\"chetan\"))\n",
    "# error, find() returns -1"
   ]
  },
  {
   "cell_type": "code",
   "execution_count": 5,
   "metadata": {},
   "outputs": [
    {
     "ename": "ValueError",
     "evalue": "substring not found",
     "output_type": "error",
     "traceback": [
      "\u001b[31m---------------------------------------------------------------------------\u001b[39m",
      "\u001b[31mValueError\u001b[39m                                Traceback (most recent call last)",
      "\u001b[36mCell\u001b[39m\u001b[36m \u001b[39m\u001b[32mIn[5]\u001b[39m\u001b[32m, line 1\u001b[39m\n\u001b[32m----> \u001b[39m\u001b[32m1\u001b[39m \u001b[38;5;28mprint\u001b[39m(\u001b[43mname\u001b[49m\u001b[43m.\u001b[49m\u001b[43mindex\u001b[49m\u001b[43m(\u001b[49m\u001b[33;43m\"\u001b[39;49m\u001b[33;43mx\u001b[39;49m\u001b[33;43m\"\u001b[39;49m\u001b[43m)\u001b[49m)\n",
      "\u001b[31mValueError\u001b[39m: substring not found"
     ]
    }
   ],
   "source": [
    "print(name.index(\"x\"))"
   ]
  },
  {
   "cell_type": "code",
   "execution_count": 6,
   "metadata": {},
   "outputs": [
    {
     "name": "stdout",
     "output_type": "stream",
     "text": [
      "-1\n"
     ]
    }
   ],
   "source": [
    "print(name.find(\"x\"))"
   ]
  },
  {
   "cell_type": "code",
   "execution_count": 38,
   "metadata": {
    "colab": {
     "base_uri": "https://localhost:8080/"
    },
    "executionInfo": {
     "elapsed": 10,
     "status": "ok",
     "timestamp": 1745130376778,
     "user": {
      "displayName": "Chaitanya",
      "userId": "17149693889078725148"
     },
     "user_tz": -330
    },
    "id": "O-dLYxu73Vkm",
    "outputId": "27c0c761-3839-4bae-92a3-fdffda7699e0"
   },
   "outputs": [
    {
     "name": "stdout",
     "output_type": "stream",
     "text": [
      "10\n",
      "-1\n"
     ]
    }
   ],
   "source": [
    "# find()\n",
    "\n",
    "print(name.find(\"sonawane\"))\n",
    "print(name.find(\"cheatan\"))\n",
    "# if not available return -1"
   ]
  },
  {
   "cell_type": "code",
   "execution_count": 43,
   "metadata": {
    "colab": {
     "base_uri": "https://localhost:8080/"
    },
    "executionInfo": {
     "elapsed": 15,
     "status": "ok",
     "timestamp": 1745130903048,
     "user": {
      "displayName": "Chaitanya",
      "userId": "17149693889078725148"
     },
     "user_tz": -330
    },
    "id": "m67SWZVF3kiA",
    "outputId": "2a0c0022-e94f-41b9-a901-16a2800fd2a5"
   },
   "outputs": [
    {
     "name": "stdout",
     "output_type": "stream",
     "text": [
      "2\n",
      "2\n"
     ]
    }
   ],
   "source": [
    "# count()\n",
    "\n",
    "sentence= \"this is a sample sentence\"\n",
    "count= sentence.count(\"a\")\n",
    "print(count)\n",
    "\n",
    "print(sentence.count(\"en\"))"
   ]
  },
  {
   "cell_type": "code",
   "execution_count": 45,
   "metadata": {
    "colab": {
     "base_uri": "https://localhost:8080/"
    },
    "executionInfo": {
     "elapsed": 4,
     "status": "ok",
     "timestamp": 1745131020894,
     "user": {
      "displayName": "Chaitanya",
      "userId": "17149693889078725148"
     },
     "user_tz": -330
    },
    "id": "umd2muJT54N1",
    "outputId": "0071e307-5fb9-44c0-b9ad-4ab3023f0293"
   },
   "outputs": [
    {
     "name": "stdout",
     "output_type": "stream",
     "text": [
      "False\n",
      "True\n",
      "True\n",
      "False\n"
     ]
    }
   ],
   "source": [
    "# isupper()\n",
    "# checks upper case or not\n",
    "\n",
    "text= \"this is sentence\"\n",
    "text1= \"THIS IS SENTENCE\"\n",
    "\n",
    "print(text.isupper())\n",
    "print(text.islower())\n",
    "\n",
    "print(text1.isupper())\n",
    "print(text1.islower())"
   ]
  },
  {
   "cell_type": "code",
   "execution_count": 47,
   "metadata": {
    "colab": {
     "base_uri": "https://localhost:8080/"
    },
    "executionInfo": {
     "elapsed": 81,
     "status": "ok",
     "timestamp": 1745131105703,
     "user": {
      "displayName": "Chaitanya",
      "userId": "17149693889078725148"
     },
     "user_tz": -330
    },
    "id": "bk_T66SG6VQj",
    "outputId": "797f2439-3998-4cad-d5e1-ddd7267c6be1"
   },
   "outputs": [
    {
     "name": "stdout",
     "output_type": "stream",
     "text": [
      "False\n",
      "False\n",
      "True\n"
     ]
    }
   ],
   "source": [
    "# isdigit()\n",
    "# checks if digit\n",
    "\n",
    "print(text.isdigit())\n",
    "\n",
    "char= \"a\"\n",
    "digi= \"23\"\n",
    "\n",
    "print(char.isdigit())\n",
    "print(digi.isdigit())     #it is digit"
   ]
  },
  {
   "cell_type": "code",
   "execution_count": 9,
   "metadata": {
    "id": "O8_p3iNV6r2X"
   },
   "outputs": [
    {
     "name": "stdout",
     "output_type": "stream",
     "text": [
      "False\n",
      "True\n"
     ]
    }
   ],
   "source": [
    "name= \"chaitanya\"\n",
    "age= \"20\"\n",
    "height= 5.11\n",
    "\n",
    "print(name.isdigit())\n",
    "print(age.isdigit())\n",
    "# print(height.isdigit())     -->AttributeError: 'float' object has no attribute 'isdigit'\n"
   ]
  },
  {
   "cell_type": "code",
   "execution_count": null,
   "metadata": {},
   "outputs": [],
   "source": []
  }
 ],
 "metadata": {
  "colab": {
   "authorship_tag": "ABX9TyPPAvR9gOGB1rekFnIbK7+4",
   "provenance": []
  },
  "kernelspec": {
   "display_name": "myenv",
   "language": "python",
   "name": "python3"
  },
  "language_info": {
   "codemirror_mode": {
    "name": "ipython",
    "version": 3
   },
   "file_extension": ".py",
   "mimetype": "text/x-python",
   "name": "python",
   "nbconvert_exporter": "python",
   "pygments_lexer": "ipython3",
   "version": "3.13.1"
  }
 },
 "nbformat": 4,
 "nbformat_minor": 0
}
