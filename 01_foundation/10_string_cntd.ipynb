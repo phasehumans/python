{
  "cells": [
    {
      "cell_type": "markdown",
      "metadata": {
        "id": "ibniuARxuuUq"
      },
      "source": [
        "Comparing Strings"
      ]
    },
    {
      "cell_type": "code",
      "execution_count": null,
      "metadata": {
        "colab": {
          "base_uri": "https://localhost:8080/"
        },
        "id": "1BvgQLIPukZM",
        "outputId": "06884c15-cc0b-42d3-d5f6-c3ebca01611d"
      },
      "outputs": [
        {
          "name": "stdout",
          "output_type": "stream",
          "text": [
            "False\n",
            "True\n",
            "True\n",
            "False\n",
            "True\n",
            "False\n"
          ]
        }
      ],
      "source": [
        "string1 = \"apple\"\n",
        "string2 = \"banana\"\n",
        "\n",
        "print(string1 == string2) ## Equal to\n",
        "print(string1 != string2) ## Not equal to\n",
        "print(string1 < string2) ## Less than\n",
        "print(string1 > string2) ## Greater than\n",
        "print(string1 <= string2) ## Less than or equal to\n",
        "print(string1 >= string2) ## Greater than or equal to"
      ]
    },
    {
      "cell_type": "code",
      "execution_count": null,
      "metadata": {
        "colab": {
          "base_uri": "https://localhost:8080/"
        },
        "id": "O0bxfwM8vTJU",
        "outputId": "96f5542c-3106-4114-f25f-d10dd869516d"
      },
      "outputs": [
        {
          "data": {
            "text/plain": [
              "97"
            ]
          },
          "execution_count": 2,
          "metadata": {},
          "output_type": "execute_result"
        }
      ],
      "source": [
        "ord('a')"
      ]
    },
    {
      "cell_type": "code",
      "execution_count": null,
      "metadata": {
        "colab": {
          "base_uri": "https://localhost:8080/"
        },
        "id": "EAmPseztwHP2",
        "outputId": "0836d355-ca75-44e3-bff5-165598755332"
      },
      "outputs": [
        {
          "data": {
            "text/plain": [
              "98"
            ]
          },
          "execution_count": 3,
          "metadata": {},
          "output_type": "execute_result"
        }
      ],
      "source": [
        "ord('b')"
      ]
    },
    {
      "cell_type": "code",
      "execution_count": null,
      "metadata": {
        "colab": {
          "base_uri": "https://localhost:8080/"
        },
        "id": "eMEP65YswKfh",
        "outputId": "62a2a65a-2e04-43de-b609-345a8e3d723c"
      },
      "outputs": [
        {
          "data": {
            "text/plain": [
              "True"
            ]
          },
          "execution_count": 4,
          "metadata": {},
          "output_type": "execute_result"
        }
      ],
      "source": [
        "\"cat\" < \"catalog\""
      ]
    },
    {
      "cell_type": "code",
      "execution_count": null,
      "metadata": {
        "colab": {
          "base_uri": "https://localhost:8080/"
        },
        "id": "KGTDyjw8wqGI",
        "outputId": "f02c200f-65f7-44af-a1de-99076b70df94"
      },
      "outputs": [
        {
          "data": {
            "text/plain": [
              "90"
            ]
          },
          "execution_count": 5,
          "metadata": {},
          "output_type": "execute_result"
        }
      ],
      "source": [
        "ord('Z')"
      ]
    },
    {
      "cell_type": "code",
      "execution_count": null,
      "metadata": {
        "colab": {
          "base_uri": "https://localhost:8080/"
        },
        "id": "fUKRizaXwiNZ",
        "outputId": "29ae457e-facf-4c3d-c379-8c5e2bf792ae"
      },
      "outputs": [
        {
          "data": {
            "text/plain": [
              "True"
            ]
          },
          "execution_count": 6,
          "metadata": {},
          "output_type": "execute_result"
        }
      ],
      "source": [
        "\"Zebra\" < \"apple\""
      ]
    },
    {
      "cell_type": "markdown",
      "metadata": {
        "id": "X5n0NX3PxULA"
      },
      "source": [
        "replace()"
      ]
    },
    {
      "cell_type": "code",
      "execution_count": null,
      "metadata": {
        "colab": {
          "base_uri": "https://localhost:8080/"
        },
        "id": "bZM-5eLJwt_4",
        "outputId": "44e2cd24-a3c0-4e16-e3a6-845f8f1a21d9"
      },
      "outputs": [
        {
          "name": "stdout",
          "output_type": "stream",
          "text": [
            "Hello, Python!\n"
          ]
        }
      ],
      "source": [
        "original_string = \"Hello, world!\"\n",
        "\n",
        "## Replace \"world\" with \"Python\"\n",
        "new_string = original_string.replace(\"world\", \"Python\")\n",
        "print(new_string)"
      ]
    },
    {
      "cell_type": "markdown",
      "metadata": {
        "id": "AMHp7sWHzBZx"
      },
      "source": [
        "split()"
      ]
    },
    {
      "cell_type": "code",
      "execution_count": null,
      "metadata": {
        "colab": {
          "base_uri": "https://localhost:8080/"
        },
        "id": "u4XXMZvex2ox",
        "outputId": "ac3c5329-ee48-4442-e969-13f88d6713fd"
      },
      "outputs": [
        {
          "name": "stdout",
          "output_type": "stream",
          "text": [
            "['This', 'is', 'a', 'very', 'interesting', 'session']\n"
          ]
        }
      ],
      "source": [
        "sentence = \"This is a very interesting session\"\n",
        "words = sentence.split()\n",
        "print(words)"
      ]
    },
    {
      "cell_type": "code",
      "execution_count": null,
      "metadata": {
        "colab": {
          "base_uri": "https://localhost:8080/"
        },
        "id": "ZWxqKid6zYKK",
        "outputId": "e88245d8-dfc9-470a-9bed-dfa95a178750"
      },
      "outputs": [
        {
          "name": "stdout",
          "output_type": "stream",
          "text": [
            "['Rohit', ' Monika', ' Shyam', ' Rashmi', ' Priya', ' Vidushi', ' Aranya']\n"
          ]
        }
      ],
      "source": [
        "names = \"Rohit, Monika, Shyam, Rashmi, Priya, Vidushi, Aranya\"\n",
        "names_list = names.split(',')\n",
        "print(names_list)"
      ]
    },
    {
      "cell_type": "code",
      "execution_count": null,
      "metadata": {
        "colab": {
          "base_uri": "https://localhost:8080/"
        },
        "id": "RYIXJCcm0KYy",
        "outputId": "f6a96534-e9a8-46da-fbef-35422e738d4a"
      },
      "outputs": [
        {
          "name": "stdout",
          "output_type": "stream",
          "text": [
            "['Hello', 'World']\n"
          ]
        }
      ],
      "source": [
        "string = \"Hello-World\"\n",
        "print(string.split(\"-\"))"
      ]
    },
    {
      "cell_type": "code",
      "execution_count": null,
      "metadata": {
        "colab": {
          "base_uri": "https://localhost:8080/"
        },
        "id": "-IkuqDLS0ePa",
        "outputId": "7ed10dbe-900d-4126-a185-5256a1251693"
      },
      "outputs": [
        {
          "name": "stdout",
          "output_type": "stream",
          "text": [
            "['HelloWorld']\n"
          ]
        }
      ],
      "source": [
        "string = \"HelloWorld\"\n",
        "print(string.split(\"-\"))"
      ]
    },
    {
      "cell_type": "markdown",
      "metadata": {
        "id": "ziQcF0Pc0y5Y"
      },
      "source": [
        "Formatting"
      ]
    },
    {
      "cell_type": "code",
      "execution_count": null,
      "metadata": {
        "colab": {
          "base_uri": "https://localhost:8080/",
          "height": 176
        },
        "id": "-Ucv7p9b0pap",
        "outputId": "881f1a7c-da6d-4425-b275-41a90e31f70b"
      },
      "outputs": [
        {
          "ename": "TypeError",
          "evalue": "can only concatenate str (not \"int\") to str",
          "output_type": "error",
          "traceback": [
            "\u001b[0;31m---------------------------------------------------------------------------\u001b[0m",
            "\u001b[0;31mTypeError\u001b[0m                                 Traceback (most recent call last)",
            "\u001b[0;32m<ipython-input-12-1676cce51451>\u001b[0m in \u001b[0;36m<cell line: 0>\u001b[0;34m()\u001b[0m\n\u001b[1;32m      1\u001b[0m \u001b[0mage\u001b[0m \u001b[0;34m=\u001b[0m \u001b[0;36m30\u001b[0m\u001b[0;34m\u001b[0m\u001b[0;34m\u001b[0m\u001b[0m\n\u001b[0;32m----> 2\u001b[0;31m \u001b[0mtext\u001b[0m \u001b[0;34m=\u001b[0m \u001b[0;34m\"My name is Priya, I am \"\u001b[0m \u001b[0;34m+\u001b[0m \u001b[0mage\u001b[0m\u001b[0;34m\u001b[0m\u001b[0;34m\u001b[0m\u001b[0m\n\u001b[0m\u001b[1;32m      3\u001b[0m \u001b[0mprint\u001b[0m\u001b[0;34m(\u001b[0m\u001b[0mtext\u001b[0m\u001b[0;34m)\u001b[0m\u001b[0;34m\u001b[0m\u001b[0;34m\u001b[0m\u001b[0m\n",
            "\u001b[0;31mTypeError\u001b[0m: can only concatenate str (not \"int\") to str"
          ]
        }
      ],
      "source": [
        "age = 20\n",
        "text = \"My name is Chaitanya, I am \" + age\n",
        "print(text)"
      ]
    },
    {
      "cell_type": "code",
      "execution_count": 1,
      "metadata": {
        "colab": {
          "base_uri": "https://localhost:8080/"
        },
        "id": "R47oyvqD1El6",
        "outputId": "22333dac-0e72-4c44-a197-39a43749d3c1"
      },
      "outputs": [
        {
          "name": "stdout",
          "output_type": "stream",
          "text": [
            "My name is Chaitanya, I am 20 years old\n"
          ]
        }
      ],
      "source": [
        "age = 20\n",
        "text = f\"My name is Chaitanya, I am {age} years old\"\n",
        "print(text)"
      ]
    },
    {
      "cell_type": "markdown",
      "metadata": {
        "id": "-MzbsDkp1pMx"
      },
      "source": [
        "strip() -> removes any whitespace from the beginning or the end."
      ]
    },
    {
      "cell_type": "code",
      "execution_count": 2,
      "metadata": {
        "colab": {
          "base_uri": "https://localhost:8080/"
        },
        "id": "NGH7F4mT1boQ",
        "outputId": "08678139-c340-4565-8f22-0cf12a4479dd"
      },
      "outputs": [
        {
          "name": "stdout",
          "output_type": "stream",
          "text": [
            "Hello, Python Developers!\n"
          ]
        }
      ],
      "source": [
        "text = \"      Hello, Python Developers!    \"\n",
        "stripped_text = text.strip()\n",
        "print(stripped_text)"
      ]
    },
    {
      "cell_type": "code",
      "execution_count": 3,
      "metadata": {
        "colab": {
          "base_uri": "https://localhost:8080/"
        },
        "id": "GQHoKvWq15m5",
        "outputId": "4727564a-c22e-4ba2-d1ef-bd508a2d7366"
      },
      "outputs": [
        {
          "name": "stdout",
          "output_type": "stream",
          "text": [
            "      Hello, Python Developers!    \n"
          ]
        }
      ],
      "source": [
        "print(text)"
      ]
    },
    {
      "cell_type": "code",
      "execution_count": 4,
      "metadata": {
        "colab": {
          "base_uri": "https://localhost:8080/"
        },
        "id": "a9w8zbDv2eFJ",
        "outputId": "edb4e38e-603c-4332-ac7d-877a83ce7c08"
      },
      "outputs": [
        {
          "name": "stdout",
          "output_type": "stream",
          "text": [
            "Hello, Python        Developers!\n"
          ]
        }
      ],
      "source": [
        "text = \"      Hello, Python        Developers!    \"\n",
        "stripped_text = text.strip()\n",
        "print(stripped_text)"
      ]
    },
    {
      "cell_type": "markdown",
      "metadata": {
        "id": "MQNSYBBY2OtA"
      },
      "source": [
        "index() -> returns ValueError if the substring is not present in the main string"
      ]
    },
    {
      "cell_type": "code",
      "execution_count": 5,
      "metadata": {
        "colab": {
          "base_uri": "https://localhost:8080/"
        },
        "id": "AgtjCHqQ2Afq",
        "outputId": "83a25fec-56df-4ab7-c7a0-19ca12f4faad"
      },
      "outputs": [
        {
          "name": "stdout",
          "output_type": "stream",
          "text": [
            "7\n"
          ]
        }
      ],
      "source": [
        "string = \"Hello, World!\"\n",
        "index = string.index(\"World\")\n",
        "print(index)"
      ]
    },
    {
      "cell_type": "code",
      "execution_count": 6,
      "metadata": {
        "colab": {
          "base_uri": "https://localhost:8080/",
          "height": 158
        },
        "id": "F0rN_78E3C-p",
        "outputId": "01f9661e-83cb-4891-b1c8-c22fc22e4725"
      },
      "outputs": [
        {
          "ename": "ValueError",
          "evalue": "substring not found",
          "output_type": "error",
          "traceback": [
            "\u001b[31m---------------------------------------------------------------------------\u001b[39m",
            "\u001b[31mValueError\u001b[39m                                Traceback (most recent call last)",
            "\u001b[36mCell\u001b[39m\u001b[36m \u001b[39m\u001b[32mIn[6]\u001b[39m\u001b[32m, line 1\u001b[39m\n\u001b[32m----> \u001b[39m\u001b[32m1\u001b[39m index = \u001b[43mstring\u001b[49m\u001b[43m.\u001b[49m\u001b[43mindex\u001b[49m\u001b[43m(\u001b[49m\u001b[33;43m\"\u001b[39;49m\u001b[33;43mPython\u001b[39;49m\u001b[33;43m\"\u001b[39;49m\u001b[43m)\u001b[49m\n\u001b[32m      2\u001b[39m \u001b[38;5;28mprint\u001b[39m(index)\n",
            "\u001b[31mValueError\u001b[39m: substring not found"
          ]
        }
      ],
      "source": [
        "index = string.index(\"Python\")\n",
        "print(index)"
      ]
    },
    {
      "cell_type": "markdown",
      "metadata": {
        "id": "V35CzzJL3Ra4"
      },
      "source": [
        "find() -> returns -1 if the substring is not present in the main string"
      ]
    },
    {
      "cell_type": "code",
      "execution_count": 7,
      "metadata": {
        "colab": {
          "base_uri": "https://localhost:8080/"
        },
        "id": "m1tIuuX-3Kq5",
        "outputId": "b9ffbe69-9c7b-49cf-c703-cef73238a2d6"
      },
      "outputs": [
        {
          "name": "stdout",
          "output_type": "stream",
          "text": [
            "7\n"
          ]
        }
      ],
      "source": [
        "string = \"Hello, World!\"\n",
        "index = string.find(\"World\")\n",
        "print(index)"
      ]
    },
    {
      "cell_type": "code",
      "execution_count": 8,
      "metadata": {
        "colab": {
          "base_uri": "https://localhost:8080/"
        },
        "id": "oVv09Dcy3aPL",
        "outputId": "94c17926-ccfa-468f-e3cd-42c210b8f437"
      },
      "outputs": [
        {
          "name": "stdout",
          "output_type": "stream",
          "text": [
            "-1\n"
          ]
        }
      ],
      "source": [
        "index = string.find(\"Python\")\n",
        "print(index)"
      ]
    },
    {
      "cell_type": "code",
      "execution_count": 9,
      "metadata": {
        "colab": {
          "base_uri": "https://localhost:8080/"
        },
        "id": "vHZhmNc93gJ6",
        "outputId": "2024453e-1f6f-4b52-cc85-d91598072146"
      },
      "outputs": [
        {
          "name": "stdout",
          "output_type": "stream",
          "text": [
            "2\n"
          ]
        }
      ],
      "source": [
        "sentence = \"This is a sample sentence\"\n",
        "count = sentence.count(\"is\")\n",
        "print(count)"
      ]
    },
    {
      "cell_type": "code",
      "execution_count": 10,
      "metadata": {
        "colab": {
          "base_uri": "https://localhost:8080/"
        },
        "id": "Q6JUyzyS4o3J",
        "outputId": "40512f36-9606-454c-dd2c-8993868b4b78"
      },
      "outputs": [
        {
          "name": "stdout",
          "output_type": "stream",
          "text": [
            "True\n"
          ]
        }
      ],
      "source": [
        "text1 = \"Hello\"\n",
        "text2 = \"Hello123\"\n",
        "print(text1. isalpha())"
      ]
    },
    {
      "cell_type": "code",
      "execution_count": 11,
      "metadata": {
        "colab": {
          "base_uri": "https://localhost:8080/"
        },
        "id": "tESS6L-_45cL",
        "outputId": "d35b1459-52d7-4dac-d26d-9421a33fb835"
      },
      "outputs": [
        {
          "name": "stdout",
          "output_type": "stream",
          "text": [
            "False\n"
          ]
        }
      ],
      "source": [
        "print(text2.isalpha())"
      ]
    },
    {
      "cell_type": "code",
      "execution_count": 12,
      "metadata": {
        "colab": {
          "base_uri": "https://localhost:8080/"
        },
        "id": "JbwJ-_aq49bp",
        "outputId": "492df545-9ff2-45f8-f089-58ea8b670f98"
      },
      "outputs": [
        {
          "name": "stdout",
          "output_type": "stream",
          "text": [
            "2\n"
          ]
        }
      ],
      "source": [
        "sentence = \"This is a sample sentence\"\n",
        "count = sentence.count(\"a\")\n",
        "print(count)"
      ]
    },
    {
      "cell_type": "markdown",
      "metadata": {
        "id": "F6JkPvQ656Qw"
      },
      "source": [
        "isupper()\n",
        "\n",
        "islower()\n",
        "\n",
        "isdigit()"
      ]
    },
    {
      "cell_type": "code",
      "execution_count": 13,
      "metadata": {
        "colab": {
          "base_uri": "https://localhost:8080/"
        },
        "id": "FJ8Iyqsm5u6S",
        "outputId": "1d9db078-b6c7-402c-e62b-8babb59158c0"
      },
      "outputs": [
        {
          "data": {
            "text/plain": [
              "True"
            ]
          },
          "execution_count": 13,
          "metadata": {},
          "output_type": "execute_result"
        }
      ],
      "source": [
        "text1 = \"HELLO\"\n",
        "text1.isupper()"
      ]
    },
    {
      "cell_type": "code",
      "execution_count": 14,
      "metadata": {
        "colab": {
          "base_uri": "https://localhost:8080/"
        },
        "id": "Ta2H4P5L6MYC",
        "outputId": "0dd24eea-6a08-4cc1-b2ed-1eab28ee5156"
      },
      "outputs": [
        {
          "data": {
            "text/plain": [
              "False"
            ]
          },
          "execution_count": 14,
          "metadata": {},
          "output_type": "execute_result"
        }
      ],
      "source": [
        "text1.islower()"
      ]
    },
    {
      "cell_type": "code",
      "execution_count": 15,
      "metadata": {
        "colab": {
          "base_uri": "https://localhost:8080/"
        },
        "id": "UpvV9TG06QIh",
        "outputId": "fa4ef4a8-8100-4dc4-96fb-f6e2d593ae77"
      },
      "outputs": [
        {
          "data": {
            "text/plain": [
              "False"
            ]
          },
          "execution_count": 15,
          "metadata": {},
          "output_type": "execute_result"
        }
      ],
      "source": [
        "text1.isdigit()"
      ]
    },
    {
      "cell_type": "code",
      "execution_count": 16,
      "metadata": {
        "colab": {
          "base_uri": "https://localhost:8080/"
        },
        "id": "1pVfjxsV6Uty",
        "outputId": "b7631c46-43c9-49b4-9171-783071d33c76"
      },
      "outputs": [
        {
          "name": "stdout",
          "output_type": "stream",
          "text": [
            "hELLO wORLD! 1234\n"
          ]
        }
      ],
      "source": [
        "text = \"Hello World! 1234\"\n",
        "swapped_text = text.swapcase()\n",
        "print(swapped_text)"
      ]
    },
    {
      "cell_type": "code",
      "execution_count": 1,
      "metadata": {},
      "outputs": [
        {
          "name": "stdout",
          "output_type": "stream",
          "text": [
            "cHETAN sONAWANE\n"
          ]
        }
      ],
      "source": [
        "text_name= \"Chetan Sonawane\"\n",
        "print(text_name.swapcase())"
      ]
    }
  ],
  "metadata": {
    "colab": {
      "provenance": []
    },
    "kernelspec": {
      "display_name": "myenv",
      "language": "python",
      "name": "python3"
    },
    "language_info": {
      "codemirror_mode": {
        "name": "ipython",
        "version": 3
      },
      "file_extension": ".py",
      "mimetype": "text/x-python",
      "name": "python",
      "nbconvert_exporter": "python",
      "pygments_lexer": "ipython3",
      "version": "3.13.1"
    }
  },
  "nbformat": 4,
  "nbformat_minor": 0
}
