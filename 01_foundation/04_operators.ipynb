{
 "cells": [
  {
   "cell_type": "code",
   "execution_count": 1,
   "metadata": {},
   "outputs": [
    {
     "name": "stdout",
     "output_type": "stream",
     "text": [
      "17\n",
      "3\n",
      "70\n",
      "1.4285714285714286\n",
      "1\n",
      "4.2\n",
      "4\n",
      "3\n",
      "10000000\n"
     ]
    }
   ],
   "source": [
    "# arithmetic operators\n",
    "a= 10\n",
    "b= 7\n",
    "\n",
    "print(a+b)\n",
    "print(a-b)\n",
    "print(a*b)\n",
    "print(a/b)\n",
    "\n",
    "print(a//b)     # floor division- removes decimal\n",
    "print(21/5)\n",
    "print(21//5)\n",
    "\n",
    "print(a%b)      # modulus: rem\n",
    "print(a**b)     # expo: to the power"
   ]
  },
  {
   "cell_type": "code",
   "execution_count": 2,
   "metadata": {},
   "outputs": [
    {
     "name": "stdout",
     "output_type": "stream",
     "text": [
      "False\n",
      "True\n",
      "False\n",
      "True\n",
      "False\n",
      "False\n",
      "True\n"
     ]
    }
   ],
   "source": [
    "# comparision operators\n",
    "print(a==b)\n",
    "print(a>b)      # greater than\n",
    "print(a<b)      # less than\n",
    "print(a>=b)\n",
    "print(a<=b)\n",
    "\n",
    "\n",
    "str1= \"chaitanya\"\n",
    "str2= \"Chaitanya\"\n",
    "\n",
    "print(str1==str2)\n",
    "print(str1!=str2)       # not equalto"
   ]
  },
  {
   "cell_type": "code",
   "execution_count": 6,
   "metadata": {},
   "outputs": [
    {
     "name": "stdout",
     "output_type": "stream",
     "text": [
      "False\n",
      "False\n"
     ]
    }
   ],
   "source": [
    "a= 5\n",
    "b= \"5\"\n",
    "\n",
    "print(a==b)\n",
    "print(a==b)"
   ]
  },
  {
   "cell_type": "code",
   "execution_count": 3,
   "metadata": {},
   "outputs": [
    {
     "name": "stdout",
     "output_type": "stream",
     "text": [
      "False\n",
      "True\n",
      "True\n",
      "True\n",
      "False\n"
     ]
    }
   ],
   "source": [
    "# logical operator\n",
    "x= True\n",
    "y= True\n",
    "z=  False\n",
    "\n",
    "# AND\n",
    "print(x and z)\n",
    "print(x and y)\n",
    "\n",
    "# OR\n",
    "print(x or y)\n",
    "print(x or z)\n",
    "\n",
    "# NOt\n",
    "print(not x)"
   ]
  },
  {
   "cell_type": "code",
   "execution_count": null,
   "metadata": {},
   "outputs": [],
   "source": []
  }
 ],
 "metadata": {
  "kernelspec": {
   "display_name": "myenv",
   "language": "python",
   "name": "python3"
  },
  "language_info": {
   "codemirror_mode": {
    "name": "ipython",
    "version": 3
   },
   "file_extension": ".py",
   "mimetype": "text/x-python",
   "name": "python",
   "nbconvert_exporter": "python",
   "pygments_lexer": "ipython3",
   "version": "3.13.1"
  }
 },
 "nbformat": 4,
 "nbformat_minor": 2
}
