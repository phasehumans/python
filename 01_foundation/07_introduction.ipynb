{
  "cells": [
    {
      "cell_type": "markdown",
      "metadata": {
        "id": "_Iv1uDva3Yuj"
      },
      "source": [
        "print() function -> display the output to the screen"
      ]
    },
    {
      "cell_type": "code",
      "execution_count": 1,
      "metadata": {
        "colab": {
          "base_uri": "https://localhost:8080/"
        },
        "id": "h5wskzlIzCCW",
        "outputId": "b1af1359-f326-40de-f3e6-f56d14661536"
      },
      "outputs": [
        {
          "name": "stdout",
          "output_type": "stream",
          "text": [
            "Hello World\n"
          ]
        }
      ],
      "source": [
        "print(\"Hello World\")"
      ]
    },
    {
      "cell_type": "markdown",
      "metadata": {
        "id": "ku3lUZ3t4tuS"
      },
      "source": [
        "'end' parameter: By default, the print function uses 'end' parameter with a new line."
      ]
    },
    {
      "cell_type": "code",
      "execution_count": 2,
      "metadata": {
        "colab": {
          "base_uri": "https://localhost:8080/"
        },
        "id": "GpEcuJGz3n1N",
        "outputId": "c33cc056-caf4-48ff-f4a1-25eb0f70071b"
      },
      "outputs": [
        {
          "name": "stdout",
          "output_type": "stream",
          "text": [
            "Hello\n",
            "World\n"
          ]
        }
      ],
      "source": [
        "print(\"Hello\")\n",
        "print(\"World\")"
      ]
    },
    {
      "cell_type": "code",
      "execution_count": 6,
      "metadata": {
        "colab": {
          "base_uri": "https://localhost:8080/"
        },
        "id": "ViP44imn4STf",
        "outputId": "8d407d34-a820-47a8-f99f-280dcada078a"
      },
      "outputs": [
        {
          "name": "stdout",
          "output_type": "stream",
          "text": [
            "Hello World\n"
          ]
        }
      ],
      "source": [
        "print(\"Hello\", end = \" \")\n",
        "print(\"World\")"
      ]
    },
    {
      "cell_type": "code",
      "execution_count": 7,
      "metadata": {},
      "outputs": [
        {
          "name": "stdout",
          "output_type": "stream",
          "text": [
            "hello\teveryone\n"
          ]
        }
      ],
      "source": [
        "print(\"hello\",end=\"\\t\")\n",
        "print(\"everyone\")"
      ]
    },
    {
      "cell_type": "code",
      "execution_count": 8,
      "metadata": {},
      "outputs": [
        {
          "name": "stdout",
          "output_type": "stream",
          "text": [
            "hello?world\n"
          ]
        }
      ],
      "source": [
        "print(\"hello\", end=\"?\")\n",
        "print(\"world\")"
      ]
    },
    {
      "cell_type": "markdown",
      "metadata": {
        "id": "LXo1XM6d5AcT"
      },
      "source": [
        "Print - Python-Programming"
      ]
    },
    {
      "cell_type": "code",
      "execution_count": 9,
      "metadata": {
        "colab": {
          "base_uri": "https://localhost:8080/"
        },
        "id": "FDrLkdAg4k37",
        "outputId": "e5c23d06-e625-4bb6-cb95-109456b241ae"
      },
      "outputs": [
        {
          "name": "stdout",
          "output_type": "stream",
          "text": [
            "Python-Programming\n"
          ]
        }
      ],
      "source": [
        "print(\"Python\", end=\"-\")\n",
        "print(\"Programming\")"
      ]
    },
    {
      "cell_type": "markdown",
      "metadata": {
        "id": "zxP6kaiv5Za7"
      },
      "source": [
        "'sep' parameter; elmt separation"
      ]
    },
    {
      "cell_type": "code",
      "execution_count": 10,
      "metadata": {
        "colab": {
          "base_uri": "https://localhost:8080/"
        },
        "id": "yN87TkAk5Tfd",
        "outputId": "a2443d30-cb6e-4d22-b2a4-e42d3da060a9"
      },
      "outputs": [
        {
          "name": "stdout",
          "output_type": "stream",
          "text": [
            "apple banana orange\n"
          ]
        }
      ],
      "source": [
        "print(\"apple\", \"banana\", \"orange\")"
      ]
    },
    {
      "cell_type": "code",
      "execution_count": 14,
      "metadata": {},
      "outputs": [
        {
          "name": "stdout",
          "output_type": "stream",
          "text": [
            "7484-9585-8494\n"
          ]
        }
      ],
      "source": [
        "print(7484,9585,8494 ,sep=\"-\")"
      ]
    },
    {
      "cell_type": "code",
      "execution_count": 15,
      "metadata": {
        "colab": {
          "base_uri": "https://localhost:8080/"
        },
        "id": "32MGeCQD5zHU",
        "outputId": "b5a6dfd9-0bac-4f94-9345-feccb914a2e2"
      },
      "outputs": [
        {
          "name": "stdout",
          "output_type": "stream",
          "text": [
            "apple,banana,orange\n"
          ]
        }
      ],
      "source": [
        "print(\"apple\", \"banana\", \"orange\", sep=',')"
      ]
    },
    {
      "cell_type": "markdown",
      "metadata": {
        "id": "X1-JzQXm6qgT"
      },
      "source": [
        "input() function"
      ]
    },
    {
      "cell_type": "code",
      "execution_count": 16,
      "metadata": {
        "colab": {
          "base_uri": "https://localhost:8080/"
        },
        "id": "TpYHG_dr58Lr",
        "outputId": "91d71439-0f36-4e24-8b7d-c9f0f0addd84"
      },
      "outputs": [
        {
          "name": "stdout",
          "output_type": "stream",
          "text": [
            "Hey, my name is Chaitanya\n"
          ]
        }
      ],
      "source": [
        "user_input = input(\"Enter your name: \")\n",
        "print(\"Hey, my name is \" + user_input)"
      ]
    },
    {
      "cell_type": "code",
      "execution_count": 10,
      "metadata": {},
      "outputs": [
        {
          "name": "stdout",
          "output_type": "stream",
          "text": [
            "the name is chetan\n",
            "my name is chetan\n",
            "name is chetan\n"
          ]
        }
      ],
      "source": [
        "name= input(\"enter the name\")\n",
        "print(\"the name is \" + name)\n",
        "\n",
        "print(\"my name is {}\".format(name))\n",
        "\n",
        "print(f\"name is {name}\")\n"
      ]
    },
    {
      "cell_type": "code",
      "execution_count": null,
      "metadata": {},
      "outputs": [
        {
          "name": "stdout",
          "output_type": "stream",
          "text": [
            "age is 20\n",
            "<class 'str'>\n"
          ]
        }
      ],
      "source": [
        "age= input(\"enter age\")\n",
        "print(\"age is\" , age)\n",
        "\n",
        "# by default type as str\n",
        "print(type(age))"
      ]
    },
    {
      "cell_type": "code",
      "execution_count": 12,
      "metadata": {
        "colab": {
          "base_uri": "https://localhost:8080/"
        },
        "id": "WeDMMO_s66BU",
        "outputId": "f6718426-82c2-4228-ec96-062052e27444"
      },
      "outputs": [
        {
          "name": "stdout",
          "output_type": "stream",
          "text": [
            "Chetan Sonawane\n"
          ]
        }
      ],
      "source": [
        "user_input = \"Chetan Sonawane\"\n",
        "print(user_input)"
      ]
    },
    {
      "cell_type": "code",
      "execution_count": 13,
      "metadata": {},
      "outputs": [
        {
          "name": "stdout",
          "output_type": "stream",
          "text": [
            "Chetan Sonawane\n"
          ]
        }
      ],
      "source": [
        "print(user_input)       "
      ]
    },
    {
      "cell_type": "code",
      "execution_count": 14,
      "metadata": {
        "colab": {
          "base_uri": "https://localhost:8080/"
        },
        "id": "aLSlUyDo7rjN",
        "outputId": "f66717d3-c6ab-424e-e86a-17a8a490262c"
      },
      "outputs": [
        {
          "name": "stdout",
          "output_type": "stream",
          "text": [
            "10\n"
          ]
        }
      ],
      "source": [
        "num = 10\n",
        "print(num)"
      ]
    },
    {
      "cell_type": "code",
      "execution_count": 15,
      "metadata": {
        "colab": {
          "base_uri": "https://localhost:8080/"
        },
        "id": "BjB-Fjzt8Rgs",
        "outputId": "3da8d00f-d9e5-46ed-eef7-02dac48d1646"
      },
      "outputs": [
        {
          "name": "stdout",
          "output_type": "stream",
          "text": [
            "15\n"
          ]
        }
      ],
      "source": [
        "num = 15\n",
        "print(num)"
      ]
    },
    {
      "cell_type": "code",
      "execution_count": 5,
      "metadata": {},
      "outputs": [
        {
          "name": "stdout",
          "output_type": "stream",
          "text": [
            "Value of pen is 10 and value of notebook is 20\n"
          ]
        }
      ],
      "source": [
        "# output\n",
        "\n",
        "a = 10\n",
        "b = 20\n",
        "\n",
        "print(f\"Value of pen is {a} and value of notebook is {b}\")\n",
        "\n",
        "# print(\"Value of pen is {} and value of notebook is {}\", )"
      ]
    },
    {
      "cell_type": "markdown",
      "metadata": {
        "id": "1ItfHcz59K9M"
      },
      "source": [
        "Comments"
      ]
    },
    {
      "cell_type": "code",
      "execution_count": 16,
      "metadata": {
        "colab": {
          "base_uri": "https://localhost:8080/"
        },
        "id": "dCsb88WX8V3k",
        "outputId": "0f471a19-bb2c-4c8f-b547-dae956a876ab"
      },
      "outputs": [
        {
          "name": "stdout",
          "output_type": "stream",
          "text": [
            "Hello, World\n"
          ]
        }
      ],
      "source": [
        "# This is a single line comment\n",
        "print(\"Hello, World\")"
      ]
    },
    {
      "cell_type": "code",
      "execution_count": 8,
      "metadata": {
        "colab": {
          "base_uri": "https://localhost:8080/"
        },
        "id": "sFwrVUaB9yqU",
        "outputId": "fef089c2-81e9-4158-d887-2497ec94ef75"
      },
      "outputs": [
        {
          "name": "stdout",
          "output_type": "stream",
          "text": [
            "Hello, World\n"
          ]
        }
      ],
      "source": [
        "'''\n",
        "This is a multi-line comment, it is enclosed within triple quotes.\n",
        "This is useful mainly for documenting larger sections of the code\n",
        "'''\n",
        "print(\"Hello, World\")\n"
      ]
    },
    {
      "cell_type": "markdown",
      "metadata": {
        "id": "cjmlDX1a-Z9U"
      },
      "source": [
        "Indentation: structure of the code block"
      ]
    },
    {
      "cell_type": "code",
      "execution_count": 18,
      "metadata": {
        "colab": {
          "base_uri": "https://localhost:8080/"
        },
        "id": "agAbpk1D-KEU",
        "outputId": "1df78627-3b52-40db-ed65-b7c239c2f407"
      },
      "outputs": [
        {
          "name": "stdout",
          "output_type": "stream",
          "text": [
            "x is greater than 3\n"
          ]
        }
      ],
      "source": [
        "x = 5\n",
        "if x > 3:\n",
        "  print(\"x is greater than 3\")"
      ]
    },
    {
      "cell_type": "code",
      "execution_count": 19,
      "metadata": {
        "colab": {
          "base_uri": "https://localhost:8080/"
        },
        "id": "8puzi80P-6Lt",
        "outputId": "09c0e0b4-2e29-4207-d67c-306f46e8f12b"
      },
      "outputs": [
        {
          "name": "stdout",
          "output_type": "stream",
          "text": [
            "10\n",
            "20\n",
            "30\n"
          ]
        }
      ],
      "source": [
        "x, y, z = 10, 20, 30\n",
        "print(x)\n",
        "print(y)\n",
        "print(z)"
      ]
    },
    {
      "cell_type": "code",
      "execution_count": 20,
      "metadata": {
        "colab": {
          "base_uri": "https://localhost:8080/"
        },
        "id": "ZLS_5GSRA8yU",
        "outputId": "19ddb083-8f8c-4a16-fea5-0dedc548f8ed"
      },
      "outputs": [
        {
          "name": "stdout",
          "output_type": "stream",
          "text": [
            "Hello\n",
            "Hello\n",
            "Hello\n"
          ]
        }
      ],
      "source": [
        "x = y = z = \"Hello\"\n",
        "print(x)\n",
        "print(y)\n",
        "print(z)"
      ]
    },
    {
      "cell_type": "markdown",
      "metadata": {
        "id": "9bvrN1x8B3w9"
      },
      "source": [
        "Data type: nature of the data that any variable can hold"
      ]
    },
    {
      "cell_type": "markdown",
      "metadata": {
        "id": "--vpgDJxCDYg"
      },
      "source": [
        "Numbers"
      ]
    },
    {
      "cell_type": "code",
      "execution_count": null,
      "metadata": {
        "id": "h0aC7zDhBKul"
      },
      "outputs": [],
      "source": [
        "x = 10 ## int\n",
        "y = 3.14 ## float\n",
        "z = 2 + 3j ## complex (j is imaginary, only use j)"
      ]
    },
    {
      "cell_type": "code",
      "execution_count": 22,
      "metadata": {
        "colab": {
          "base_uri": "https://localhost:8080/"
        },
        "id": "dNXUZNI1COFt",
        "outputId": "8745fa05-2029-4459-ff8d-d49ec5ee6099"
      },
      "outputs": [
        {
          "data": {
            "text/plain": [
              "complex"
            ]
          },
          "execution_count": 22,
          "metadata": {},
          "output_type": "execute_result"
        }
      ],
      "source": [
        "type(z)"
      ]
    },
    {
      "cell_type": "code",
      "execution_count": 23,
      "metadata": {
        "colab": {
          "base_uri": "https://localhost:8080/"
        },
        "id": "BRUwXQCYCPiF",
        "outputId": "39d5f4a3-9705-4e6c-d533-2ffc35b35032"
      },
      "outputs": [
        {
          "data": {
            "text/plain": [
              "float"
            ]
          },
          "execution_count": 23,
          "metadata": {},
          "output_type": "execute_result"
        }
      ],
      "source": [
        "type(y)"
      ]
    },
    {
      "cell_type": "code",
      "execution_count": 24,
      "metadata": {
        "colab": {
          "base_uri": "https://localhost:8080/"
        },
        "id": "jNL0phYeCVSM",
        "outputId": "f4d14c6a-5753-4934-d51d-e86b186cf3e7"
      },
      "outputs": [
        {
          "data": {
            "text/plain": [
              "int"
            ]
          },
          "execution_count": 24,
          "metadata": {},
          "output_type": "execute_result"
        }
      ],
      "source": [
        "type(x)"
      ]
    },
    {
      "cell_type": "code",
      "execution_count": 25,
      "metadata": {
        "colab": {
          "base_uri": "https://localhost:8080/"
        },
        "id": "RW-Yc8nsCWd0",
        "outputId": "2fbc3f91-bc8c-4a96-92d6-049b9c839131"
      },
      "outputs": [
        {
          "data": {
            "text/plain": [
              "2.0"
            ]
          },
          "execution_count": 25,
          "metadata": {},
          "output_type": "execute_result"
        }
      ],
      "source": [
        "z.real"
      ]
    },
    {
      "cell_type": "code",
      "execution_count": 26,
      "metadata": {
        "colab": {
          "base_uri": "https://localhost:8080/"
        },
        "id": "64ig2wRWCdmc",
        "outputId": "b9d4b88f-4531-4d6b-9090-abe2215122dd"
      },
      "outputs": [
        {
          "data": {
            "text/plain": [
              "3.0"
            ]
          },
          "execution_count": 26,
          "metadata": {},
          "output_type": "execute_result"
        }
      ],
      "source": [
        "z.imag"
      ]
    },
    {
      "cell_type": "code",
      "execution_count": 9,
      "metadata": {},
      "outputs": [
        {
          "name": "stdout",
          "output_type": "stream",
          "text": [
            "(2+9j)\n",
            "2.0\n",
            "9.0\n"
          ]
        }
      ],
      "source": [
        "cmplx= 2+ 9j\n",
        "print(cmplx)\n",
        "print(cmplx.real)\n",
        "print(cmplx.imag)"
      ]
    },
    {
      "cell_type": "markdown",
      "metadata": {
        "id": "MybekpjzCpXM"
      },
      "source": [
        "String: sequence of characters enclosed within single or double quotes"
      ]
    },
    {
      "cell_type": "code",
      "execution_count": 14,
      "metadata": {
        "colab": {
          "base_uri": "https://localhost:8080/"
        },
        "id": "IFsjhFKmCerD",
        "outputId": "7a498fef-9b4c-4ac5-c7e9-a0cda34e6640"
      },
      "outputs": [
        {
          "data": {
            "text/plain": [
              "str"
            ]
          },
          "execution_count": 14,
          "metadata": {},
          "output_type": "execute_result"
        }
      ],
      "source": [
        "name = \"john\"\n",
        "type(name)"
      ]
    },
    {
      "cell_type": "code",
      "execution_count": 16,
      "metadata": {},
      "outputs": [
        {
          "data": {
            "text/plain": [
              "bool"
            ]
          },
          "execution_count": 16,
          "metadata": {},
          "output_type": "execute_result"
        }
      ],
      "source": [
        "isverified= False\n",
        "type(isverified)"
      ]
    }
  ],
  "metadata": {
    "colab": {
      "provenance": []
    },
    "kernelspec": {
      "display_name": "Python 3",
      "language": "python",
      "name": "python3"
    },
    "language_info": {
      "codemirror_mode": {
        "name": "ipython",
        "version": 3
      },
      "file_extension": ".py",
      "mimetype": "text/x-python",
      "name": "python",
      "nbconvert_exporter": "python",
      "pygments_lexer": "ipython3",
      "version": "3.13.1"
    }
  },
  "nbformat": 4,
  "nbformat_minor": 0
}
