{
 "cells": [
  {
   "cell_type": "code",
   "execution_count": 2,
   "id": "5ba0dde5",
   "metadata": {},
   "outputs": [
    {
     "name": "stdout",
     "output_type": "stream",
     "text": [
      "<class 'dict'>\n"
     ]
    }
   ],
   "source": [
    "# dictionaries (object): unordered collection of items,\n",
    "# data is stored in key-value pairs. (mutable)\n",
    "# index is replace w/ key\n",
    "# similar to obj in js\n",
    "\n",
    "emp_dict = {\n",
    "\n",
    "}\n",
    "print(type(emp_dict))"
   ]
  },
  {
   "cell_type": "code",
   "execution_count": 12,
   "id": "122f9013",
   "metadata": {},
   "outputs": [
    {
     "name": "stdout",
     "output_type": "stream",
     "text": [
      "{'name': 'Chaitanya', 'age': 21, 'height': '6feet'}\n"
     ]
    }
   ],
   "source": [
    "student= {\n",
    "    \"name\": \"Chaitanya\",\n",
    "    \"age\": 21,\n",
    "    \"height\": \"6feet\"\n",
    "}\n",
    "\n",
    "print(student)\n"
   ]
  },
  {
   "cell_type": "code",
   "execution_count": null,
   "id": "5cb4c3fb",
   "metadata": {},
   "outputs": [
    {
     "name": "stdout",
     "output_type": "stream",
     "text": [
      "6feet\n",
      "21\n",
      "near 67kg\n"
     ]
    }
   ],
   "source": [
    "# acess keys\n",
    "print(student[\"height\"])\n",
    "print(student.get(\"age\"))\n",
    "print(student.get(\"weight\" , \"near 67kg\"))          #if not then default value"
   ]
  },
  {
   "cell_type": "code",
   "execution_count": 16,
   "id": "2bbdd4de",
   "metadata": {},
   "outputs": [
    {
     "name": "stdout",
     "output_type": "stream",
     "text": [
      "{'name': 'Chaitanya', 'age': 20}\n"
     ]
    }
   ],
   "source": [
    "# dict is mutable, CRUD opt\n",
    "student[\"age\"]= 20\n",
    "del student[\"height\"]\n",
    "\n",
    "print(student)"
   ]
  },
  {
   "cell_type": "code",
   "execution_count": 18,
   "id": "2b8c831c",
   "metadata": {},
   "outputs": [
    {
     "name": "stdout",
     "output_type": "stream",
     "text": [
      "dict_keys(['name', 'age'])\n",
      "dict_values(['Chaitanya', 20])\n",
      "dict_items([('name', 'Chaitanya'), ('age', 20)])\n"
     ]
    }
   ],
   "source": [
    "# dict methods\n",
    "kys= student.keys()\n",
    "print(kys)\n",
    "\n",
    "vls= student.values()\n",
    "print(vls)\n",
    "\n",
    "itms= student.items()\n",
    "print(itms)"
   ]
  },
  {
   "cell_type": "code",
   "execution_count": 22,
   "id": "816a8768",
   "metadata": {},
   "outputs": [
    {
     "name": "stdout",
     "output_type": "stream",
     "text": [
      "{'name': 'Chaitanya', 'age': 20}\n",
      "{'name': 'Chetan', 'age': 20}\n",
      "{'name': 'Chetan', 'age': 20}\n"
     ]
    }
   ],
   "source": [
    "# shallow copy\n",
    "student_copy= student\n",
    "\n",
    "print(student_copy)\n",
    "student[\"name\"]= \"Chetan\"\n",
    "\n",
    "print(student)\n",
    "print(student_copy)"
   ]
  },
  {
   "cell_type": "code",
   "execution_count": null,
   "id": "dae62636",
   "metadata": {},
   "outputs": [],
   "source": []
  }
 ],
 "metadata": {
  "kernelspec": {
   "display_name": "myenv",
   "language": "python",
   "name": "python3"
  },
  "language_info": {
   "codemirror_mode": {
    "name": "ipython",
    "version": 3
   },
   "file_extension": ".py",
   "mimetype": "text/x-python",
   "name": "python",
   "nbconvert_exporter": "python",
   "pygments_lexer": "ipython3",
   "version": "3.13.1"
  }
 },
 "nbformat": 4,
 "nbformat_minor": 5
}
