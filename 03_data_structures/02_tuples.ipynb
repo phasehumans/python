{
 "cells": [
  {
   "cell_type": "code",
   "execution_count": 1,
   "id": "ff0a2686",
   "metadata": {},
   "outputs": [
    {
     "name": "stdout",
     "output_type": "stream",
     "text": [
      "<class 'tuple'>\n",
      "()\n"
     ]
    }
   ],
   "source": [
    "# tuple: immutable (can't change)\n",
    "# tuple is faster (less flexible); immutable reduce overhead (changes track)\n",
    "\n",
    "tuple_ex=()\n",
    "print(type(tuple_ex))\n",
    "print(tuple_ex)"
   ]
  },
  {
   "cell_type": "code",
   "execution_count": 2,
   "id": "a4ef98a5",
   "metadata": {},
   "outputs": [
    {
     "name": "stdout",
     "output_type": "stream",
     "text": [
      "(1, 2, 3, 4, 5)\n",
      "[1, 2, 3, 4, 5]\n"
     ]
    }
   ],
   "source": [
    "number= (1,2,3,4,5)\n",
    "print(number)\n",
    "number_list=[1,2,3,4,5]\n",
    "print(number_list)"
   ]
  },
  {
   "cell_type": "code",
   "execution_count": null,
   "id": "00c1d446",
   "metadata": {},
   "outputs": [
    {
     "name": "stdout",
     "output_type": "stream",
     "text": [
      "(1, 2, 4, 55, 6, 7, 88)\n",
      "1\n",
      "2\n",
      "4\n",
      "55\n",
      "6\n",
      "7\n",
      "88\n"
     ]
    }
   ],
   "source": [
    "st1= (1,2,4,55,6,7,88)\n",
    "\n",
    "print(st1)\n",
    "\n",
    "# iteration on tuple\n",
    "for i in st1:\n",
    "    print(i)"
   ]
  },
  {
   "cell_type": "code",
   "execution_count": 5,
   "id": "e55b5ecf",
   "metadata": {},
   "outputs": [
    {
     "name": "stdout",
     "output_type": "stream",
     "text": [
      "[1, 2, 3, 4, 5]\n",
      "[1, 2, 40, 4, 5]\n"
     ]
    }
   ],
   "source": [
    "# lists are mutable\n",
    "lst= [1,2,3,4,5]\n",
    "print(lst)\n",
    "\n",
    "lst[2]= 40\n",
    "print(lst)"
   ]
  },
  {
   "cell_type": "code",
   "execution_count": null,
   "id": "c09a516a",
   "metadata": {},
   "outputs": [
    {
     "name": "stdout",
     "output_type": "stream",
     "text": [
      "(1, 2, 3, 4, 5)\n"
     ]
    },
    {
     "ename": "TypeError",
     "evalue": "'tuple' object does not support item assignment",
     "output_type": "error",
     "traceback": [
      "\u001b[31m---------------------------------------------------------------------------\u001b[39m",
      "\u001b[31mTypeError\u001b[39m                                 Traceback (most recent call last)",
      "\u001b[36mCell\u001b[39m\u001b[36m \u001b[39m\u001b[32mIn[6]\u001b[39m\u001b[32m, line 5\u001b[39m\n\u001b[32m      2\u001b[39m tpl= (\u001b[32m1\u001b[39m,\u001b[32m2\u001b[39m,\u001b[32m3\u001b[39m,\u001b[32m4\u001b[39m,\u001b[32m5\u001b[39m)\n\u001b[32m      3\u001b[39m \u001b[38;5;28mprint\u001b[39m(tpl)\n\u001b[32m----> \u001b[39m\u001b[32m5\u001b[39m \u001b[43mtpl\u001b[49m\u001b[43m[\u001b[49m\u001b[32;43m2\u001b[39;49m\u001b[43m]\u001b[49m= \u001b[32m60\u001b[39m\n\u001b[32m      6\u001b[39m \u001b[38;5;28mprint\u001b[39m(tpl)\n",
      "\u001b[31mTypeError\u001b[39m: 'tuple' object does not support item assignment"
     ]
    }
   ],
   "source": [
    "# tuple are immutable\n",
    "tpl= (1,2,3,4,5)\n",
    "print(tpl)\n",
    "\n",
    "# TypeError: 'tuple' object does not support item assignment\n",
    "tpl[2]= 60  \n",
    "print(tpl)\n"
   ]
  },
  {
   "cell_type": "code",
   "execution_count": 7,
   "id": "dc3a13a5",
   "metadata": {},
   "outputs": [
    {
     "name": "stdout",
     "output_type": "stream",
     "text": [
      "1\n",
      "0\n"
     ]
    }
   ],
   "source": [
    "# tuple methods\n",
    "print(tpl.count(2))\n",
    "print(tpl.index(1))     "
   ]
  },
  {
   "cell_type": "code",
   "execution_count": 10,
   "id": "84d7af67",
   "metadata": {},
   "outputs": [
    {
     "name": "stdout",
     "output_type": "stream",
     "text": [
      "3\n",
      "1\n",
      "1\n",
      "11\n"
     ]
    }
   ],
   "source": [
    "num= (1,34,5,7,9,0,22, 2,2,2,0, \"apple\")\n",
    "\n",
    "print(num.count(2))\n",
    "print(num.count(\"apple\"))\n",
    "print(num.index(34))\n",
    "print(num.index(\"apple\"))"
   ]
  },
  {
   "cell_type": "code",
   "execution_count": null,
   "id": "53f4f290",
   "metadata": {},
   "outputs": [],
   "source": []
  }
 ],
 "metadata": {
  "kernelspec": {
   "display_name": "myenv",
   "language": "python",
   "name": "python3"
  },
  "language_info": {
   "codemirror_mode": {
    "name": "ipython",
    "version": 3
   },
   "file_extension": ".py",
   "mimetype": "text/x-python",
   "name": "python",
   "nbconvert_exporter": "python",
   "pygments_lexer": "ipython3",
   "version": "3.13.1"
  }
 },
 "nbformat": 4,
 "nbformat_minor": 5
}
