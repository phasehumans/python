{
  "cells": [
    {
      "cell_type": "markdown",
      "metadata": {
        "id": "HD7Bjcm_oiaC"
      },
      "source": [
        "## Tuple\n",
        "- ordered and immutable \n",
        "- hetro elmt"
      ]
    },
    {
      "cell_type": "code",
      "execution_count": 2,
      "metadata": {
        "colab": {
          "base_uri": "https://localhost:8080/"
        },
        "id": "6n8V-ec0odvf",
        "outputId": "7036fc84-4854-4ae1-a006-d804ca71ce54"
      },
      "outputs": [
        {
          "data": {
            "text/plain": [
              "tuple"
            ]
          },
          "execution_count": 2,
          "metadata": {},
          "output_type": "execute_result"
        }
      ],
      "source": [
        "my_tuple = (1, 2, 3)\n",
        "type(my_tuple)"
      ]
    },
    {
      "cell_type": "code",
      "execution_count": 3,
      "metadata": {
        "colab": {
          "base_uri": "https://localhost:8080/"
        },
        "id": "Q5H7KZBdo34E",
        "outputId": "5504fb1f-8fbc-4dc3-f7aa-bf43e872e28c"
      },
      "outputs": [
        {
          "data": {
            "text/plain": [
              "2"
            ]
          },
          "execution_count": 3,
          "metadata": {},
          "output_type": "execute_result"
        }
      ],
      "source": [
        "my_tuple[1]"
      ]
    },
    {
      "cell_type": "markdown",
      "metadata": {
        "id": "CVH0_WjZq8YL"
      },
      "source": [
        "Access the elements and Slicing Operations"
      ]
    },
    {
      "cell_type": "code",
      "execution_count": 4,
      "metadata": {
        "colab": {
          "base_uri": "https://localhost:8080/"
        },
        "id": "9wU66ndRpH60",
        "outputId": "a1c17dc7-e3c4-4fb9-ba11-7b2601f260b0"
      },
      "outputs": [
        {
          "name": "stdout",
          "output_type": "stream",
          "text": [
            "[1, 2, 3]\n",
            "apple\n",
            "2\n"
          ]
        }
      ],
      "source": [
        "tuple1 = ('apple', 123, True, 3.14, [1, 2, 3])\n",
        "print(tuple1[-1])\n",
        "print(tuple1[0])\n",
        "print(tuple1[-1][1])"
      ]
    },
    {
      "cell_type": "code",
      "execution_count": 5,
      "metadata": {
        "colab": {
          "base_uri": "https://localhost:8080/"
        },
        "id": "a-quvmATrgg0",
        "outputId": "94b2ccbf-8d66-47a6-b707-13d4810e24e3"
      },
      "outputs": [
        {
          "name": "stdout",
          "output_type": "stream",
          "text": [
            "3\n",
            "1\n",
            "1\n"
          ]
        }
      ],
      "source": [
        "print(tuple1[-1][-1])\n",
        "print(tuple1[-1][-3])\n",
        "print(tuple1[-1][0])"
      ]
    },
    {
      "cell_type": "code",
      "execution_count": 6,
      "metadata": {
        "colab": {
          "base_uri": "https://localhost:8080/"
        },
        "id": "pxQie1gtpiO7",
        "outputId": "3625c954-f9f6-4ad7-eec4-059414621bb8"
      },
      "outputs": [
        {
          "name": "stdout",
          "output_type": "stream",
          "text": [
            "(123, True, 3.14)\n"
          ]
        }
      ],
      "source": [
        "print(tuple1[1:4])"
      ]
    },
    {
      "cell_type": "code",
      "execution_count": 7,
      "metadata": {
        "colab": {
          "base_uri": "https://localhost:8080/"
        },
        "id": "WqxZ5iB3qHr9",
        "outputId": "cf7c80e9-c18d-4756-c3f3-43962e7aa1c7"
      },
      "outputs": [
        {
          "name": "stdout",
          "output_type": "stream",
          "text": [
            "('apple', 123, True, 3.14)\n"
          ]
        }
      ],
      "source": [
        "print(tuple1[:-1])"
      ]
    },
    {
      "cell_type": "code",
      "execution_count": 8,
      "metadata": {
        "colab": {
          "base_uri": "https://localhost:8080/"
        },
        "id": "bbBKl_Pbqqs8",
        "outputId": "2b90a5f9-c0fa-4451-e00b-86118fa93479"
      },
      "outputs": [
        {
          "name": "stdout",
          "output_type": "stream",
          "text": [
            "([1, 2, 3], 3.14, True, 123, 'apple')\n"
          ]
        }
      ],
      "source": [
        "print(tuple1[::-1])\n",
        "# stepsize -1 is reverse"
      ]
    },
    {
      "cell_type": "code",
      "execution_count": 9,
      "metadata": {},
      "outputs": [
        {
          "name": "stdout",
          "output_type": "stream",
          "text": [
            "2\n"
          ]
        }
      ],
      "source": [
        "print(tuple1[-1][-2])"
      ]
    },
    {
      "cell_type": "markdown",
      "metadata": {
        "id": "RHd5VfZ6sH3y"
      },
      "source": [
        "Convert tuple into a list"
      ]
    },
    {
      "cell_type": "code",
      "execution_count": 25,
      "metadata": {
        "colab": {
          "base_uri": "https://localhost:8080/"
        },
        "id": "3v-046rEsK-i",
        "outputId": "1c1f255b-9de1-4f3e-d6a2-a0f21567ac2a"
      },
      "outputs": [
        {
          "name": "stdout",
          "output_type": "stream",
          "text": [
            "('Shubham', 'Preeti', 'Rashmi', 'Ajay', 'Riya')\n",
            "['Shubham', 'Preeti', 'Rashmi', 'Ajay', 'Riya']\n"
          ]
        }
      ],
      "source": [
        "tuple2 = ('Shubham', 'Preeti', 'Rashmi', 'Ajay', 'Riya')\n",
        "list1 = list(tuple2)    \n",
        "\n",
        "tuple2= tuple(list1)\n",
        "print(tuple2)\n",
        "print(list1)"
      ]
    },
    {
      "cell_type": "code",
      "execution_count": 26,
      "metadata": {
        "colab": {
          "base_uri": "https://localhost:8080/"
        },
        "id": "lfM0aFvzs5TS",
        "outputId": "c6c90032-c428-4968-eb75-140039179f10"
      },
      "outputs": [
        {
          "name": "stdout",
          "output_type": "stream",
          "text": [
            "['Shubham', 'Preeti', 'Rashmi', 'Ajay', 'Riya', 'Sushil', 'Jitender', 'Priya', 'Chaitanya']\n"
          ]
        }
      ],
      "source": [
        "# appends add 1 elmt & extend adds multi\n",
        "\n",
        "list1.extend([\"Sushil\", \"Jitender\", \"Priya\", \"Chaitanya\"])\n",
        "print(list1)"
      ]
    },
    {
      "cell_type": "code",
      "execution_count": 27,
      "metadata": {
        "id": "oDg-DQM_tVWS"
      },
      "outputs": [],
      "source": [
        "tuple2 = tuple(list1)"
      ]
    },
    {
      "cell_type": "code",
      "execution_count": 28,
      "metadata": {
        "colab": {
          "base_uri": "https://localhost:8080/"
        },
        "id": "eJQnb0lUtema",
        "outputId": "9e8a1474-ab29-4a00-b161-54c7e699824a"
      },
      "outputs": [
        {
          "name": "stdout",
          "output_type": "stream",
          "text": [
            "('Shubham', 'Preeti', 'Rashmi', 'Ajay', 'Riya', 'Sushil', 'Jitender', 'Priya', 'Chaitanya')\n"
          ]
        }
      ],
      "source": [
        "print(tuple2)"
      ]
    },
    {
      "cell_type": "markdown",
      "metadata": {
        "id": "Xw4rswhJrB6a"
      },
      "source": [
        "Built-in Functions"
      ]
    },
    {
      "cell_type": "code",
      "execution_count": null,
      "metadata": {
        "colab": {
          "base_uri": "https://localhost:8080/"
        },
        "id": "AGZihMNFq0ns",
        "outputId": "5f23e11e-a26e-435f-cb36-cf5389c98001"
      },
      "outputs": [
        {
          "name": "stdout",
          "output_type": "stream",
          "text": [
            "(1, 2, 3)\n",
            "1\n",
            "3\n"
          ]
        }
      ],
      "source": [
        "print(my_tuple)\n",
        "\n",
        "min_element = min(my_tuple)\n",
        "max_element = max(my_tuple)\n",
        "\n",
        "print(min_element)\n",
        "print(max_element)"
      ]
    },
    {
      "cell_type": "code",
      "execution_count": 15,
      "metadata": {
        "colab": {
          "base_uri": "https://localhost:8080/"
        },
        "id": "_vxmYHbLrTMT",
        "outputId": "998b96f7-4bf3-42c4-81ae-54060d5e4984"
      },
      "outputs": [
        {
          "name": "stdout",
          "output_type": "stream",
          "text": [
            "6\n"
          ]
        }
      ],
      "source": [
        "sum_element = sum(my_tuple)\n",
        "print(sum_element)"
      ]
    },
    {
      "cell_type": "code",
      "execution_count": 16,
      "metadata": {
        "colab": {
          "base_uri": "https://localhost:8080/"
        },
        "id": "FSQeYW09sC_M",
        "outputId": "20e48b2f-1885-4c71-df30-1c628877d248"
      },
      "outputs": [
        {
          "name": "stdout",
          "output_type": "stream",
          "text": [
            "2\n"
          ]
        }
      ],
      "source": [
        "tuple3 = (1, 2, 3, 4, 5, 3, 7, 8, 11, 12, 9, 2)\n",
        "## frequency of any given element\n",
        "count_2 = tuple3.count(2)\n",
        "print(count_2)"
      ]
    },
    {
      "cell_type": "code",
      "execution_count": 17,
      "metadata": {
        "colab": {
          "base_uri": "https://localhost:8080/"
        },
        "id": "7KPvIUDrt-jl",
        "outputId": "a0399ee5-1b1b-48c2-c858-3e3d6b59f52e"
      },
      "outputs": [
        {
          "name": "stdout",
          "output_type": "stream",
          "text": [
            "1\n"
          ]
        }
      ],
      "source": [
        "pos = tuple3.index(2)\n",
        "print(pos)"
      ]
    },
    {
      "cell_type": "code",
      "execution_count": 30,
      "metadata": {
        "colab": {
          "base_uri": "https://localhost:8080/",
          "height": 159
        },
        "id": "zBYEGoVJuVqm",
        "outputId": "a67d62ea-3d3e-4ba7-d248-cc4c29e9d548"
      },
      "outputs": [
        {
          "name": "stdout",
          "output_type": "stream",
          "text": [
            "7\n"
          ]
        }
      ],
      "source": [
        "pos = tuple3.index(8)\n",
        "print(pos)"
      ]
    },
    {
      "cell_type": "code",
      "execution_count": 31,
      "metadata": {
        "colab": {
          "base_uri": "https://localhost:8080/"
        },
        "id": "tEjkT_NqugIL",
        "outputId": "7a921cb2-97e8-468b-b0de-def684eeaf15"
      },
      "outputs": [
        {
          "data": {
            "text/plain": [
              "int"
            ]
          },
          "execution_count": 31,
          "metadata": {},
          "output_type": "execute_result"
        }
      ],
      "source": [
        "tup = (1)\n",
        "list1 = [1]\n",
        "type(tup)"
      ]
    },
    {
      "cell_type": "code",
      "execution_count": 32,
      "metadata": {
        "colab": {
          "base_uri": "https://localhost:8080/"
        },
        "id": "UrSr4rSOurgq",
        "outputId": "e9e2ef7c-c256-4a75-bc3b-a1ca98c3c1d8"
      },
      "outputs": [
        {
          "name": "stdout",
          "output_type": "stream",
          "text": [
            "(2,)\n"
          ]
        },
        {
          "data": {
            "text/plain": [
              "tuple"
            ]
          },
          "execution_count": 32,
          "metadata": {},
          "output_type": "execute_result"
        }
      ],
      "source": [
        "tuple4 = (2, )\n",
        "print(tuple4)\n",
        "type(tuple4)"
      ]
    },
    {
      "cell_type": "code",
      "execution_count": 33,
      "metadata": {
        "colab": {
          "base_uri": "https://localhost:8080/"
        },
        "id": "t9WJ-oIHuwoC",
        "outputId": "3289c7e5-7eb8-4eeb-f936-9a45e33e70af"
      },
      "outputs": [
        {
          "data": {
            "text/plain": [
              "(1, 2, 3)"
            ]
          },
          "execution_count": 33,
          "metadata": {},
          "output_type": "execute_result"
        }
      ],
      "source": [
        "my_tuple"
      ]
    },
    {
      "cell_type": "code",
      "execution_count": null,
      "metadata": {
        "colab": {
          "base_uri": "https://localhost:8080/"
        },
        "id": "oOtkk04FvPr7",
        "outputId": "27cca21c-4b63-4684-d739-286655961f37"
      },
      "outputs": [
        {
          "name": "stdout",
          "output_type": "stream",
          "text": [
            "1\n",
            "2\n",
            "3\n"
          ]
        }
      ],
      "source": [
        "a, b, c = my_tuple\n",
        "print(a)\n",
        "print(b)\n",
        "print(c)"
      ]
    },
    {
      "cell_type": "code",
      "execution_count": null,
      "metadata": {},
      "outputs": [
        {
          "name": "stdout",
          "output_type": "stream",
          "text": [
            "4\n"
          ]
        }
      ],
      "source": [
        "unpack= (1,2,4,5)\n",
        "a,b,c,d = unpack\n",
        "\n",
        "print(c)"
      ]
    },
    {
      "cell_type": "code",
      "execution_count": null,
      "metadata": {
        "colab": {
          "base_uri": "https://localhost:8080/"
        },
        "id": "750PoM6nvZYy",
        "outputId": "f3894c21-8886-4dd5-d1e8-5f9640586561"
      },
      "outputs": [
        {
          "name": "stdout",
          "output_type": "stream",
          "text": [
            "1\n",
            "[2, 3, 4, 5, 6]\n",
            "7\n"
          ]
        }
      ],
      "source": [
        "my_tuple = (1, 2, 3, 4, 5, 6, 7)\n",
        "a, *b, c = my_tuple\n",
        "print(a)\n",
        "print(b)\n",
        "print(c)\n",
        "\n",
        "#  remain values are store in *"
      ]
    },
    {
      "cell_type": "code",
      "execution_count": 37,
      "metadata": {
        "colab": {
          "base_uri": "https://localhost:8080/"
        },
        "id": "MYvmy__cvvPS",
        "outputId": "0c88ff03-4402-4dbc-930a-364399146efe"
      },
      "outputs": [
        {
          "name": "stdout",
          "output_type": "stream",
          "text": [
            "(1, 2, 3, 'a', 'b', 'c')\n"
          ]
        }
      ],
      "source": [
        "tuple1 = (1, 2, 3)\n",
        "tuple2 = ('a', 'b', 'c')\n",
        "\n",
        "combined_tuple = tuple1 + tuple2\n",
        "print(combined_tuple)"
      ]
    },
    {
      "cell_type": "code",
      "execution_count": 40,
      "metadata": {
        "colab": {
          "base_uri": "https://localhost:8080/"
        },
        "id": "RMNQ3Wh9wIaa",
        "outputId": "6db20bbe-70d7-46c3-a3c0-feae1adecc62"
      },
      "outputs": [
        {
          "name": "stdout",
          "output_type": "stream",
          "text": [
            "(1, 2, 3, 7)\n"
          ]
        }
      ],
      "source": [
        "tuple1 = (1, 2, 3)\n",
        "tuple2 = (7, )\n",
        "\n",
        "combined_tuple = tuple1 + tuple2\n",
        "print(combined_tuple)"
      ]
    },
    {
      "cell_type": "code",
      "execution_count": 47,
      "metadata": {
        "colab": {
          "base_uri": "https://localhost:8080/"
        },
        "id": "tc4b5POCwRQV",
        "outputId": "6423f70c-bb4d-4a52-c89f-a14fff394079"
      },
      "outputs": [
        {
          "name": "stdout",
          "output_type": "stream",
          "text": [
            "<class 'int'>\n"
          ]
        },
        {
          "data": {
            "text/plain": [
              "tuple"
            ]
          },
          "execution_count": 47,
          "metadata": {},
          "output_type": "execute_result"
        }
      ],
      "source": [
        "## this is not a tuple\n",
        "tuple3 = (7)\n",
        "print(type(tuple3))\n",
        "\n",
        "tuple2 = (7, )\n",
        "type(tuple2)"
      ]
    },
    {
      "cell_type": "code",
      "execution_count": null,
      "metadata": {
        "colab": {
          "base_uri": "https://localhost:8080/"
        },
        "id": "9cL18X5p1D_J",
        "outputId": "0a0efea7-08e0-4767-986a-3031643f3be6"
      },
      "outputs": [
        {
          "name": "stdout",
          "output_type": "stream",
          "text": [
            "[1]\n"
          ]
        }
      ],
      "source": [
        "list1 = [1]\n",
        "print(list1)"
      ]
    },
    {
      "cell_type": "code",
      "execution_count": null,
      "metadata": {
        "colab": {
          "base_uri": "https://localhost:8080/"
        },
        "id": "2h-VL-W11Hoj",
        "outputId": "52ed0380-ff03-4f18-fd41-672d000efe31"
      },
      "outputs": [
        {
          "data": {
            "text/plain": [
              "list"
            ]
          },
          "execution_count": 44,
          "metadata": {},
          "output_type": "execute_result"
        }
      ],
      "source": [
        "type(list1)"
      ]
    },
    {
      "cell_type": "markdown",
      "metadata": {},
      "source": [
        "- list: mutable slow [ ]\n",
        "- tuple: immutable fast ( )"
      ]
    },
    {
      "cell_type": "markdown",
      "metadata": {
        "id": "93BMPU5qzcQK"
      },
      "source": [
        "## Sets\n",
        "- collection of unique elmt\n",
        "- unorder (no seq)\n",
        "- mutable\n",
        "- unindex\n",
        "- duplicates are not allowed"
      ]
    },
    {
      "cell_type": "code",
      "execution_count": 65,
      "metadata": {
        "id": "mbjHmKo7wzsK"
      },
      "outputs": [],
      "source": [
        "set1 = set() ## Empty set\n",
        "set2 = {1, 2, 3}\n",
        "set3 = {1, \"One\", 3.4}"
      ]
    },
    {
      "cell_type": "code",
      "execution_count": 49,
      "metadata": {
        "colab": {
          "base_uri": "https://localhost:8080/"
        },
        "id": "sm9anV-ez38s",
        "outputId": "73a27227-b9a9-4d35-8c64-4cf8cd5d5299"
      },
      "outputs": [
        {
          "name": "stdout",
          "output_type": "stream",
          "text": [
            "{'One', 1, 3.4}\n"
          ]
        }
      ],
      "source": [
        "print(set3)"
      ]
    },
    {
      "cell_type": "code",
      "execution_count": 50,
      "metadata": {
        "colab": {
          "base_uri": "https://localhost:8080/"
        },
        "id": "-34A9e0az5WC",
        "outputId": "f81c124b-94ad-4ce8-fc25-c2fca74c7fe7"
      },
      "outputs": [
        {
          "data": {
            "text/plain": [
              "set"
            ]
          },
          "execution_count": 50,
          "metadata": {},
          "output_type": "execute_result"
        }
      ],
      "source": [
        "type(set3)"
      ]
    },
    {
      "cell_type": "code",
      "execution_count": 51,
      "metadata": {
        "colab": {
          "base_uri": "https://localhost:8080/"
        },
        "id": "GodHtlZLz6pS",
        "outputId": "f93f695e-0581-4d0f-fa0b-d9e2f2be2248"
      },
      "outputs": [
        {
          "name": "stdout",
          "output_type": "stream",
          "text": [
            "{1, 2, 3, 4}\n"
          ]
        }
      ],
      "source": [
        "set4 = {1, 2, 3, 4, 2, 3, 3, 2, 4, 4, 3, 2}\n",
        "print(set4)"
      ]
    },
    {
      "cell_type": "markdown",
      "metadata": {
        "id": "fCES6GWC0b-h"
      },
      "source": [
        "Sets in Python do not require a comma after a single element"
      ]
    },
    {
      "cell_type": "code",
      "execution_count": 53,
      "metadata": {
        "colab": {
          "base_uri": "https://localhost:8080/"
        },
        "id": "hv5TthuR0EC6",
        "outputId": "53d25f53-1049-4c31-e306-79ca828b1bbd"
      },
      "outputs": [
        {
          "name": "stdout",
          "output_type": "stream",
          "text": [
            "{42}\n"
          ]
        }
      ],
      "source": [
        "single_element_set = {42}\n",
        "print(single_element_set)"
      ]
    },
    {
      "cell_type": "code",
      "execution_count": 54,
      "metadata": {
        "colab": {
          "base_uri": "https://localhost:8080/"
        },
        "id": "_zfyoSAm0ZSM",
        "outputId": "0210e3b7-c8d7-4719-f7b1-c48991d1408a"
      },
      "outputs": [
        {
          "data": {
            "text/plain": [
              "set"
            ]
          },
          "execution_count": 54,
          "metadata": {},
          "output_type": "execute_result"
        }
      ],
      "source": [
        "type(single_element_set)"
      ]
    },
    {
      "cell_type": "code",
      "execution_count": 55,
      "metadata": {
        "colab": {
          "base_uri": "https://localhost:8080/"
        },
        "id": "LLCDKHyD0bR9",
        "outputId": "55c6bc4f-3342-4d98-cc8a-0375433892d1"
      },
      "outputs": [
        {
          "name": "stdout",
          "output_type": "stream",
          "text": [
            "{'h', 'e', 'l', 'o'}\n"
          ]
        }
      ],
      "source": [
        "my_string = \"hello\"\n",
        "my_set = set(my_string)\n",
        "print(my_set)"
      ]
    },
    {
      "cell_type": "code",
      "execution_count": 59,
      "metadata": {
        "colab": {
          "base_uri": "https://localhost:8080/"
        },
        "id": "yrNeGkw202Dz",
        "outputId": "b9ec7773-3bbe-46eb-d08b-ee3e0cab48fa"
      },
      "outputs": [
        {
          "data": {
            "text/plain": [
              "{'e', 'h', 'l', 'o'}"
            ]
          },
          "execution_count": 59,
          "metadata": {},
          "output_type": "execute_result"
        }
      ],
      "source": [
        "my_set"
      ]
    },
    {
      "cell_type": "code",
      "execution_count": 58,
      "metadata": {},
      "outputs": [
        {
          "name": "stdout",
          "output_type": "stream",
          "text": [
            "{'h', 'e', 'l', 'o'}\n"
          ]
        }
      ],
      "source": [
        "print(my_set)"
      ]
    },
    {
      "cell_type": "code",
      "execution_count": 61,
      "metadata": {
        "colab": {
          "base_uri": "https://localhost:8080/"
        },
        "id": "vt9j2rjd19iS",
        "outputId": "4388f2ce-d4ed-4c0e-a32e-240e30eb3263"
      },
      "outputs": [
        {
          "name": "stdout",
          "output_type": "stream",
          "text": [
            "True\n"
          ]
        }
      ],
      "source": [
        "print('e' in my_set)"
      ]
    },
    {
      "cell_type": "code",
      "execution_count": 62,
      "metadata": {
        "colab": {
          "base_uri": "https://localhost:8080/"
        },
        "id": "2FjptiNY2Dgk",
        "outputId": "eb1d2a42-442b-4f37-e9b8-6c676ab574e2"
      },
      "outputs": [
        {
          "data": {
            "text/plain": [
              "4"
            ]
          },
          "execution_count": 62,
          "metadata": {},
          "output_type": "execute_result"
        }
      ],
      "source": [
        "len(my_set)"
      ]
    },
    {
      "cell_type": "code",
      "execution_count": 63,
      "metadata": {
        "colab": {
          "base_uri": "https://localhost:8080/"
        },
        "id": "VZtU59O02hES",
        "outputId": "808410f1-9b91-4215-896b-af42331b74f5"
      },
      "outputs": [
        {
          "name": "stdout",
          "output_type": "stream",
          "text": [
            "('h', 'e', 'l', 'o')\n"
          ]
        }
      ],
      "source": [
        "my_tuple = tuple(my_set)\n",
        "print(my_tuple)"
      ]
    },
    {
      "cell_type": "code",
      "execution_count": 64,
      "metadata": {
        "colab": {
          "base_uri": "https://localhost:8080/",
          "height": 159
        },
        "id": "pgUx_m6320mB",
        "outputId": "9cacebb7-834b-4bd1-8374-5c967dd3da4c"
      },
      "outputs": [
        {
          "ename": "TypeError",
          "evalue": "unhashable type: 'list'",
          "output_type": "error",
          "traceback": [
            "\u001b[31m---------------------------------------------------------------------------\u001b[39m",
            "\u001b[31mTypeError\u001b[39m                                 Traceback (most recent call last)",
            "\u001b[36mCell\u001b[39m\u001b[36m \u001b[39m\u001b[32mIn[64]\u001b[39m\u001b[32m, line 1\u001b[39m\n\u001b[32m----> \u001b[39m\u001b[32m1\u001b[39m my_set = {[a, b, c]}\n\u001b[32m      2\u001b[39m \u001b[38;5;28mprint\u001b[39m(my_set)\n",
            "\u001b[31mTypeError\u001b[39m: unhashable type: 'list'"
          ]
        }
      ],
      "source": [
        "my_set = {[a, b, c]}\n",
        "print(my_set)"
      ]
    },
    {
      "cell_type": "code",
      "execution_count": null,
      "metadata": {
        "colab": {
          "base_uri": "https://localhost:8080/"
        },
        "id": "eRdSfFnn4Fpy",
        "outputId": "341f7364-d2ac-4977-c92f-86d934959c35"
      },
      "outputs": [
        {
          "data": {
            "text/plain": [
              "{1, 2, 3, 4, 5, 6, 7, 8, 9, 10}"
            ]
          },
          "execution_count": 60,
          "metadata": {},
          "output_type": "execute_result"
        }
      ],
      "source": [
        "my_set"
      ]
    },
    {
      "cell_type": "code",
      "execution_count": null,
      "metadata": {
        "colab": {
          "base_uri": "https://localhost:8080/"
        },
        "id": "CYyLslpW4IIb",
        "outputId": "df695dbf-f21f-41c8-dd7b-5139cf26f7fb"
      },
      "outputs": [
        {
          "name": "stdout",
          "output_type": "stream",
          "text": [
            "{('a', 'b', 'c')}\n"
          ]
        }
      ],
      "source": [
        "my_set_1 = {('a', 'b', 'c')}\n",
        "print(my_set_1)"
      ]
    },
    {
      "cell_type": "markdown",
      "metadata": {
        "id": "U2L4BkcF3F4p"
      },
      "source": [
        "Built in functions"
      ]
    },
    {
      "cell_type": "markdown",
      "metadata": {
        "id": "3JpRL7ZD2YpZ"
      },
      "source": [
        "min(), max(), sum()"
      ]
    },
    {
      "cell_type": "code",
      "execution_count": null,
      "metadata": {
        "id": "zGqdLCY72QrN"
      },
      "outputs": [],
      "source": [
        "my_set = {1, 2, 3, 4, 5, 6, 7}"
      ]
    },
    {
      "cell_type": "code",
      "execution_count": null,
      "metadata": {
        "colab": {
          "base_uri": "https://localhost:8080/"
        },
        "id": "dtWB3UfJ3Kq6",
        "outputId": "d1a6b112-7d6c-47b3-ce7f-86d14205a719"
      },
      "outputs": [
        {
          "data": {
            "text/plain": [
              "{1, 2, 3, 4, 5, 6, 7}"
            ]
          },
          "execution_count": 54,
          "metadata": {},
          "output_type": "execute_result"
        }
      ],
      "source": [
        "my_set"
      ]
    },
    {
      "cell_type": "code",
      "execution_count": null,
      "metadata": {
        "id": "7VeMAJvn3OGF"
      },
      "outputs": [],
      "source": [
        "my_set.add(9)"
      ]
    },
    {
      "cell_type": "code",
      "execution_count": null,
      "metadata": {
        "colab": {
          "base_uri": "https://localhost:8080/"
        },
        "id": "hLdbr6o23Upd",
        "outputId": "e6a73552-5c37-4ab4-d09e-b81a0a866656"
      },
      "outputs": [
        {
          "name": "stdout",
          "output_type": "stream",
          "text": [
            "{1, 2, 3, 4, 5, 6, 7, 9}\n"
          ]
        }
      ],
      "source": [
        "print(my_set)"
      ]
    },
    {
      "cell_type": "code",
      "execution_count": null,
      "metadata": {
        "colab": {
          "base_uri": "https://localhost:8080/"
        },
        "id": "-w_eNqXq3WgT",
        "outputId": "ddcc72fd-601c-4222-fa7d-a83d11a32d47"
      },
      "outputs": [
        {
          "name": "stdout",
          "output_type": "stream",
          "text": [
            "{1, 2, 3, 4, 5, 6, 7, 8, 9, 10}\n"
          ]
        }
      ],
      "source": [
        "my_set.update([8, 10, 1])\n",
        "print(my_set)"
      ]
    },
    {
      "cell_type": "markdown",
      "metadata": {
        "id": "qDLiumJ_4o_6"
      },
      "source": [
        "Join Sets"
      ]
    },
    {
      "cell_type": "markdown",
      "metadata": {
        "id": "Z0OBBFEb5MBS"
      },
      "source": [
        "Union"
      ]
    },
    {
      "cell_type": "code",
      "execution_count": null,
      "metadata": {
        "colab": {
          "base_uri": "https://localhost:8080/"
        },
        "id": "vi8E5Vpo3lgh",
        "outputId": "71d11e74-a856-4d12-d4b8-ac1d0ff09b75"
      },
      "outputs": [
        {
          "name": "stdout",
          "output_type": "stream",
          "text": [
            "{1, 2, 3, 4, 5, 6}\n"
          ]
        }
      ],
      "source": [
        "set1 = {1, 2, 3}\n",
        "set2 = {4, 5, 6}\n",
        "union_set = set1.union(set2)  ## set1|set2\n",
        "print(union_set)"
      ]
    },
    {
      "cell_type": "markdown",
      "metadata": {
        "id": "nGGep6sb5M-K"
      },
      "source": [
        "Intersection"
      ]
    },
    {
      "cell_type": "code",
      "execution_count": null,
      "metadata": {
        "colab": {
          "base_uri": "https://localhost:8080/"
        },
        "id": "3a9RJr4U5C96",
        "outputId": "a4ebf3e1-835d-4046-bcbd-89e241ce0c15"
      },
      "outputs": [
        {
          "name": "stdout",
          "output_type": "stream",
          "text": [
            "{3}\n"
          ]
        }
      ],
      "source": [
        "set1 = {1, 2, 3}\n",
        "set2 = {3, 5, 6}\n",
        "\n",
        "intersection_set = set1 & set2  ## set1.intersection(set2)\n",
        "print(intersection_set)"
      ]
    },
    {
      "cell_type": "markdown",
      "metadata": {
        "id": "2nlQ0xe35daC"
      },
      "source": [
        "Difference"
      ]
    },
    {
      "cell_type": "code",
      "execution_count": null,
      "metadata": {
        "colab": {
          "base_uri": "https://localhost:8080/"
        },
        "id": "we9fSwOF5Xuy",
        "outputId": "f945f78a-e697-46d6-b363-cb78ab2ebf42"
      },
      "outputs": [
        {
          "name": "stdout",
          "output_type": "stream",
          "text": [
            "{1, 2}\n"
          ]
        }
      ],
      "source": [
        "set1 = {1, 2, 3}\n",
        "set2 = {3, 5, 6}\n",
        "\n",
        "difference_set = set1 - set2\n",
        "print(difference_set)"
      ]
    },
    {
      "cell_type": "markdown",
      "metadata": {
        "id": "i6pagrQD5uot"
      },
      "source": [
        "Symmetric Difference"
      ]
    },
    {
      "cell_type": "code",
      "execution_count": null,
      "metadata": {
        "colab": {
          "base_uri": "https://localhost:8080/"
        },
        "id": "FNrjhuwP5rTK",
        "outputId": "f449bb0e-4ed1-4c97-cf4a-67e48235c95e"
      },
      "outputs": [
        {
          "name": "stdout",
          "output_type": "stream",
          "text": [
            "{1, 2, 5, 6}\n"
          ]
        }
      ],
      "source": [
        "set1 = {1, 2, 3}\n",
        "set2 = {3, 5, 6}\n",
        "\n",
        "symmetric_difference = set1.symmetric_difference(set2)  ## set1 ^ set2\n",
        "print(symmetric_difference)"
      ]
    },
    {
      "cell_type": "markdown",
      "metadata": {
        "id": "CT5nj1JT6VBp"
      },
      "source": [
        "Task: to explore and give me the difference between the above methods vs the _update() methods in the set."
      ]
    },
    {
      "cell_type": "markdown",
      "metadata": {
        "id": "z89oMOTF6Lbq"
      },
      "source": [
        "difference_update()\n",
        "\n",
        "intersection_update() and so on"
      ]
    },
    {
      "cell_type": "markdown",
      "metadata": {
        "id": "-iNzXsqr7cTZ"
      },
      "source": [
        "Task: Merge the below two tuples and then remove the duplicate values and return the final output as a tuple.\n",
        "\n",
        "tup1 = (1, 2, 3)\n",
        "\n",
        "tup2 = (3, 4, 5)"
      ]
    },
    {
      "cell_type": "code",
      "execution_count": null,
      "metadata": {
        "colab": {
          "base_uri": "https://localhost:8080/"
        },
        "id": "7DE7p3q45_0E",
        "outputId": "c6ad4e8a-0596-469c-d2e3-163697488509"
      },
      "outputs": [
        {
          "name": "stdout",
          "output_type": "stream",
          "text": [
            "(1, 2, 3, 4, 5)\n"
          ]
        }
      ],
      "source": [
        "## function definition\n",
        "def merge_and_remove_duplicates(tup1, tup2):\n",
        "  return tuple(set(tup1).union(tup2))\n",
        "\n",
        "## driver code\n",
        "tup1 = (1, 2, 3)\n",
        "tup2 = (3, 4, 5)\n",
        "\n",
        "## function calling\n",
        "print(merge_and_remove_duplicates(tup1, tup2))"
      ]
    },
    {
      "cell_type": "markdown",
      "metadata": {
        "id": "tUzgg_U5BOmj"
      },
      "source": [
        "## Dictionaries\n",
        "- unorder\n",
        "- {key: value}\n",
        "- mutable\n",
        "- duplicate allowed\n",
        "- customise index (key)"
      ]
    },
    {
      "cell_type": "code",
      "execution_count": 1,
      "metadata": {
        "colab": {
          "base_uri": "https://localhost:8080/"
        },
        "id": "lKI2BjQ3-noj",
        "outputId": "58c9e37b-5579-476e-99a6-3a9ae159ee1f"
      },
      "outputs": [
        {
          "name": "stdout",
          "output_type": "stream",
          "text": [
            "{'name': 'Bhavesh Sonawane', 'age': 27, 'salary': 40000, 'city': 'delhi', 'location': 'saket'}\n"
          ]
        }
      ],
      "source": [
        "my_dict = {\"name\":\"Bhavesh Sonawane\", \"age\": 27, \"salary\":40000, \"city\": \"delhi\", \"location\": \"saket\"}\n",
        "print(my_dict)"
      ]
    },
    {
      "cell_type": "code",
      "execution_count": 3,
      "metadata": {
        "colab": {
          "base_uri": "https://localhost:8080/"
        },
        "id": "l5xxp5XMBnVy",
        "outputId": "d624271a-2689-41b8-f086-b04baadb3d6f"
      },
      "outputs": [
        {
          "data": {
            "text/plain": [
              "40000"
            ]
          },
          "execution_count": 3,
          "metadata": {},
          "output_type": "execute_result"
        }
      ],
      "source": [
        "my_dict['salary']"
      ]
    },
    {
      "cell_type": "code",
      "execution_count": 4,
      "metadata": {
        "colab": {
          "base_uri": "https://localhost:8080/"
        },
        "id": "I9orv49fB8zp",
        "outputId": "74faead4-662a-4fba-8d8f-3a9823bf020c"
      },
      "outputs": [
        {
          "name": "stdout",
          "output_type": "stream",
          "text": [
            "{'Alice': 85, 'Bob': 76, 'Charlie': 56, 'David': 78, 'Eve': 90}\n"
          ]
        }
      ],
      "source": [
        "scores = {'Alice':85, \"Bob\":76, \"Charlie\":56, \"David\":78, \"Eve\":90}\n",
        "print(scores)"
      ]
    },
    {
      "cell_type": "code",
      "execution_count": 5,
      "metadata": {
        "colab": {
          "base_uri": "https://localhost:8080/"
        },
        "id": "uCBK4fNiCXpC",
        "outputId": "b41a7bff-0c81-4389-fff1-5031019eec84"
      },
      "outputs": [
        {
          "data": {
            "text/plain": [
              "56"
            ]
          },
          "execution_count": 5,
          "metadata": {},
          "output_type": "execute_result"
        }
      ],
      "source": [
        "scores['Charlie']"
      ]
    },
    {
      "cell_type": "code",
      "execution_count": 6,
      "metadata": {
        "colab": {
          "base_uri": "https://localhost:8080/"
        },
        "id": "9dzHqLIPDVY5",
        "outputId": "094e4bd1-a02d-4e8c-cfb6-02646e69d462"
      },
      "outputs": [
        {
          "name": "stdout",
          "output_type": "stream",
          "text": [
            "56\n"
          ]
        }
      ],
      "source": [
        "min_score = min(scores.values())\n",
        "print(min_score)"
      ]
    },
    {
      "cell_type": "markdown",
      "metadata": {
        "id": "pBNExuAICwPi"
      },
      "source": [
        "Built-in methods"
      ]
    },
    {
      "cell_type": "code",
      "execution_count": 7,
      "metadata": {
        "colab": {
          "base_uri": "https://localhost:8080/"
        },
        "id": "xbyI1aN9Ceaj",
        "outputId": "7a514d51-1cfe-4288-9808-90249fd8e5c1"
      },
      "outputs": [
        {
          "name": "stdout",
          "output_type": "stream",
          "text": [
            "dict_keys(['name', 'age', 'salary', 'city', 'location'])\n"
          ]
        }
      ],
      "source": [
        "print(my_dict.keys())"
      ]
    },
    {
      "cell_type": "code",
      "execution_count": 8,
      "metadata": {
        "colab": {
          "base_uri": "https://localhost:8080/"
        },
        "id": "T-x-Pkd8C3n8",
        "outputId": "6463e124-05c6-42f9-be92-1b18ce871459"
      },
      "outputs": [
        {
          "name": "stdout",
          "output_type": "stream",
          "text": [
            "dict_values(['Bhavesh Sonawane', 27, 40000, 'delhi', 'saket'])\n"
          ]
        }
      ],
      "source": [
        "print(my_dict.values())"
      ]
    },
    {
      "cell_type": "code",
      "execution_count": 9,
      "metadata": {
        "colab": {
          "base_uri": "https://localhost:8080/"
        },
        "id": "tHmsagi8C7sz",
        "outputId": "918167d3-79af-461b-8936-5541e68e7ca5"
      },
      "outputs": [
        {
          "name": "stdout",
          "output_type": "stream",
          "text": [
            "dict_items([('name', 'Bhavesh Sonawane'), ('age', 27), ('salary', 40000), ('city', 'delhi'), ('location', 'saket')])\n"
          ]
        }
      ],
      "source": [
        "print(my_dict.items())"
      ]
    },
    {
      "cell_type": "markdown",
      "metadata": {
        "id": "HNu5H_3qEcCZ"
      },
      "source": [
        "Add new \"key:value\" pairs in the dictionary"
      ]
    },
    {
      "cell_type": "code",
      "execution_count": 10,
      "metadata": {
        "colab": {
          "base_uri": "https://localhost:8080/"
        },
        "id": "8XzEeUBIDCmS",
        "outputId": "b4733c8f-d40f-42af-af1a-e35eeed06e85"
      },
      "outputs": [
        {
          "data": {
            "text/plain": [
              "{'name': 'Bhavesh Sonawane',\n",
              " 'age': 27,\n",
              " 'salary': 40000,\n",
              " 'city': 'delhi',\n",
              " 'location': 'saket'}"
            ]
          },
          "execution_count": 10,
          "metadata": {},
          "output_type": "execute_result"
        }
      ],
      "source": [
        "my_dict"
      ]
    },
    {
      "cell_type": "code",
      "execution_count": 11,
      "metadata": {
        "colab": {
          "base_uri": "https://localhost:8080/"
        },
        "id": "Cwa_KqsLD-Fm",
        "outputId": "58e1cfc3-3958-4875-8a80-caa0287d2de6"
      },
      "outputs": [
        {
          "name": "stdout",
          "output_type": "stream",
          "text": [
            "{'name': 'Bhavesh Sonawane', 'age': 27, 'salary': 40000, 'city': 'delhi', 'location': 'saket', 'position': 'Lead Data Scientist', 'company': 'Turing'}\n"
          ]
        }
      ],
      "source": [
        "my_dict['position'] = 'Lead Data Scientist'\n",
        "my_dict['company'] = 'Turing'\n",
        "print(my_dict)"
      ]
    },
    {
      "cell_type": "code",
      "execution_count": 12,
      "metadata": {
        "colab": {
          "base_uri": "https://localhost:8080/"
        },
        "id": "quzUpfb5ENlb",
        "outputId": "75ef95ea-0dac-4a0a-d206-95c2415f894b"
      },
      "outputs": [
        {
          "name": "stdout",
          "output_type": "stream",
          "text": [
            "{'name': 'Bhavesh Sonawane', 'age': 27, 'salary': 50000, 'city': 'Noida', 'location': 'saket', 'position': 'Lead Data Scientist', 'company': 'Turing'}\n"
          ]
        }
      ],
      "source": [
        "my_dict.update({'salary':50000, 'city':'Noida'})\n",
        "print(my_dict)"
      ]
    },
    {
      "cell_type": "code",
      "execution_count": 13,
      "metadata": {
        "id": "KOazH0rGE9vq"
      },
      "outputs": [],
      "source": [
        "del my_dict['location']"
      ]
    },
    {
      "cell_type": "code",
      "execution_count": 14,
      "metadata": {
        "colab": {
          "base_uri": "https://localhost:8080/"
        },
        "id": "s67GQ3K-FHYz",
        "outputId": "d0c21453-9a27-4c20-f282-7dfc6998ba11"
      },
      "outputs": [
        {
          "name": "stdout",
          "output_type": "stream",
          "text": [
            "{'name': 'Bhavesh Sonawane', 'age': 27, 'salary': 50000, 'city': 'Noida', 'position': 'Lead Data Scientist', 'company': 'Turing'}\n"
          ]
        }
      ],
      "source": [
        "print(my_dict)"
      ]
    },
    {
      "cell_type": "markdown",
      "metadata": {
        "id": "H9R09edhF1xp"
      },
      "source": [
        "Task: Check if all the elements in the list are unique or not?\n",
        "\n",
        "\n",
        "list1 = [1, 2, 3, 4, 2]\n",
        "\n",
        "Output: False"
      ]
    },
    {
      "cell_type": "code",
      "execution_count": 15,
      "metadata": {
        "colab": {
          "base_uri": "https://localhost:8080/"
        },
        "id": "zY8lnuKLF1kZ",
        "outputId": "c0024f0f-31ab-4c2b-ae13-e3c1ba12e220"
      },
      "outputs": [
        {
          "name": "stdout",
          "output_type": "stream",
          "text": [
            "False\n"
          ]
        }
      ],
      "source": [
        "def all_unique(list1):\n",
        "  return len(list1) == len(set(list1))\n",
        "\n",
        "\n",
        "list1 = [1, 2, 3, 4, 2]\n",
        "print(all_unique(list1))"
      ]
    },
    {
      "cell_type": "markdown",
      "metadata": {
        "id": "C1E4RqvPGslK"
      },
      "source": [
        "Task: Count of occurence of each element in a list.\n",
        "\n",
        "lst = ['a', 'b', 'a', 'b', 'c', 'a']\n",
        "\n",
        "Output: {'a':3, 'b':2, 'c':1}"
      ]
    },
    {
      "cell_type": "code",
      "execution_count": 16,
      "metadata": {
        "colab": {
          "base_uri": "https://localhost:8080/"
        },
        "id": "l55TlgvEGdSK",
        "outputId": "09952159-73f8-4daf-b296-888bf766f975"
      },
      "outputs": [
        {
          "name": "stdout",
          "output_type": "stream",
          "text": [
            "{'a': 3, 'b': 2, 'c': 1}\n"
          ]
        }
      ],
      "source": [
        "lst = ['a', 'b', 'a', 'b', 'c', 'a']\n",
        "output = {}\n",
        "\n",
        "for item in lst:\n",
        "    if item in output:\n",
        "       ## increment of the count value\n",
        "        output[item] += 1\n",
        "    else:\n",
        "        output[item] = 1\n",
        "\n",
        "print(output)"
      ]
    },
    {
      "cell_type": "markdown",
      "metadata": {
        "id": "bPrioQ5ZITYT"
      },
      "source": [
        "Swap key and values in a dictionary\n",
        "\n",
        "dict1 = {'a':1, 'b':2, 'c':3}\n",
        "\n",
        "Output: {1: 'a', 2:'b', 3:'c'}\n"
      ]
    },
    {
      "cell_type": "code",
      "execution_count": 17,
      "metadata": {
        "colab": {
          "base_uri": "https://localhost:8080/"
        },
        "id": "3uRnkWDsHeSU",
        "outputId": "b35dd0b7-b9ae-439c-ea65-0398b144cdb3"
      },
      "outputs": [
        {
          "name": "stdout",
          "output_type": "stream",
          "text": [
            "{1: 'a', 2: 'b', 3: 'c'}\n"
          ]
        }
      ],
      "source": [
        "dict1 = {'a': 1, 'b': 2, 'c': 3}\n",
        "\n",
        "## Dictionary comprehensions\n",
        "swapped = {value: key for key, value in dict1.items()}\n",
        "\n",
        "print(swapped)"
      ]
    },
    {
      "cell_type": "code",
      "execution_count": null,
      "metadata": {
        "id": "y5R17GsmJBHE"
      },
      "outputs": [],
      "source": []
    }
  ],
  "metadata": {
    "colab": {
      "provenance": []
    },
    "kernelspec": {
      "display_name": "myenv",
      "language": "python",
      "name": "python3"
    },
    "language_info": {
      "codemirror_mode": {
        "name": "ipython",
        "version": 3
      },
      "file_extension": ".py",
      "mimetype": "text/x-python",
      "name": "python",
      "nbconvert_exporter": "python",
      "pygments_lexer": "ipython3",
      "version": "3.13.1"
    }
  },
  "nbformat": 4,
  "nbformat_minor": 0
}
