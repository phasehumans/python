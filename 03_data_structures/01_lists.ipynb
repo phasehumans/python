{
 "cells": [
  {
   "cell_type": "code",
   "execution_count": 4,
   "id": "09a73e2f",
   "metadata": {},
   "outputs": [],
   "source": [
    "# list: ordered, mutable collections of items, diff-diff data types"
   ]
  },
  {
   "cell_type": "code",
   "execution_count": 5,
   "id": "f6030cfd",
   "metadata": {},
   "outputs": [
    {
     "name": "stdout",
     "output_type": "stream",
     "text": [
      "<class 'list'>\n",
      "['this', 'is', 'list']\n"
     ]
    }
   ],
   "source": [
    "lst= [\"this\", \"is\", \"list\"]\n",
    "print(type(lst))\n",
    "\n",
    "print(lst)"
   ]
  },
  {
   "cell_type": "code",
   "execution_count": 6,
   "id": "622befcd",
   "metadata": {},
   "outputs": [
    {
     "name": "stdout",
     "output_type": "stream",
     "text": [
      "['red', 'yellow', 'green', 44.5, 66, True]\n"
     ]
    }
   ],
   "source": [
    "# list can have multiple datatypes\n",
    "clrs=[\"red\", \"yellow\", \"green\", 44.5,66, True]\n",
    "print(clrs)"
   ]
  },
  {
   "cell_type": "code",
   "execution_count": 8,
   "id": "3d2de063",
   "metadata": {},
   "outputs": [
    {
     "name": "stdout",
     "output_type": "stream",
     "text": [
      "silver\n",
      "blue\n",
      "red\n"
     ]
    }
   ],
   "source": [
    "clrs= [\"red\", \"yellow\", \"silver\", \"green\", \"blue\"]\n",
    "\n",
    "# acces list\n",
    "print(clrs[2])\n",
    "print(clrs[-1])\n",
    "\n",
    "print(clrs[0])"
   ]
  },
  {
   "cell_type": "code",
   "execution_count": 9,
   "id": "e3f7f30f",
   "metadata": {},
   "outputs": [
    {
     "name": "stdout",
     "output_type": "stream",
     "text": [
      "['yellow', 'silver']\n",
      "['silver', 'green', 'blue']\n"
     ]
    }
   ],
   "source": [
    "print(clrs[1:3])        #exclusive\n",
    "print(clrs[2:])"
   ]
  },
  {
   "cell_type": "code",
   "execution_count": 12,
   "id": "c3a35204",
   "metadata": {},
   "outputs": [
    {
     "name": "stdout",
     "output_type": "stream",
     "text": [
      "['purple', 'yellow', 'silver', 'green', 'blue']\n",
      "['casandra', 'yellow', 'silver', 'green', 'blue']\n"
     ]
    }
   ],
   "source": [
    "# modify list\n",
    "clrs[0]= \"purple\"\n",
    "print(clrs)\n",
    "\n",
    "clrs[0]= \"casandra\"\n",
    "print(clrs)"
   ]
  },
  {
   "cell_type": "code",
   "execution_count": 14,
   "id": "5b371fc2",
   "metadata": {},
   "outputs": [
    {
     "name": "stdout",
     "output_type": "stream",
     "text": [
      "['casandra', 'yellow', 'silver', 'green', 'blue', 'orange', 'orange']\n"
     ]
    }
   ],
   "source": [
    "# list methods\n",
    "clrs.append(\"orange\")       #add at last\n",
    "print(clrs)"
   ]
  },
  {
   "cell_type": "code",
   "execution_count": 15,
   "id": "297502c6",
   "metadata": {},
   "outputs": [
    {
     "name": "stdout",
     "output_type": "stream",
     "text": [
      "['casandra', 'yellow', 'silver', 'grey', 'green', 'blue', 'orange', 'orange']\n"
     ]
    }
   ],
   "source": [
    "clrs.insert(3, \"grey\")\n",
    "print(clrs)"
   ]
  },
  {
   "cell_type": "code",
   "execution_count": 16,
   "id": "509feb82",
   "metadata": {},
   "outputs": [
    {
     "name": "stdout",
     "output_type": "stream",
     "text": [
      "['casandra', 'yellow', 'silver', 'grey', 'green', 'blue', 'orange']\n"
     ]
    }
   ],
   "source": [
    "clrs.pop()      #remove last\n",
    "print(clrs)"
   ]
  },
  {
   "cell_type": "code",
   "execution_count": 17,
   "id": "3f6e8544",
   "metadata": {},
   "outputs": [
    {
     "name": "stdout",
     "output_type": "stream",
     "text": [
      "['blue', 'casandra', 'green', 'grey', 'orange', 'silver', 'yellow']\n"
     ]
    }
   ],
   "source": [
    "clrs.sort()\n",
    "print(clrs)"
   ]
  },
  {
   "cell_type": "code",
   "execution_count": 18,
   "id": "706c135e",
   "metadata": {},
   "outputs": [
    {
     "name": "stdout",
     "output_type": "stream",
     "text": [
      "['yellow', 'silver', 'orange', 'grey', 'green', 'casandra', 'blue']\n"
     ]
    }
   ],
   "source": [
    "clrs.reverse()\n",
    "print(clrs)"
   ]
  },
  {
   "cell_type": "code",
   "execution_count": 19,
   "id": "52b9f9d3",
   "metadata": {},
   "outputs": [
    {
     "name": "stdout",
     "output_type": "stream",
     "text": [
      "[3, 4, 5]\n",
      "[1, 2, 3, 4, 5]\n",
      "[6, 7, 8, 9, 10]\n",
      "[1, 6]\n",
      "[10, 9, 8, 7, 6, 5, 4, 3, 2, 1]\n"
     ]
    }
   ],
   "source": [
    "# slicing list\n",
    "numbers= [1,2,3,4,5,6,7,8,9,10]\n",
    "print(numbers[2:5])\n",
    "print(numbers[:5])\n",
    "print(numbers[5:])\n",
    "print(numbers[::5])\n",
    "print(numbers[::-1])"
   ]
  },
  {
   "cell_type": "code",
   "execution_count": 20,
   "id": "2e7b2ab7",
   "metadata": {},
   "outputs": [
    {
     "name": "stdout",
     "output_type": "stream",
     "text": [
      "yellow\n",
      "silver\n",
      "orange\n",
      "grey\n",
      "green\n",
      "casandra\n",
      "blue\n"
     ]
    }
   ],
   "source": [
    "# iterating over list\n",
    "for clrs in clrs:\n",
    "    print(clrs)"
   ]
  },
  {
   "cell_type": "code",
   "execution_count": 24,
   "id": "3d28903b",
   "metadata": {},
   "outputs": [
    {
     "name": "stdout",
     "output_type": "stream",
     "text": [
      "found apple at 5\n"
     ]
    }
   ],
   "source": [
    "lst1= [1,2,3,4,5,\"apple\"]\n",
    "\n",
    "for i in lst1:\n",
    "    if i == \"apple\":\n",
    "        print(f\"found apple at {lst1.index(i)}\")"
   ]
  }
 ],
 "metadata": {
  "kernelspec": {
   "display_name": "myenv",
   "language": "python",
   "name": "python3"
  },
  "language_info": {
   "codemirror_mode": {
    "name": "ipython",
    "version": 3
   },
   "file_extension": ".py",
   "mimetype": "text/x-python",
   "name": "python",
   "nbconvert_exporter": "python",
   "pygments_lexer": "ipython3",
   "version": "3.13.1"
  }
 },
 "nbformat": 4,
 "nbformat_minor": 5
}
