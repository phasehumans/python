{
  "cells": [
    {
      "cell_type": "markdown",
      "metadata": {
        "id": "UIw-sglb8yWZ"
      },
      "source": [
        "Lists"
      ]
    },
    {
      "cell_type": "markdown",
      "metadata": {},
      "source": [
        "- multi elmt : hetro only in python\n",
        "- list is mutable and ordered\n",
        "- list is similar to string but string not contain hetro"
      ]
    },
    {
      "cell_type": "code",
      "execution_count": 2,
      "metadata": {
        "id": "4G4mDKt46_a-"
      },
      "outputs": [
        {
          "name": "stdout",
          "output_type": "stream",
          "text": [
            "[1, 2, 3, 'string', 'chaitanya']\n"
          ]
        }
      ],
      "source": [
        "list1 = [] ## empty list\n",
        "list2 = [1, 2, 3] ## list of integers\n",
        "list3 = [1, \"One\", 2.3] ## list with mixed data types\n",
        "\n",
        "newlist= [1,2,3, \"string\", \"chaitanya\"]\n",
        "print(newlist)\n"
      ]
    },
    {
      "cell_type": "code",
      "execution_count": 9,
      "metadata": {
        "colab": {
          "base_uri": "https://localhost:8080/"
        },
        "id": "izg6Y35T9DT7",
        "outputId": "e881439c-137d-4631-d816-2caa7945a646"
      },
      "outputs": [
        {
          "data": {
            "text/plain": [
              "list"
            ]
          },
          "execution_count": 9,
          "metadata": {},
          "output_type": "execute_result"
        }
      ],
      "source": [
        "type(list3)"
      ]
    },
    {
      "cell_type": "markdown",
      "metadata": {
        "id": "-MBnQTMZ9Npw"
      },
      "source": [
        "Nested Lists"
      ]
    },
    {
      "cell_type": "code",
      "execution_count": 10,
      "metadata": {
        "colab": {
          "base_uri": "https://localhost:8080/"
        },
        "id": "GeSwIAjt9KIR",
        "outputId": "dd228fa1-1a03-4190-bdee-27ac6a5032b6"
      },
      "outputs": [
        {
          "data": {
            "text/plain": [
              "['One', [1, 2, 3], [4, 5, 6]]"
            ]
          },
          "execution_count": 10,
          "metadata": {},
          "output_type": "execute_result"
        }
      ],
      "source": [
        "list4 = [\"One\", [1, 2, 3], [4, 5, 6]]\n",
        "list4\n"
      ]
    },
    {
      "cell_type": "code",
      "execution_count": 11,
      "metadata": {
        "colab": {
          "base_uri": "https://localhost:8080/"
        },
        "id": "pUrDvOAb9g9N",
        "outputId": "7a9e344f-d59d-4756-ff55-0f5dc354d1ed"
      },
      "outputs": [
        {
          "data": {
            "text/plain": [
              "2"
            ]
          },
          "execution_count": 11,
          "metadata": {},
          "output_type": "execute_result"
        }
      ],
      "source": [
        "list4[1][1]\n",
        "\n",
        "# list elmt is acces through index; index has subindex in nested list"
      ]
    },
    {
      "cell_type": "code",
      "execution_count": 12,
      "metadata": {
        "colab": {
          "base_uri": "https://localhost:8080/"
        },
        "id": "mC28H3uh9095",
        "outputId": "0d69160e-97e7-4aa7-96d0-0442dad8c40d"
      },
      "outputs": [
        {
          "data": {
            "text/plain": [
              "6"
            ]
          },
          "execution_count": 12,
          "metadata": {},
          "output_type": "execute_result"
        }
      ],
      "source": [
        "list4[2][2]"
      ]
    },
    {
      "cell_type": "markdown",
      "metadata": {
        "id": "kTX26rFA-nyZ"
      },
      "source": [
        "Slicing"
      ]
    },
    {
      "cell_type": "code",
      "execution_count": 13,
      "metadata": {
        "colab": {
          "base_uri": "https://localhost:8080/"
        },
        "id": "QUYj-Lsd-Lux",
        "outputId": "011f16ad-359a-435d-c4bb-5760c8f15862"
      },
      "outputs": [
        {
          "name": "stdout",
          "output_type": "stream",
          "text": [
            "['c', 'd']\n"
          ]
        }
      ],
      "source": [
        "letters = ['a', 'b', 'c', 'd', 'e']\n",
        "print(letters[-3:-1])"
      ]
    },
    {
      "cell_type": "code",
      "execution_count": 7,
      "metadata": {
        "colab": {
          "base_uri": "https://localhost:8080/"
        },
        "id": "-LRbmuUk-1kK",
        "outputId": "a49fa3f3-c08f-4f10-8174-12cf6942d47e"
      },
      "outputs": [
        {
          "name": "stdout",
          "output_type": "stream",
          "text": [
            "[]\n"
          ]
        }
      ],
      "source": [
        "print(letters[-1:-3])\n",
        "# backward stepsize is imp for reverse -1, -2 etc"
      ]
    },
    {
      "cell_type": "code",
      "execution_count": 19,
      "metadata": {
        "colab": {
          "base_uri": "https://localhost:8080/"
        },
        "id": "bo27URBL_gCp",
        "outputId": "40f00814-ae34-464d-a383-4a0e30623cff"
      },
      "outputs": [
        {
          "name": "stdout",
          "output_type": "stream",
          "text": [
            "['e', 'd']\n",
            "['c', 'a']\n"
          ]
        }
      ],
      "source": [
        "print(letters[-1:-3:-1])\n",
        "\n",
        "print(letters [-3:: -2])"
      ]
    },
    {
      "cell_type": "code",
      "execution_count": null,
      "metadata": {
        "colab": {
          "base_uri": "https://localhost:8080/"
        },
        "id": "8ChjH9Yp_8Ha",
        "outputId": "9104f2e5-156d-474f-c4fe-5354dbb0660f"
      },
      "outputs": [
        {
          "name": "stdout",
          "output_type": "stream",
          "text": [
            "60\n",
            "False\n",
            "116\n",
            "True\n"
          ]
        }
      ],
      "source": [
        "my_list = [10, 25, 5, 60, 15, True, False]\n",
        "max_element = max(my_list)\n",
        "min_element = min(my_list)\n",
        "sum_element = sum(my_list)\n",
        "print(max_element)\n",
        "print(min_element)  # false is treated as 0\n",
        "print(sum_element)"
      ]
    },
    {
      "cell_type": "code",
      "execution_count": null,
      "metadata": {
        "colab": {
          "base_uri": "https://localhost:8080/"
        },
        "id": "pR4SPxhgAW5I",
        "outputId": "aa6090a0-9a97-4fda-9f1d-f5b0a26106de"
      },
      "outputs": [
        {
          "name": "stdout",
          "output_type": "stream",
          "text": [
            "abc\n",
            "abe\n"
          ]
        }
      ],
      "source": [
        "strings = [\"abc\", \"abd\", \"abe\"]\n",
        "# compare based on ASCII values of char \n",
        "\n",
        "min_string = min(strings)\n",
        "max_string = max(strings)\n",
        "print(min_string)\n",
        "print(max_string)"
      ]
    },
    {
      "cell_type": "code",
      "execution_count": null,
      "metadata": {
        "colab": {
          "base_uri": "https://localhost:8080/"
        },
        "id": "r104FxX7Btx5",
        "outputId": "ccc56870-ac10-440f-8383-1ea86adb420f"
      },
      "outputs": [
        {
          "data": {
            "text/plain": [
              "[10, 25, 5, 60, 15, True, False]"
            ]
          },
          "execution_count": 14,
          "metadata": {},
          "output_type": "execute_result"
        }
      ],
      "source": [
        "my_list"
      ]
    },
    {
      "cell_type": "markdown",
      "metadata": {
        "id": "A7gkZGmrCLmY"
      },
      "source": [
        "Why the lists are mutable in nature?"
      ]
    },
    {
      "cell_type": "code",
      "execution_count": null,
      "metadata": {
        "colab": {
          "base_uri": "https://localhost:8080/"
        },
        "id": "A3w0aTUfB92I",
        "outputId": "0d107bb0-b580-4789-ef35-f3398ceaa9bd"
      },
      "outputs": [
        {
          "name": "stdout",
          "output_type": "stream",
          "text": [
            "[10, 25, 5, 65, 15, True, False]\n"
          ]
        }
      ],
      "source": [
        "my_list[3] = 65\n",
        "print(my_list)"
      ]
    },
    {
      "cell_type": "code",
      "execution_count": 32,
      "metadata": {},
      "outputs": [
        {
          "name": "stdout",
          "output_type": "stream",
          "text": [
            "[1, 2, 3, 'string', 'chaitanya', 'sonawane', 'sonawane', 'sonawane']\n",
            "[1, 2, 3, 'string', 'chaitanya', 'sonawane', 'sonawane', 'sonawane']\n",
            "[1, 2, 3, 'string', 'chaitanya', 'sonawane', 'sonawane', 'sonawane', 1, 2, 3, 'string', 'chaitanya', 'sonawane', 'sonawane', 'sonawane']\n"
          ]
        }
      ],
      "source": [
        "print(newlist)\n",
        "# newlist.append(\"sonawane\")\n",
        "\n",
        "newlist* 3\n",
        "print(newlist)\n",
        "print(newlist * 2)"
      ]
    },
    {
      "cell_type": "markdown",
      "metadata": {
        "id": "cEQsnXUjCTeo"
      },
      "source": [
        "Repeat/Replicate Lists"
      ]
    },
    {
      "cell_type": "code",
      "execution_count": null,
      "metadata": {
        "colab": {
          "base_uri": "https://localhost:8080/"
        },
        "id": "WTmND0iMCJ4Y",
        "outputId": "412b7f81-431b-4361-8f7d-d5e5e8d115a8"
      },
      "outputs": [
        {
          "name": "stdout",
          "output_type": "stream",
          "text": [
            "[10, 25, 5, 65, 15, True, False, 10, 25, 5, 65, 15, True, False, 10, 25, 5, 65, 15, True, False]\n"
          ]
        }
      ],
      "source": [
        "print(my_list * 3)"
      ]
    },
    {
      "cell_type": "markdown",
      "metadata": {
        "id": "z1D0_i3PCgQ4"
      },
      "source": [
        "Inbuilt functions of list"
      ]
    },
    {
      "cell_type": "code",
      "execution_count": 33,
      "metadata": {
        "colab": {
          "base_uri": "https://localhost:8080/"
        },
        "id": "5wyF1hHWCaaj",
        "outputId": "762d62b2-53ec-452e-be06-2a850109de29"
      },
      "outputs": [
        {
          "data": {
            "text/plain": [
              "[10, 25, 5, 60, 15, True, False]"
            ]
          },
          "execution_count": 33,
          "metadata": {},
          "output_type": "execute_result"
        }
      ],
      "source": [
        "my_list"
      ]
    },
    {
      "cell_type": "markdown",
      "metadata": {
        "id": "Zm_FN8SREFlY"
      },
      "source": [
        "append()"
      ]
    },
    {
      "cell_type": "code",
      "execution_count": 35,
      "metadata": {
        "colab": {
          "base_uri": "https://localhost:8080/"
        },
        "id": "uuMAD26kC1l7",
        "outputId": "1be42364-f128-4b0d-9f4b-f2a09fc816de"
      },
      "outputs": [
        {
          "data": {
            "text/plain": [
              "[10, 25, 5, 60, 15, True, False, 20, 20]"
            ]
          },
          "execution_count": 35,
          "metadata": {},
          "output_type": "execute_result"
        }
      ],
      "source": [
        "my_list.append(20)\n",
        "my_list"
      ]
    },
    {
      "cell_type": "markdown",
      "metadata": {
        "id": "4_PRHgHYEH6x"
      },
      "source": [
        "l1.extend(l2) -> modifies l1 in-place\n",
        "\n",
        "It does not return anything -- its return value is None"
      ]
    },
    {
      "cell_type": "code",
      "execution_count": 36,
      "metadata": {
        "colab": {
          "base_uri": "https://localhost:8080/"
        },
        "id": "TpFbP6DYC50Q",
        "outputId": "6ae439fb-c81d-4c74-9c6a-fd0e805ddc5b"
      },
      "outputs": [
        {
          "name": "stdout",
          "output_type": "stream",
          "text": [
            "[1, 2, 3, 4, 5, 6, 7, 8]\n"
          ]
        }
      ],
      "source": [
        "l1 = [1, 2, 3, 4]\n",
        "l2 = [5, 6, 7, 8]\n",
        "l1.extend(l2)\n",
        "print(l1)"
      ]
    },
    {
      "cell_type": "code",
      "execution_count": 37,
      "metadata": {
        "colab": {
          "base_uri": "https://localhost:8080/"
        },
        "id": "qxsld8ZWDYKR",
        "outputId": "20e4067e-0f28-435b-8b5a-54c7e754d99a"
      },
      "outputs": [
        {
          "name": "stdout",
          "output_type": "stream",
          "text": [
            "[1, 2, 3, 4, 5, 6, 7, 8, [5, 6, 7, 8]]\n"
          ]
        }
      ],
      "source": [
        "l1.append([5, 6, 7, 8])\n",
        "print(l1)"
      ]
    },
    {
      "cell_type": "code",
      "execution_count": null,
      "metadata": {
        "colab": {
          "base_uri": "https://localhost:8080/",
          "height": 158
        },
        "id": "S8NSl3UHDn2h",
        "outputId": "65d2a685-99d9-4096-d614-effb64a10c40"
      },
      "outputs": [
        {
          "ename": "TypeError",
          "evalue": "list.append() takes exactly one argument (4 given)",
          "output_type": "error",
          "traceback": [
            "\u001b[0;31m---------------------------------------------------------------------------\u001b[0m",
            "\u001b[0;31mTypeError\u001b[0m                                 Traceback (most recent call last)",
            "\u001b[0;32m<ipython-input-21-37f14ac2f9e9>\u001b[0m in \u001b[0;36m<cell line: 0>\u001b[0;34m()\u001b[0m\n\u001b[0;32m----> 1\u001b[0;31m \u001b[0ml1\u001b[0m\u001b[0;34m.\u001b[0m\u001b[0mappend\u001b[0m\u001b[0;34m(\u001b[0m\u001b[0;36m5\u001b[0m\u001b[0;34m,\u001b[0m \u001b[0;36m6\u001b[0m\u001b[0;34m,\u001b[0m \u001b[0;36m7\u001b[0m\u001b[0;34m,\u001b[0m \u001b[0;36m8\u001b[0m\u001b[0;34m)\u001b[0m\u001b[0;34m\u001b[0m\u001b[0;34m\u001b[0m\u001b[0m\n\u001b[0m\u001b[1;32m      2\u001b[0m \u001b[0mprint\u001b[0m\u001b[0;34m(\u001b[0m\u001b[0ml1\u001b[0m\u001b[0;34m)\u001b[0m\u001b[0;34m\u001b[0m\u001b[0;34m\u001b[0m\u001b[0m\n",
            "\u001b[0;31mTypeError\u001b[0m: list.append() takes exactly one argument (4 given)"
          ]
        }
      ],
      "source": [
        "l1.append(5, 6, 7, 8)\n",
        "print(l1)"
      ]
    },
    {
      "cell_type": "code",
      "execution_count": null,
      "metadata": {
        "colab": {
          "base_uri": "https://localhost:8080/"
        },
        "id": "jc-ewmC5Erk4",
        "outputId": "831ea16b-ba10-4601-bf50-5ea36a7049d1"
      },
      "outputs": [
        {
          "name": "stdout",
          "output_type": "stream",
          "text": [
            "None\n",
            "[1, 2, 3, 4, 5, 6, 4, 5, 6]\n"
          ]
        }
      ],
      "source": [
        "## this way of printing is wrong because the extend function does not return anything\n",
        "l1= [1, 2, 3]\n",
        "l2 = [4, 5, 6]\n",
        "print(l1.extend(l2))    # extend not returns anything\n",
        "\n",
        "l1.extend(l2)\n",
        "print(l1)"
      ]
    },
    {
      "cell_type": "markdown",
      "metadata": {
        "id": "tE4oSw-XEJIh"
      },
      "source": [
        "insert(index, data)"
      ]
    },
    {
      "cell_type": "code",
      "execution_count": 40,
      "metadata": {
        "colab": {
          "base_uri": "https://localhost:8080/"
        },
        "id": "y7b4JCI1DxQJ",
        "outputId": "50d9c144-f4c2-4125-c17b-687f32c0c0fa"
      },
      "outputs": [
        {
          "data": {
            "text/plain": [
              "[10, 25, 5, 60, 15, True, False, 20, 20]"
            ]
          },
          "execution_count": 40,
          "metadata": {},
          "output_type": "execute_result"
        }
      ],
      "source": [
        "my_list"
      ]
    },
    {
      "cell_type": "code",
      "execution_count": 41,
      "metadata": {
        "colab": {
          "base_uri": "https://localhost:8080/"
        },
        "id": "EN9qxhAQEQtJ",
        "outputId": "8820bb38-fea6-4668-974a-b68f1654ae54"
      },
      "outputs": [
        {
          "name": "stdout",
          "output_type": "stream",
          "text": [
            "[5, 10, 25, 5, 60, 15, True, False, 20, 20]\n"
          ]
        }
      ],
      "source": [
        "my_list.insert(0, 5)\n",
        "print(my_list)"
      ]
    },
    {
      "cell_type": "code",
      "execution_count": 42,
      "metadata": {
        "colab": {
          "base_uri": "https://localhost:8080/"
        },
        "id": "qgAgF_InEWiz",
        "outputId": "7170c3cd-b314-458f-c16f-0471fa50591e"
      },
      "outputs": [
        {
          "name": "stdout",
          "output_type": "stream",
          "text": [
            "[5, 10, 20, 25, 5, 60, 15, True, False, 20, 20]\n"
          ]
        }
      ],
      "source": [
        "my_list.insert(2, 20)\n",
        "print(my_list)"
      ]
    },
    {
      "cell_type": "markdown",
      "metadata": {
        "id": "vdnoT8vVFZEv"
      },
      "source": [
        "'+' Operator"
      ]
    },
    {
      "cell_type": "code",
      "execution_count": 43,
      "metadata": {
        "colab": {
          "base_uri": "https://localhost:8080/"
        },
        "id": "NqW49G1KEdRZ",
        "outputId": "44b5dcc1-3097-4230-f5d4-30e011f9db1d"
      },
      "outputs": [
        {
          "name": "stdout",
          "output_type": "stream",
          "text": [
            "['apple', 'banana', 'cherry', 'date']\n"
          ]
        }
      ],
      "source": [
        "list1 = ['apple', 'banana']\n",
        "list2 = ['cherry', 'date']\n",
        "new_list = list1 + list2\n",
        "print(new_list)"
      ]
    },
    {
      "cell_type": "markdown",
      "metadata": {
        "id": "Ezk7wsbqGMXo"
      },
      "source": [
        "Difference between extend vs '+' operator in lists"
      ]
    },
    {
      "cell_type": "code",
      "execution_count": 44,
      "metadata": {
        "colab": {
          "base_uri": "https://localhost:8080/"
        },
        "id": "olBuMTrwFqjh",
        "outputId": "3539aef2-7112-439e-e8ca-93940e845537"
      },
      "outputs": [
        {
          "name": "stdout",
          "output_type": "stream",
          "text": [
            "[1, 2, 3, 4]\n"
          ]
        }
      ],
      "source": [
        "a = [1, 2]\n",
        "a.extend((3, 4))\n",
        "print(a)"
      ]
    },
    {
      "cell_type": "code",
      "execution_count": 45,
      "metadata": {
        "colab": {
          "base_uri": "https://localhost:8080/",
          "height": 141
        },
        "id": "3EQBu3xnGA_J",
        "outputId": "ee8c6353-6ec8-4ce1-80ba-f1c48a52e507"
      },
      "outputs": [
        {
          "ename": "TypeError",
          "evalue": "can only concatenate list (not \"tuple\") to list",
          "output_type": "error",
          "traceback": [
            "\u001b[31m---------------------------------------------------------------------------\u001b[39m",
            "\u001b[31mTypeError\u001b[39m                                 Traceback (most recent call last)",
            "\u001b[36mCell\u001b[39m\u001b[36m \u001b[39m\u001b[32mIn[45]\u001b[39m\u001b[32m, line 1\u001b[39m\n\u001b[32m----> \u001b[39m\u001b[32m1\u001b[39m \u001b[43ma\u001b[49m\u001b[43m \u001b[49m\u001b[43m+\u001b[49m\u001b[43m \u001b[49m\u001b[43m(\u001b[49m\u001b[32;43m3\u001b[39;49m\u001b[43m,\u001b[49m\u001b[43m \u001b[49m\u001b[32;43m4\u001b[39;49m\u001b[43m)\u001b[49m\n",
            "\u001b[31mTypeError\u001b[39m: can only concatenate list (not \"tuple\") to list"
          ]
        }
      ],
      "source": [
        "a + (3, 4)"
      ]
    },
    {
      "cell_type": "markdown",
      "metadata": {
        "id": "rzMPs_i_GTcn"
      },
      "source": [
        "Comparison Of Lists"
      ]
    },
    {
      "cell_type": "code",
      "execution_count": 46,
      "metadata": {
        "colab": {
          "base_uri": "https://localhost:8080/"
        },
        "id": "_wWRScdVGDoi",
        "outputId": "dcd57223-cf8e-42d2-dceb-cc8711d3d3f3"
      },
      "outputs": [
        {
          "name": "stdout",
          "output_type": "stream",
          "text": [
            "False\n"
          ]
        }
      ],
      "source": [
        "list1 = [1, 2, 3]\n",
        "list2 = [4, 5, 6]\n",
        "\n",
        "print(list1 == list2)"
      ]
    },
    {
      "cell_type": "code",
      "execution_count": 47,
      "metadata": {
        "colab": {
          "base_uri": "https://localhost:8080/"
        },
        "id": "7BZaKEXpGaj5",
        "outputId": "d23e82cc-4eb3-4f1a-8b2d-eb5d5e92f86f"
      },
      "outputs": [
        {
          "name": "stdout",
          "output_type": "stream",
          "text": [
            "True\n"
          ]
        }
      ],
      "source": [
        "print(list1 != list2)"
      ]
    },
    {
      "cell_type": "code",
      "execution_count": 48,
      "metadata": {
        "colab": {
          "base_uri": "https://localhost:8080/"
        },
        "id": "GqNZGBFHGk55",
        "outputId": "9fb87f5c-aefb-435b-cb24-06b5a6177934"
      },
      "outputs": [
        {
          "name": "stdout",
          "output_type": "stream",
          "text": [
            "True\n"
          ]
        }
      ],
      "source": [
        "print(list1 < list2)"
      ]
    },
    {
      "cell_type": "code",
      "execution_count": 49,
      "metadata": {
        "colab": {
          "base_uri": "https://localhost:8080/"
        },
        "id": "Sf7m8GbqGqJB",
        "outputId": "3e476d37-97c1-4526-dacc-6137c7e4576b"
      },
      "outputs": [
        {
          "name": "stdout",
          "output_type": "stream",
          "text": [
            "False\n"
          ]
        }
      ],
      "source": [
        "print(list1 > list2)"
      ]
    },
    {
      "cell_type": "code",
      "execution_count": 50,
      "metadata": {
        "colab": {
          "base_uri": "https://localhost:8080/"
        },
        "id": "PeVcBCkLGzCh",
        "outputId": "0daea1d5-fcda-42c5-812d-1047e35d4781"
      },
      "outputs": [
        {
          "data": {
            "text/plain": [
              "[5, 10, 20, 25, 5, 60, 15, True, False, 20, 20]"
            ]
          },
          "execution_count": 50,
          "metadata": {},
          "output_type": "execute_result"
        }
      ],
      "source": [
        "my_list"
      ]
    },
    {
      "cell_type": "code",
      "execution_count": 51,
      "metadata": {
        "colab": {
          "base_uri": "https://localhost:8080/"
        },
        "id": "eBHe0r3WHT0w",
        "outputId": "a1cccb14-a8a8-4124-955b-6c8e911ce748"
      },
      "outputs": [
        {
          "name": "stdout",
          "output_type": "stream",
          "text": [
            "True\n"
          ]
        }
      ],
      "source": [
        "l1 = [1, 2, 3, 50]\n",
        "l2 = [4, 5, 6, 7]\n",
        "print(l1 < l2)"
      ]
    },
    {
      "cell_type": "markdown",
      "metadata": {
        "id": "XaAJ34_RHScw"
      },
      "source": [
        "remove()"
      ]
    },
    {
      "cell_type": "code",
      "execution_count": 63,
      "metadata": {
        "colab": {
          "base_uri": "https://localhost:8080/"
        },
        "id": "nhBCakzfG93Z",
        "outputId": "388c296b-9a48-4a39-bf2c-6d1758669b9e"
      },
      "outputs": [
        {
          "data": {
            "text/plain": [
              "[10, 15, True, False]"
            ]
          },
          "execution_count": 63,
          "metadata": {},
          "output_type": "execute_result"
        }
      ],
      "source": [
        "my_list.remove(60)\n",
        "# my_list.remove(5)\n",
        "my_list"
      ]
    },
    {
      "cell_type": "code",
      "execution_count": null,
      "metadata": {},
      "outputs": [
        {
          "name": "stdout",
          "output_type": "stream",
          "text": [
            "[1, 2, 3, 4, 5, 6, 7, 8, 9]\n",
            "[1, 2, 3, 4, 5, 6, 7, 9]\n",
            "[1, 2, 4, 5, 6, 7, 9]\n"
          ]
        }
      ],
      "source": [
        "mylist2 = [1,2,3,4,5,6,7,8,9]\n",
        "print(mylist2)\n",
        "\n",
        "# .remove(value)\n",
        "mylist2.remove(8)       \n",
        "print(mylist2)\n",
        "\n",
        "mylist2.remove(3)\n",
        "print(mylist2)"
      ]
    },
    {
      "cell_type": "markdown",
      "metadata": {
        "id": "sz6zQpJsHzSw"
      },
      "source": [
        "pop()"
      ]
    },
    {
      "cell_type": "code",
      "execution_count": null,
      "metadata": {
        "colab": {
          "base_uri": "https://localhost:8080/"
        },
        "id": "6wmLAamiHH-b",
        "outputId": "e0f8229b-18a7-4113-aa67-f1a8855cd680"
      },
      "outputs": [
        {
          "data": {
            "text/plain": [
              "[10, 15, True, False]"
            ]
          },
          "execution_count": 69,
          "metadata": {},
          "output_type": "execute_result"
        }
      ],
      "source": [
        "my_list"
      ]
    },
    {
      "cell_type": "code",
      "execution_count": null,
      "metadata": {
        "colab": {
          "base_uri": "https://localhost:8080/"
        },
        "id": "4U4HF0hoH8Wv",
        "outputId": "2e4c78fb-d9a9-4f85-c837-0a05022096b7"
      },
      "outputs": [
        {
          "name": "stdout",
          "output_type": "stream",
          "text": [
            "25\n"
          ]
        }
      ],
      "source": [
        "# .pop(index)\n",
        "# .remove(value)\n",
        "\n",
        "popped_element = my_list.pop(2)\n",
        "print(popped_element)\n",
        "\n",
        "# .remove() --> last elmt"
      ]
    },
    {
      "cell_type": "code",
      "execution_count": 66,
      "metadata": {
        "colab": {
          "base_uri": "https://localhost:8080/"
        },
        "id": "zeviC-xRIGtg",
        "outputId": "539ac137-4c70-49b9-d3a7-16b2a0335f5e"
      },
      "outputs": [
        {
          "data": {
            "text/plain": [
              "[10, 15, True, False]"
            ]
          },
          "execution_count": 66,
          "metadata": {},
          "output_type": "execute_result"
        }
      ],
      "source": [
        "my_list"
      ]
    },
    {
      "cell_type": "code",
      "execution_count": 70,
      "metadata": {
        "colab": {
          "base_uri": "https://localhost:8080/"
        },
        "id": "aOUJ_bg3IIqh",
        "outputId": "af707ba4-0481-4926-9e25-7496a9c6dc56"
      },
      "outputs": [
        {
          "data": {
            "text/plain": [
              "[15, True, False]"
            ]
          },
          "execution_count": 70,
          "metadata": {},
          "output_type": "execute_result"
        }
      ],
      "source": [
        "my_list.remove(10)\n",
        "my_list"
      ]
    },
    {
      "cell_type": "code",
      "execution_count": 71,
      "metadata": {
        "colab": {
          "base_uri": "https://localhost:8080/"
        },
        "id": "ts9lrhjAISIx",
        "outputId": "18047484-2bef-44af-8e38-21868f616840"
      },
      "outputs": [
        {
          "data": {
            "text/plain": [
              "[15, True, False]"
            ]
          },
          "execution_count": 71,
          "metadata": {},
          "output_type": "execute_result"
        }
      ],
      "source": [
        "my_list"
      ]
    },
    {
      "cell_type": "code",
      "execution_count": 72,
      "metadata": {
        "colab": {
          "base_uri": "https://localhost:8080/"
        },
        "id": "AkMUyrkuIoNQ",
        "outputId": "4ba67963-662c-4680-c5d1-f51ccbcdba1b"
      },
      "outputs": [
        {
          "data": {
            "text/plain": [
              "[15, True]"
            ]
          },
          "execution_count": 72,
          "metadata": {},
          "output_type": "execute_result"
        }
      ],
      "source": [
        "my_list.pop()\n",
        "my_list"
      ]
    },
    {
      "cell_type": "markdown",
      "metadata": {
        "id": "jACac5l9I5Fh"
      },
      "source": [
        "del Statement"
      ]
    },
    {
      "cell_type": "code",
      "execution_count": 73,
      "metadata": {
        "colab": {
          "base_uri": "https://localhost:8080/"
        },
        "id": "DPulqMutIrA3",
        "outputId": "2da3432d-10e9-4532-aae5-b7564ecd5df2"
      },
      "outputs": [
        {
          "name": "stdout",
          "output_type": "stream",
          "text": [
            "[15]\n"
          ]
        }
      ],
      "source": [
        "del my_list[1]\n",
        "print(my_list)\n",
        "\n",
        "# del: entire list is deleted\n",
        "# clear : values are deleted"
      ]
    },
    {
      "cell_type": "code",
      "execution_count": 76,
      "metadata": {
        "colab": {
          "base_uri": "https://localhost:8080/",
          "height": 158
        },
        "id": "0Cj9snBgJABR",
        "outputId": "12576cad-9207-4c0c-cb3d-6361eed2a425"
      },
      "outputs": [
        {
          "ename": "NameError",
          "evalue": "name 'my_list' is not defined",
          "output_type": "error",
          "traceback": [
            "\u001b[31m---------------------------------------------------------------------------\u001b[39m",
            "\u001b[31mNameError\u001b[39m                                 Traceback (most recent call last)",
            "\u001b[36mCell\u001b[39m\u001b[36m \u001b[39m\u001b[32mIn[76]\u001b[39m\u001b[32m, line 1\u001b[39m\n\u001b[32m----> \u001b[39m\u001b[32m1\u001b[39m \u001b[38;5;28;01mdel\u001b[39;00m \u001b[43mmy_list\u001b[49m\n\u001b[32m      2\u001b[39m \u001b[38;5;28mprint\u001b[39m(my_list)  \n",
            "\u001b[31mNameError\u001b[39m: name 'my_list' is not defined"
          ]
        }
      ],
      "source": [
        "del my_list\n",
        "print(my_list)  \n",
        "\n"
      ]
    },
    {
      "cell_type": "code",
      "execution_count": 77,
      "metadata": {
        "colab": {
          "base_uri": "https://localhost:8080/"
        },
        "id": "JlBbDWiJJFLH",
        "outputId": "62bdc89f-40c7-45e5-f5a7-60849a1b71d3"
      },
      "outputs": [
        {
          "data": {
            "text/plain": [
              "['One', [1, 2, 3], [4, 5, 6]]"
            ]
          },
          "execution_count": 77,
          "metadata": {},
          "output_type": "execute_result"
        }
      ],
      "source": [
        "list4"
      ]
    },
    {
      "cell_type": "code",
      "execution_count": 78,
      "metadata": {
        "colab": {
          "base_uri": "https://localhost:8080/"
        },
        "id": "UwNmu79GJTgQ",
        "outputId": "9230513e-760c-47ef-8ae9-1b01d09b5304"
      },
      "outputs": [
        {
          "name": "stdout",
          "output_type": "stream",
          "text": [
            "[]\n"
          ]
        }
      ],
      "source": [
        "list4.clear()\n",
        "print(list4)"
      ]
    },
    {
      "cell_type": "markdown",
      "metadata": {
        "id": "_4w9bjLcJo2g"
      },
      "source": [
        "Sorting list"
      ]
    },
    {
      "cell_type": "code",
      "execution_count": null,
      "metadata": {
        "colab": {
          "base_uri": "https://localhost:8080/"
        },
        "id": "eJFWe9LyJXCR",
        "outputId": "e301f29a-c2b7-4c14-86f9-9d2f4389d7dc"
      },
      "outputs": [
        {
          "name": "stdout",
          "output_type": "stream",
          "text": [
            "[0, 1, 3, 4, 7, 8, 11, 12, 13, 16]\n"
          ]
        }
      ],
      "source": [
        "# arrange in ascending\n",
        "\n",
        "my_list = [3, 1, 4, 7, 8, 12, 0, 13, 16, 11]\n",
        "my_list.sort()\n",
        "print(my_list)"
      ]
    },
    {
      "cell_type": "code",
      "execution_count": 80,
      "metadata": {
        "colab": {
          "base_uri": "https://localhost:8080/"
        },
        "id": "h_RiVhewJ5bp",
        "outputId": "029e5d33-d874-4762-db0d-eb7fd1690040"
      },
      "outputs": [
        {
          "name": "stdout",
          "output_type": "stream",
          "text": [
            "[16, 13, 12, 11, 8, 7, 4, 3, 1, 0]\n"
          ]
        }
      ],
      "source": [
        "# arrange in descending\n",
        "\n",
        "my_list = [3, 1, 4, 7, 8, 12, 0, 13, 16, 11]\n",
        "my_list.sort(reverse=True)\n",
        "print(my_list)"
      ]
    },
    {
      "cell_type": "markdown",
      "metadata": {
        "id": "1Et7doOCKiDY"
      },
      "source": [
        "count()"
      ]
    },
    {
      "cell_type": "code",
      "execution_count": 81,
      "metadata": {
        "colab": {
          "base_uri": "https://localhost:8080/"
        },
        "id": "OZ_K9qasKCOC",
        "outputId": "1e786a7f-feec-4457-e21c-3e822d4df807"
      },
      "outputs": [
        {
          "name": "stdout",
          "output_type": "stream",
          "text": [
            "1\n"
          ]
        }
      ],
      "source": [
        "count_element = my_list.count(16)\n",
        "print(count_element)"
      ]
    },
    {
      "cell_type": "code",
      "execution_count": 82,
      "metadata": {
        "colab": {
          "base_uri": "https://localhost:8080/"
        },
        "id": "jxkpe72LKsHw",
        "outputId": "2128b037-78a5-4a60-a577-105a2ae3feb6"
      },
      "outputs": [
        {
          "name": "stdout",
          "output_type": "stream",
          "text": [
            "6\n"
          ]
        }
      ],
      "source": [
        "index = my_list.index(4)\n",
        "print(index)"
      ]
    },
    {
      "cell_type": "code",
      "execution_count": 84,
      "metadata": {
        "colab": {
          "base_uri": "https://localhost:8080/"
        },
        "id": "7FoZQZkNK6Hd",
        "outputId": "b9d48a3a-c20a-4a0e-8262-6d659c43ede4"
      },
      "outputs": [
        {
          "name": "stdout",
          "output_type": "stream",
          "text": [
            "[16, 13, 12, 11, 8, 7, 4, 3, 1, 0]\n"
          ]
        }
      ],
      "source": [
        "my_list.reverse()\n",
        "print(my_list)"
      ]
    },
    {
      "cell_type": "code",
      "execution_count": null,
      "metadata": {},
      "outputs": [
        {
          "name": "stdout",
          "output_type": "stream",
          "text": [
            "[1, 323, 45, 22, 3, 44, 5]\n",
            "None\n",
            "None\n",
            "None\n",
            "[323, 45, 44, 22, 5, 3, 1]\n",
            "[1, 3, 5, 22, 44, 45, 323]\n",
            "[1, 2, 3, 4, 5]\n"
          ]
        }
      ],
      "source": [
        "list5= [1,323, 45,22,3,44,5]\n",
        "print(list5)\n",
        "\n",
        "print(list5.sort())\n",
        "print(list5.sort(reverse= True))\n",
        "print(list5.reverse())\n",
        "\n",
        "list5.reverse()\n",
        "print(list5)\n",
        "\n",
        "list5.sort()\n",
        "print(list5)\n",
        "\n",
        "\n",
        "# og list ko reverse karta hai/  diff from sort reverse= true\n",
        "list6= [5,4,3,2,1]\n",
        "list6.reverse()\n",
        "print(list6)\n",
        "\n",
        "\n"
      ]
    },
    {
      "cell_type": "code",
      "execution_count": 93,
      "metadata": {
        "colab": {
          "base_uri": "https://localhost:8080/"
        },
        "id": "ZQUzPw5FLBpQ",
        "outputId": "a41842c4-9a62-4362-944d-4478ff5605f2"
      },
      "outputs": [
        {
          "name": "stdout",
          "output_type": "stream",
          "text": [
            "Hello How are you\n"
          ]
        }
      ],
      "source": [
        "words = [\"Hello\", \"How\", \"are\", \"you\"]\n",
        "result = \" \".join(words)\n",
        "print(result)"
      ]
    },
    {
      "cell_type": "code",
      "execution_count": null,
      "metadata": {
        "id": "RY3rgkRTLSM7"
      },
      "outputs": [],
      "source": []
    },
    {
      "cell_type": "code",
      "execution_count": null,
      "metadata": {},
      "outputs": [],
      "source": []
    }
  ],
  "metadata": {
    "colab": {
      "provenance": []
    },
    "kernelspec": {
      "display_name": "Python 3",
      "name": "python3"
    },
    "language_info": {
      "codemirror_mode": {
        "name": "ipython",
        "version": 3
      },
      "file_extension": ".py",
      "mimetype": "text/x-python",
      "name": "python",
      "nbconvert_exporter": "python",
      "pygments_lexer": "ipython3",
      "version": "3.13.1"
    }
  },
  "nbformat": 4,
  "nbformat_minor": 0
}
