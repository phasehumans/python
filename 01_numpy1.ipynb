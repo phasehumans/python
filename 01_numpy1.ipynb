{
  "cells": [
    {
      "cell_type": "markdown",
      "metadata": {
        "id": "O2IeyH9tB_y4"
      },
      "source": [
        "array:\n",
        "- homo elmt\n",
        "- mutable\n",
        "\n",
        "lists:\n",
        "- hetro elmt\n",
        "- mutable"
      ]
    },
    {
      "cell_type": "code",
      "execution_count": 1,
      "metadata": {
        "id": "mDHQamoHHQM4"
      },
      "outputs": [],
      "source": [
        "import numpy as np\n",
        "# np is allias"
      ]
    },
    {
      "cell_type": "markdown",
      "metadata": {},
      "source": [
        "## Numpy\n",
        "maths and stats fn  \n",
        "array manipulation & operations  \n",
        "\n",
        "### Array creation\n",
        "- np.array()\n",
        "- np.random.rand(size)  \n",
        "- np.random.randint(0,10, size= 5)  \n",
        "- np.zeros()\n",
        "- np.ones()\n",
        "- np.empty()\n",
        "- np.arange(start, stop, step, dtype=None)\n",
        "- np.full(size, value)\n",
        "\n",
        "\n",
        "### Datatypes\n",
        "- integer --> int8, int16, int32, and int64 (bit-size)\n",
        "- float --> float16, float32, and float64\n",
        "- complex --> complex64 and complex128\n",
        "- boolean --> np.bool_\n",
        "- str --> dtype= str\n",
        "- object --> dtype= object\n",
        "\n",
        "type conversion --> var.astype(datatype) \n",
        "\n",
        "### Indexing & Slicing\n",
        "\n",
        "Attributes:\n",
        "- size - returns number of elements in the array\n",
        "- dtype - returns data type of elements in the array\n",
        "- itemsize - returns the size (in bytes) of each elements in the array\n",
        "- reshape - changes the shape of the array to the desired dimensions\n",
        "- ndim - dimension of arr\n",
        "\n",
        "\n",
        "Indexing:\n",
        "- arrray[index]\n",
        "- array[row,col]\n",
        "- array[]\n",
        "\n",
        "Slicing:\n",
        "- array[start:stop:step]\n",
        "- mask --> filter to create sub array\n",
        "\n",
        "### Operations\n",
        "element wise operations (0,1 + 0,1)\n",
        "\n",
        "- arthmetic : + - * / % (elmt wise oprt)\n",
        "- np.sort()\n",
        "- np.argsort() --> idices of sorted\n",
        "- np.concatenate()\n",
        "- np.reshape()\n",
        "- np.sum()\n",
        "- np.prod()\n",
        "- np.cumsum() --> sum of the current and all previous elements.\n",
        "- np.cumprod()\n",
        "- np.add()\n",
        "- np.substract()\n",
        "- np.multiply()\n",
        "- np.divide()\n",
        "- < > >= <= == != (elmt wise)\n",
        "- np.logical_and, \n",
        "- np.logical_or\n",
        "- np.logical_not\n",
        "- np.logical_xor\n",
        "\n",
        "### Statistical fn\n",
        "- np.mean() --> avg\n",
        "- np.median()\n",
        "- np.var() --> The average of the squared differences from the mean\n",
        "- np.std() --> The square root of the variance, representing the dispersion of the data\n",
        "- np.min() --> smallest value in arr\n",
        "- np.max() --> largest value in array\n",
        "- np.percentile() --> a score in the k-th percentile would be above approximately k% of all scores in its set\n",
        "\n",
        "### String fn\n",
        "- np.char.add()\n",
        "- np.char.multiply()\n",
        "- np.char.capitalize()\n",
        "- np.char.title()\n",
        "- np.char.lower()\n",
        "- np.char.upper()\n",
        "- np.char.split() --> split into lst\n",
        "- np.char.splitlines()\n",
        "- np.char.join(separator, arr)\n",
        "- np.char.find(arr, substring)\n",
        "- np.char.rfind() ->  returns the highest index in each string where the substring is found. If the substring is not found, it returns -1\n",
        "- np.char.strip() --> remove white spaces\n",
        "- np.char.isdigit()\n",
        "- np.char.isalpha()\n",
        "- np.char.isnumeric()\n",
        "- np.column_stack() --> join col\n",
        "- np.tile(np.concatenate([pair1, pair2]), n)\n",
        "\n",
        "### Broadcasting\n",
        "- Rule 1: If the arrays do not have the same rank, prepend the shape of the smaller array with ones until both shapes have the same length.\n",
        "- Rule 2: The size in each dimension of the output shape is the maximum size in that dimension of the input shapes.\n",
        "- Rule 3: An array can be broadcast across another array only if the size of the dimension in the array is 1 or matches the size of the dimension in the other array.\n",
        "\n",
        "\n",
        "### Matrix\n",
        "- np.transpose() --> row to col ()\n",
        "- arr.T --> transpose\n",
        "- np.linalg.inv()\n",
        "- np.dot()\n",
        "\n",
        "### Set operations\n",
        "- np.unique() ---> returns the sorted unique elements of an array.\n",
        "- np.intersect1d --> returns the sorted, unique values that are in both of the input arrays\n",
        "- np.union1d --> returns the sorted, unique values that are in either of the input arrays\n",
        "- np.setdiff1d --> returns the sorted, unique values in array1 that are not in array2\n"
      ]
    },
    {
      "cell_type": "code",
      "execution_count": 2,
      "metadata": {
        "colab": {
          "base_uri": "https://localhost:8080/"
        },
        "id": "J-yaono3M6zI",
        "outputId": "8da44e08-f77f-4f5b-9449-84b7d2f776aa"
      },
      "outputs": [
        {
          "name": "stdout",
          "output_type": "stream",
          "text": [
            "[1 2 3 4]\n",
            "<class 'numpy.ndarray'>\n"
          ]
        }
      ],
      "source": [
        "arr= np.array([1,2,3,4])\n",
        "\n",
        "print(arr)\n",
        "print(type(arr))"
      ]
    },
    {
      "cell_type": "code",
      "execution_count": 5,
      "metadata": {
        "colab": {
          "base_uri": "https://localhost:8080/"
        },
        "id": "RX4ID3rIP1e4",
        "outputId": "bf209bba-487d-45d1-f492-9b2b1ed2e60b"
      },
      "outputs": [
        {
          "data": {
            "text/plain": [
              "1"
            ]
          },
          "execution_count": 5,
          "metadata": {},
          "output_type": "execute_result"
        }
      ],
      "source": [
        "arr.ndim \n",
        "# dimensions\n",
        "\n",
        "# dimension is diffn from size,shape"
      ]
    },
    {
      "cell_type": "code",
      "execution_count": 4,
      "metadata": {
        "colab": {
          "base_uri": "https://localhost:8080/"
        },
        "id": "6jP9fo_LP--6",
        "outputId": "d40335f2-a743-4a6f-960d-b4af6760d19e"
      },
      "outputs": [
        {
          "data": {
            "text/plain": [
              "(4,)"
            ]
          },
          "execution_count": 4,
          "metadata": {},
          "output_type": "execute_result"
        }
      ],
      "source": [
        "arr.shape\n",
        "# number of elmt (row,col)\n"
      ]
    },
    {
      "cell_type": "code",
      "execution_count": 5,
      "metadata": {
        "colab": {
          "base_uri": "https://localhost:8080/"
        },
        "id": "r62yfWMxHXmD",
        "outputId": "f063f757-0390-443a-9930-3d7da295b7d8"
      },
      "outputs": [
        {
          "name": "stdout",
          "output_type": "stream",
          "text": [
            "[23 45 77]\n",
            "[1, 3, 4, 5]\n"
          ]
        }
      ],
      "source": [
        "arr2= np.array((23,45,77))\n",
        "# tupple into array\n",
        "print(arr2)\n",
        "\n",
        "# list\n",
        "lst= [1,3,4,5]\n",
        "print(lst)\n",
        "\n",
        "# diff betn arr (homo) and list (hetro)"
      ]
    },
    {
      "cell_type": "code",
      "execution_count": 10,
      "metadata": {
        "colab": {
          "base_uri": "https://localhost:8080/"
        },
        "id": "hus1jR19I3JT",
        "outputId": "65598d6f-a288-4bd5-d392-7b34415aaacc"
      },
      "outputs": [
        {
          "name": "stdout",
          "output_type": "stream",
          "text": [
            "[[ 1  2  3]\n",
            " [ 4  5  6]\n",
            " [ 7  8  9]\n",
            " [11 23 44]]\n",
            "<class 'numpy.ndarray'>\n"
          ]
        }
      ],
      "source": [
        "arr_2d= np.array([[1,2,3],\n",
        "                  [4,5,6],\n",
        "                  [7,8,9],\n",
        "                  [11,23,44]])\n",
        "\n",
        "print(arr_2d)\n",
        "print(type(arr_2d))"
      ]
    },
    {
      "cell_type": "code",
      "execution_count": 11,
      "metadata": {
        "colab": {
          "base_uri": "https://localhost:8080/"
        },
        "id": "5WLGREEzQLNb",
        "outputId": "03d21e22-43ba-4af3-8095-c4d2cf7c21f2"
      },
      "outputs": [
        {
          "data": {
            "text/plain": [
              "2"
            ]
          },
          "execution_count": 11,
          "metadata": {},
          "output_type": "execute_result"
        }
      ],
      "source": [
        "arr_2d.ndim"
      ]
    },
    {
      "cell_type": "code",
      "execution_count": 12,
      "metadata": {
        "colab": {
          "base_uri": "https://localhost:8080/"
        },
        "id": "p3eExhcVQRPC",
        "outputId": "287ec6b8-2ffd-434a-e2b8-f46a6f248952"
      },
      "outputs": [
        {
          "data": {
            "text/plain": [
              "(4, 3)"
            ]
          },
          "execution_count": 12,
          "metadata": {},
          "output_type": "execute_result"
        }
      ],
      "source": [
        "arr_2d.shape\n",
        "\n",
        "# (rows,col)"
      ]
    },
    {
      "cell_type": "code",
      "execution_count": 13,
      "metadata": {
        "colab": {
          "base_uri": "https://localhost:8080/"
        },
        "id": "3cMF9jnDJMTP",
        "outputId": "54a3d2b7-11a6-4573-9994-1a89b9213498"
      },
      "outputs": [
        {
          "name": "stdout",
          "output_type": "stream",
          "text": [
            "[[[ 1  2  3]\n",
            "  [ 4  5  6]\n",
            "  [ 7  8  9]]\n",
            "\n",
            " [[33 45 66]\n",
            "  [23 23 55]\n",
            "  [44 77 88]]]\n",
            "<class 'numpy.ndarray'>\n"
          ]
        }
      ],
      "source": [
        "arr_3d= np.array([[[1,2,3],\n",
        "                   [4,5,6],\n",
        "                   [7,8,9]],\n",
        "\n",
        "                  [[33,45,66],\n",
        "                   [23,23,55],\n",
        "                   [44,77,88]]])\n",
        "\n",
        "print(arr_3d)\n",
        "print(type(arr_3d))"
      ]
    },
    {
      "cell_type": "code",
      "execution_count": 14,
      "metadata": {
        "colab": {
          "base_uri": "https://localhost:8080/"
        },
        "id": "4KWgcGUNJNFE",
        "outputId": "696dbde5-0bdd-44b7-f35a-77612b821232"
      },
      "outputs": [
        {
          "data": {
            "text/plain": [
              "3"
            ]
          },
          "execution_count": 14,
          "metadata": {},
          "output_type": "execute_result"
        }
      ],
      "source": [
        "arr_3d.ndim"
      ]
    },
    {
      "cell_type": "code",
      "execution_count": 15,
      "metadata": {
        "colab": {
          "base_uri": "https://localhost:8080/"
        },
        "id": "CDz2SAQ-JM1s",
        "outputId": "605b0e30-52be-4aa0-e0b0-3dd605063780"
      },
      "outputs": [
        {
          "data": {
            "text/plain": [
              "(2, 3, 3)"
            ]
          },
          "execution_count": 15,
          "metadata": {},
          "output_type": "execute_result"
        }
      ],
      "source": [
        "arr_3d.shape\n",
        "\n",
        "# (2,3,3)\n",
        "# 2 are sun arr (3,3) --> (rows, cols)"
      ]
    },
    {
      "cell_type": "code",
      "execution_count": null,
      "metadata": {
        "colab": {
          "base_uri": "https://localhost:8080/",
          "height": 236
        },
        "id": "xjCidtQHQe3o",
        "outputId": "212b69e6-598f-464e-e193-c0b7c31b6e04"
      },
      "outputs": [
        {
          "ename": "ValueError",
          "evalue": "setting an array element with a sequence. The requested array has an inhomogeneous shape after 2 dimensions. The detected shape was (3, 3) + inhomogeneous part.",
          "output_type": "error",
          "traceback": [
            "\u001b[31m---------------------------------------------------------------------------\u001b[39m",
            "\u001b[31mValueError\u001b[39m                                Traceback (most recent call last)",
            "\u001b[36mCell\u001b[39m\u001b[36m \u001b[39m\u001b[32mIn[24]\u001b[39m\u001b[32m, line 1\u001b[39m\n\u001b[32m----> \u001b[39m\u001b[32m1\u001b[39m arr_3d2= \u001b[43mnp\u001b[49m\u001b[43m.\u001b[49m\u001b[43marray\u001b[49m\u001b[43m(\u001b[49m\u001b[43m[\u001b[49m\u001b[43m[\u001b[49m\u001b[43m[\u001b[49m\u001b[32;43m1\u001b[39;49m\u001b[43m,\u001b[49m\u001b[32;43m2\u001b[39;49m\u001b[43m,\u001b[49m\u001b[32;43m3\u001b[39;49m\u001b[43m]\u001b[49m\u001b[43m,\u001b[49m\n\u001b[32m      2\u001b[39m \u001b[43m                   \u001b[49m\u001b[43m[\u001b[49m\u001b[32;43m4\u001b[39;49m\u001b[43m,\u001b[49m\u001b[32;43m5\u001b[39;49m\u001b[43m,\u001b[49m\u001b[32;43m6\u001b[39;49m\u001b[43m]\u001b[49m\u001b[43m,\u001b[49m\n\u001b[32m      3\u001b[39m \u001b[43m                   \u001b[49m\u001b[43m[\u001b[49m\u001b[32;43m7\u001b[39;49m\u001b[43m,\u001b[49m\u001b[32;43m8\u001b[39;49m\u001b[43m,\u001b[49m\u001b[32;43m9\u001b[39;49m\u001b[43m]\u001b[49m\u001b[43m]\u001b[49m\u001b[43m,\u001b[49m\n\u001b[32m      4\u001b[39m \n\u001b[32m      5\u001b[39m \u001b[43m                  \u001b[49m\u001b[43m[\u001b[49m\u001b[43m[\u001b[49m\u001b[32;43m33\u001b[39;49m\u001b[43m,\u001b[49m\u001b[32;43m45\u001b[39;49m\u001b[43m,\u001b[49m\u001b[32;43m66\u001b[39;49m\u001b[43m]\u001b[49m\u001b[43m,\u001b[49m\n\u001b[32m      6\u001b[39m \u001b[43m                   \u001b[49m\u001b[43m[\u001b[49m\u001b[32;43m23\u001b[39;49m\u001b[43m,\u001b[49m\u001b[32;43m23\u001b[39;49m\u001b[43m,\u001b[49m\u001b[32;43m55\u001b[39;49m\u001b[43m]\u001b[49m\u001b[43m,\u001b[49m\n\u001b[32m      7\u001b[39m \u001b[43m                   \u001b[49m\u001b[43m[\u001b[49m\u001b[32;43m44\u001b[39;49m\u001b[43m,\u001b[49m\u001b[32;43m77\u001b[39;49m\u001b[43m,\u001b[49m\u001b[32;43m88\u001b[39;49m\u001b[43m]\u001b[49m\u001b[43m]\u001b[49m\u001b[43m,\u001b[49m\n\u001b[32m      8\u001b[39m \n\u001b[32m      9\u001b[39m \u001b[43m                  \u001b[49m\u001b[43m[\u001b[49m\u001b[43m[\u001b[49m\u001b[32;43m3\u001b[39;49m\u001b[43m,\u001b[49m\u001b[32;43m44\u001b[39;49m\u001b[43m]\u001b[49m\u001b[43m,\u001b[49m\n\u001b[32m     10\u001b[39m \u001b[43m                   \u001b[49m\u001b[43m[\u001b[49m\u001b[32;43m37\u001b[39;49m\u001b[43m,\u001b[49m\u001b[43m \u001b[49m\u001b[32;43m33\u001b[39;49m\u001b[43m]\u001b[49m\u001b[43m,\u001b[49m\n\u001b[32m     11\u001b[39m \u001b[43m                   \u001b[49m\u001b[43m[\u001b[49m\u001b[32;43m23\u001b[39;49m\u001b[43m,\u001b[49m\u001b[32;43m44\u001b[39;49m\u001b[43m]\u001b[49m\u001b[43m]\u001b[49m\n\u001b[32m     12\u001b[39m \u001b[43m                  \u001b[49m\u001b[43m]\u001b[49m\u001b[43m)\u001b[49m\n",
            "\u001b[31mValueError\u001b[39m: setting an array element with a sequence. The requested array has an inhomogeneous shape after 2 dimensions. The detected shape was (3, 3) + inhomogeneous part."
          ]
        }
      ],
      "source": [
        "arr_3d2= np.array([[[1,2,3],\n",
        "                   [4,5,6],\n",
        "                   [7,8,9]],\n",
        "\n",
        "                  [[33,45,66],      #3*3\n",
        "                   [23,23,55],\n",
        "                   [44,77,88]],\n",
        "\n",
        "                  [[3,44],      #3*2\n",
        "                   [37, 33],\n",
        "                   [23,44]]\n",
        "                  ])"
      ]
    },
    {
      "cell_type": "code",
      "execution_count": 16,
      "metadata": {
        "colab": {
          "base_uri": "https://localhost:8080/"
        },
        "id": "ziUwIhbvRNWD",
        "outputId": "c496f609-75b5-414b-f526-ffbd1933d665"
      },
      "outputs": [
        {
          "name": "stdout",
          "output_type": "stream",
          "text": [
            "[[[ 1  2  3]\n",
            "  [ 4  5  6]\n",
            "  [ 7  8  9]]\n",
            "\n",
            " [[33 45 66]\n",
            "  [23 23 55]\n",
            "  [44 77 88]]\n",
            "\n",
            " [[36 44 55]\n",
            "  [23  4 44]\n",
            "  [23 55 67]]\n",
            "\n",
            " [[36 44 55]\n",
            "  [23  4 44]\n",
            "  [23 55 67]]]\n"
          ]
        }
      ],
      "source": [
        "arr_3d3= np.array([[[1,2,3],\n",
        "                   [4,5,6],\n",
        "                   [7,8,9]],\n",
        "\n",
        "                  [[33,45,66],\n",
        "                   [23,23,55],\n",
        "                   [44,77,88]],\n",
        "\n",
        "                   [[36,44,55],\n",
        "                    [23,4,44,],\n",
        "                    [23,55,67]],\n",
        "\n",
        "                   [[36,44,55],\n",
        "                    [23,4,44,],\n",
        "                    [23,55,67]]\n",
        "\n",
        "                   ])\n",
        "\n",
        "print(arr_3d3)"
      ]
    },
    {
      "cell_type": "code",
      "execution_count": 17,
      "metadata": {
        "colab": {
          "base_uri": "https://localhost:8080/"
        },
        "id": "vYDQW6LURedD",
        "outputId": "d0dec737-b7eb-4adf-eb70-f39382a8f0ae"
      },
      "outputs": [
        {
          "data": {
            "text/plain": [
              "3"
            ]
          },
          "execution_count": 17,
          "metadata": {},
          "output_type": "execute_result"
        }
      ],
      "source": [
        "arr_3d3.ndim"
      ]
    },
    {
      "cell_type": "code",
      "execution_count": 18,
      "metadata": {
        "colab": {
          "base_uri": "https://localhost:8080/"
        },
        "id": "n4Joxmb0Rp74",
        "outputId": "590f4817-172b-40cf-d8b6-d3ddeb0bf0c9"
      },
      "outputs": [
        {
          "data": {
            "text/plain": [
              "(4, 3, 3)"
            ]
          },
          "execution_count": 18,
          "metadata": {},
          "output_type": "execute_result"
        }
      ],
      "source": [
        "arr_3d3.shape\n",
        "\n",
        "# (num of sub mx, row, col)"
      ]
    },
    {
      "cell_type": "code",
      "execution_count": 19,
      "metadata": {
        "colab": {
          "base_uri": "https://localhost:8080/"
        },
        "id": "5z8_exEDVs2h",
        "outputId": "8783ffe9-2215-4410-924c-f1f5fcdb8b50"
      },
      "outputs": [
        {
          "data": {
            "text/plain": [
              "8"
            ]
          },
          "execution_count": 19,
          "metadata": {},
          "output_type": "execute_result"
        }
      ],
      "source": [
        "arr_3d3.itemsize"
      ]
    },
    {
      "cell_type": "code",
      "execution_count": 20,
      "metadata": {
        "colab": {
          "base_uri": "https://localhost:8080/"
        },
        "id": "3VmOiJucRp2Q",
        "outputId": "6cb4037d-ec76-4a92-d962-fb2c816ca7c7"
      },
      "outputs": [
        {
          "data": {
            "text/plain": [
              "dtype('int64')"
            ]
          },
          "execution_count": 20,
          "metadata": {},
          "output_type": "execute_result"
        }
      ],
      "source": [
        "arr_3d3.dtype\n",
        "\n",
        "# diff types of elmt, but not smtly"
      ]
    },
    {
      "cell_type": "code",
      "execution_count": 21,
      "metadata": {
        "colab": {
          "base_uri": "https://localhost:8080/"
        },
        "id": "EQBR6pnxRprj",
        "outputId": "3a19f629-bc25-498a-e26f-a5053ef5a240"
      },
      "outputs": [
        {
          "name": "stdout",
          "output_type": "stream",
          "text": [
            "['red' 'white' 'purple']\n",
            "<class 'numpy.ndarray'>\n",
            "<class 'numpy.str_'>\n"
          ]
        }
      ],
      "source": [
        "clrs= np.array([\"red\", \"white\", \"purple\"])\n",
        "print(clrs)\n",
        "print(type(clrs))\n",
        "\n",
        "print(type(clrs[2]))"
      ]
    },
    {
      "cell_type": "code",
      "execution_count": 22,
      "metadata": {
        "colab": {
          "base_uri": "https://localhost:8080/"
        },
        "id": "aseo79siRph7",
        "outputId": "241f421a-4777-4a71-91ca-5c57dafe90d3"
      },
      "outputs": [
        {
          "name": "stdout",
          "output_type": "stream",
          "text": [
            "['apple' 'banana' '23' '54']\n",
            "<class 'numpy.ndarray'>\n",
            "<U21\n",
            "<class 'types.GenericAlias'>\n",
            "<class 'types.GenericAlias'>\n"
          ]
        }
      ],
      "source": [
        "mix_arr= np.array([\"apple\", \"banana\", 23, 54])\n",
        "print(mix_arr)\n",
        "print(type(mix_arr))\n",
        "print(mix_arr.dtype)\n",
        "\n",
        "# here 23 and 54 converted generic (str)\n",
        "# array --> homo\n",
        "\n",
        "print(type(np.matrix[0]))\n",
        "print(type(np.matrix[3]))"
      ]
    },
    {
      "cell_type": "code",
      "execution_count": 23,
      "metadata": {
        "colab": {
          "base_uri": "https://localhost:8080/"
        },
        "id": "XVWZC03AT-h8",
        "outputId": "66a00131-80a3-4654-a994-f9f04830d5e5"
      },
      "outputs": [
        {
          "name": "stdout",
          "output_type": "stream",
          "text": [
            "[1.  2.  3.  5.9]\n",
            "float64\n"
          ]
        }
      ],
      "source": [
        "num= np.array([1,2,3, 5.9])\n",
        "\n",
        "print(num)\n",
        "\n",
        "print(num.dtype)"
      ]
    },
    {
      "cell_type": "code",
      "execution_count": 24,
      "metadata": {
        "colab": {
          "base_uri": "https://localhost:8080/"
        },
        "id": "NeKbTptuVWRk",
        "outputId": "a2e75f9e-6356-43a3-ed86-1c194277cd20"
      },
      "outputs": [
        {
          "data": {
            "text/plain": [
              "8"
            ]
          },
          "execution_count": 24,
          "metadata": {},
          "output_type": "execute_result"
        }
      ],
      "source": [
        "num.itemsize\n",
        "\n",
        "# size in bits of each elmt"
      ]
    },
    {
      "cell_type": "code",
      "execution_count": 27,
      "metadata": {
        "colab": {
          "base_uri": "https://localhost:8080/"
        },
        "id": "wBwKNZEYVV_x",
        "outputId": "16e554f1-2f22-443c-8a55-23260fb5c62f"
      },
      "outputs": [
        {
          "data": {
            "text/plain": [
              "8"
            ]
          },
          "execution_count": 27,
          "metadata": {},
          "output_type": "execute_result"
        }
      ],
      "source": [
        "x= np.array([1,2,4])\n",
        "\n",
        "x.itemsize\n",
        "\n",
        "# size of individual elmt"
      ]
    },
    {
      "cell_type": "code",
      "execution_count": 28,
      "metadata": {
        "colab": {
          "base_uri": "https://localhost:8080/"
        },
        "id": "Wqm5bJEHWLdT",
        "outputId": "0976c766-6043-46a6-89df-e304a7aa6fae"
      },
      "outputs": [
        {
          "data": {
            "text/plain": [
              "24"
            ]
          },
          "execution_count": 28,
          "metadata": {},
          "output_type": "execute_result"
        }
      ],
      "source": [
        "fruits= np.array([\"apple\", \"mango\", \"orange\", \"ee\"])\n",
        "\n",
        "fruits.itemsize"
      ]
    },
    {
      "cell_type": "code",
      "execution_count": 29,
      "metadata": {
        "colab": {
          "base_uri": "https://localhost:8080/"
        },
        "id": "T4nnsViKWWvh",
        "outputId": "385a7f7a-f816-4165-f285-9552345890d6"
      },
      "outputs": [
        {
          "name": "stdout",
          "output_type": "stream",
          "text": [
            "data buffer <memory at 0x000002E17DD78280>\n"
          ]
        }
      ],
      "source": [
        "print(\"data buffer\", fruits.data)\n",
        "\n",
        "# specific memory  location"
      ]
    },
    {
      "cell_type": "code",
      "execution_count": 30,
      "metadata": {
        "colab": {
          "base_uri": "https://localhost:8080/"
        },
        "id": "4M-Sft9yXz-H",
        "outputId": "2445d3ce-cd33-49dd-a7bc-1382943b1808"
      },
      "outputs": [
        {
          "name": "stdout",
          "output_type": "stream",
          "text": [
            "[1 2 3 4]\n",
            "[23 45 77]\n",
            "3\n",
            "23\n"
          ]
        }
      ],
      "source": [
        "# indexing\n",
        "\n",
        "print(arr)\n",
        "print(arr2)\n",
        "\n",
        "print(arr[2])\n",
        "print(arr2[0])"
      ]
    },
    {
      "cell_type": "code",
      "execution_count": 31,
      "metadata": {
        "colab": {
          "base_uri": "https://localhost:8080/"
        },
        "id": "GzwjdzFXX1mW",
        "outputId": "ac8ccad6-f111-4a19-c114-83ffe7cf0f05"
      },
      "outputs": [
        {
          "name": "stdout",
          "output_type": "stream",
          "text": [
            "[[ 1  2  3]\n",
            " [ 4  5  6]\n",
            " [ 7  8  9]\n",
            " [11 23 44]]\n",
            "6\n",
            "6\n"
          ]
        }
      ],
      "source": [
        "print(arr_2d)\n",
        "\n",
        "print(arr_2d[1][2])\n",
        "print(arr_2d[1,2])"
      ]
    },
    {
      "cell_type": "code",
      "execution_count": 39,
      "metadata": {
        "colab": {
          "base_uri": "https://localhost:8080/"
        },
        "id": "biGTWY_4YSlJ",
        "outputId": "047be1a2-53e4-4c3a-803b-3285948f494a"
      },
      "outputs": [
        {
          "name": "stdout",
          "output_type": "stream",
          "text": [
            "[[[ 1  2  3]\n",
            "  [ 4  5  6]\n",
            "  [ 7  8  9]]\n",
            "\n",
            " [[33 45 66]\n",
            "  [23 23 55]\n",
            "  [44 77 88]]]\n",
            "6\n",
            "33\n",
            "44\n",
            "[[1 2 3]\n",
            " [4 5 6]\n",
            " [7 8 9]]\n"
          ]
        }
      ],
      "source": [
        "print(arr_3d)\n",
        "\n",
        "print(arr_3d[0,1,2])\n",
        "print(arr_3d[1,0,0])\n",
        "print(arr_3d[1,2,0])\n",
        "\n",
        "print(arr_3d[0])"
      ]
    },
    {
      "cell_type": "code",
      "execution_count": 40,
      "metadata": {
        "colab": {
          "base_uri": "https://localhost:8080/"
        },
        "id": "YCkSrr-VY-JR",
        "outputId": "f7b6b307-acbf-437e-c4f0-7e3eee9dfaba"
      },
      "outputs": [
        {
          "name": "stdout",
          "output_type": "stream",
          "text": [
            "77\n"
          ]
        }
      ],
      "source": [
        "print(arr_3d[1,2,1])"
      ]
    },
    {
      "cell_type": "code",
      "execution_count": 41,
      "metadata": {
        "colab": {
          "base_uri": "https://localhost:8080/"
        },
        "id": "Y-ruuhWmdEp0",
        "outputId": "88ce2380-e064-42b8-fbea-02d021b03761"
      },
      "outputs": [
        {
          "name": "stdout",
          "output_type": "stream",
          "text": [
            "[1 2 3 4]\n",
            "[3 4]\n",
            "[2 3]\n"
          ]
        }
      ],
      "source": [
        "# slicing\n",
        "\n",
        "print(arr)\n",
        "print(arr[2:])\n",
        "print(arr[1:3])"
      ]
    },
    {
      "cell_type": "code",
      "execution_count": 42,
      "metadata": {
        "colab": {
          "base_uri": "https://localhost:8080/"
        },
        "id": "5BmJIih8fKfS",
        "outputId": "e77332aa-51d8-4dcd-fefe-56df68afea61"
      },
      "outputs": [
        {
          "name": "stdout",
          "output_type": "stream",
          "text": [
            "[23 45 77]\n",
            "[77]\n"
          ]
        }
      ],
      "source": [
        "print(arr2)\n",
        "\n",
        "print(arr2[-1:])"
      ]
    },
    {
      "cell_type": "code",
      "execution_count": 43,
      "metadata": {
        "colab": {
          "base_uri": "https://localhost:8080/"
        },
        "id": "TQcuUgy9ee_n",
        "outputId": "95a900fe-520f-4f7d-d985-dc7f10644758"
      },
      "outputs": [
        {
          "name": "stdout",
          "output_type": "stream",
          "text": [
            "[[ 1  2  3]\n",
            " [ 4  5  6]\n",
            " [ 7  8  9]\n",
            " [11 23 44]]\n",
            "[[2 3]\n",
            " [5 6]]\n",
            "[[1 2]\n",
            " [4 5]]\n",
            "[[5]]\n",
            "[11 23 44]\n"
          ]
        }
      ],
      "source": [
        "print(arr_2d)\n",
        "\n",
        "print(arr_2d[0:2, 1:])\n",
        "print(arr_2d[0:2, 0:2])\n",
        "print(arr_2d[1:2, 1:2])\n",
        "print(arr_2d[-1,0:])"
      ]
    },
    {
      "cell_type": "code",
      "execution_count": 44,
      "metadata": {
        "colab": {
          "base_uri": "https://localhost:8080/"
        },
        "id": "rjW1noa7e2im",
        "outputId": "c63a9ea3-b95f-47e0-9a06-60013792253e"
      },
      "outputs": [
        {
          "name": "stdout",
          "output_type": "stream",
          "text": [
            "[[[ 1  2  3]\n",
            "  [ 4  5  6]\n",
            "  [ 7  8  9]]\n",
            "\n",
            " [[33 45 66]\n",
            "  [23 23 55]\n",
            "  [44 77 88]]]\n",
            "[[23 23]]\n",
            "[[[ 2  3]]\n",
            "\n",
            " [[45 66]]]\n",
            "[[[ 4  5]\n",
            "  [ 7  8]]\n",
            "\n",
            " [[23 23]\n",
            "  [44 77]]]\n"
          ]
        }
      ],
      "source": [
        "print(arr_3d)\n",
        "\n",
        "print(arr_3d[1,1:2, 0:2])\n",
        "print(arr_3d[0:2, 0:1, 1:3])\n",
        "print(arr_3d[0:2, 1:, 0:2])\n"
      ]
    },
    {
      "cell_type": "code",
      "execution_count": null,
      "metadata": {},
      "outputs": [],
      "source": []
    },
    {
      "cell_type": "code",
      "execution_count": null,
      "metadata": {},
      "outputs": [],
      "source": []
    }
  ],
  "metadata": {
    "colab": {
      "provenance": []
    },
    "kernelspec": {
      "display_name": "Python 3",
      "name": "python3"
    },
    "language_info": {
      "codemirror_mode": {
        "name": "ipython",
        "version": 3
      },
      "file_extension": ".py",
      "mimetype": "text/x-python",
      "name": "python",
      "nbconvert_exporter": "python",
      "pygments_lexer": "ipython3",
      "version": "3.13.1"
    }
  },
  "nbformat": 4,
  "nbformat_minor": 0
}
