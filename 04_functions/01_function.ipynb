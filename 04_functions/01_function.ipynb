{
 "cells": [
  {
   "cell_type": "code",
   "execution_count": 4,
   "id": "7839df8e",
   "metadata": {},
   "outputs": [],
   "source": [
    "# function: block of code that perform specific task, to reuse code and organsie code\n",
    "\n",
    "def fun_name(parameters):\n",
    "    #function body\n",
    "    return expression"
   ]
  },
  {
   "cell_type": "code",
   "execution_count": 5,
   "id": "923687a9",
   "metadata": {},
   "outputs": [
    {
     "data": {
      "text/plain": [
       "'Odd'"
      ]
     },
     "execution_count": 5,
     "metadata": {},
     "output_type": "execute_result"
    }
   ],
   "source": [
    "def evenOdd (num):      #fn declaration; num is parameter\n",
    "    if num%2==0:\n",
    "        return \"Even\"\n",
    "    else:\n",
    "        return \"Odd\"        #return\n",
    "    \n",
    "number= int(input(\"Enter the number\"))\n",
    "    \n",
    "evenOdd(number)     #fn calling; number is argument"
   ]
  },
  {
   "cell_type": "code",
   "execution_count": 19,
   "id": "450918d9",
   "metadata": {},
   "outputs": [
    {
     "data": {
      "text/plain": [
       "9"
      ]
     },
     "execution_count": 19,
     "metadata": {},
     "output_type": "execute_result"
    }
   ],
   "source": [
    "# multi parameter fn\n",
    "def addNum (a,b):\n",
    "    return a+b\n",
    "\n",
    "addNum(4,5)"
   ]
  },
  {
   "cell_type": "code",
   "execution_count": 17,
   "id": "d56b1801",
   "metadata": {},
   "outputs": [
    {
     "data": {
      "text/plain": [
       "25"
      ]
     },
     "execution_count": 17,
     "metadata": {},
     "output_type": "execute_result"
    }
   ],
   "source": [
    "def pwr (num, pw):\n",
    "    return num ** pw\n",
    "\n",
    "# number, power = input(\"enter number and power: \").split()     --> unsupported operand type(s) for ** or pow(): 'str' and 'str'\n",
    "\n",
    "number, power = map(int, input(\"enter num and power: \").split())\n",
    "pwr(number, power)"
   ]
  },
  {
   "cell_type": "code",
   "execution_count": 18,
   "id": "e10d80a1",
   "metadata": {},
   "outputs": [
    {
     "name": "stdout",
     "output_type": "stream",
     "text": [
      "Hello Chaitanya, Welcome Back\n",
      "Hello User, Welcome Back\n"
     ]
    }
   ],
   "source": [
    "# default parameter\n",
    "def greet (name= \"User\"):\n",
    "    print(f\"Hello {name}, Welcome Back\")\n",
    "\n",
    "greet(\"Chaitanya\")\n",
    "greet()\n",
    "\n",
    "# default parameter not work with multi parameter fn"
   ]
  },
  {
   "cell_type": "code",
   "execution_count": 33,
   "id": "811c2a1a",
   "metadata": {},
   "outputs": [
    {
     "name": "stdout",
     "output_type": "stream",
     "text": [
      "1\n",
      "2\n",
      "3\n",
      "4\n",
      "5\n",
      "6\n",
      "Chaitanya\n"
     ]
    }
   ],
   "source": [
    "# variable length arguments\n",
    "# positional and keywords arguments\n",
    "\n",
    "# positonal args\n",
    "def print_num(*args):           #   *args: multi args\n",
    "    for number in args:\n",
    "        print(number)\n",
    "\n",
    "\n",
    "print_num(1,2,3,4,5,6,\"Chaitanya\")"
   ]
  },
  {
   "cell_type": "code",
   "execution_count": null,
   "id": "04d08061",
   "metadata": {},
   "outputs": [
    {
     "name": "stdout",
     "output_type": "stream",
     "text": [
      "1\n",
      "4\n",
      "9\n",
      "16\n",
      "25\n"
     ]
    }
   ],
   "source": [
    "def sqrt(*args):\n",
    "    for n in args:\n",
    "        # return n**2 ---> only returns 1 value\n",
    "        print(n **2)\n",
    "\n",
    "sqrt(1,2,3,4,5)"
   ]
  },
  {
   "cell_type": "code",
   "execution_count": 32,
   "id": "e0f31ce7",
   "metadata": {},
   "outputs": [
    {
     "name": "stdout",
     "output_type": "stream",
     "text": [
      "1\n",
      "8\n",
      "27\n",
      "64\n",
      "None\n"
     ]
    }
   ],
   "source": [
    "def cbe(*num):\n",
    "    # print(num ** 3) ---> TypeError: unsupported operand type(s) for ** or pow(): 'tuple' and 'int'\n",
    "\n",
    "    for n in num:\n",
    "        print(n**3)\n",
    "\n",
    "cube= cbe(1,2,3,4)\n",
    "print(cube)"
   ]
  },
  {
   "cell_type": "code",
   "execution_count": 34,
   "id": "e39db240",
   "metadata": {},
   "outputs": [
    {
     "name": "stdout",
     "output_type": "stream",
     "text": [
      "name:chetan\n",
      "age:21\n"
     ]
    }
   ],
   "source": [
    "# keywords arguments\n",
    "def print_details(**kwargs):        #kwargs in key value pairs\n",
    "    for key, value in kwargs.items():\n",
    "        print(f\"{key}:{value}\")\n",
    "\n",
    "print_details(name= \"chetan\", age=21)"
   ]
  },
  {
   "cell_type": "code",
   "execution_count": 41,
   "id": "15c7ee2c",
   "metadata": {},
   "outputs": [
    {
     "name": "stdout",
     "output_type": "stream",
     "text": [
      "positional args: 1\n",
      "positional args: 2\n",
      "positional args: 67\n",
      "positional args: 89\n",
      "positional args: dynamic\n",
      "name:chetan\n",
      "age:21\n"
     ]
    }
   ],
   "source": [
    "def print_details(*args, **kwargs):\n",
    "    for val in args:\n",
    "        print(f\"positional args: {val}\")\n",
    "\n",
    "    for key, value in kwargs.items():\n",
    "        print(f\"{key}:{value}\")\n",
    "\n",
    "print_details(1,2,67,89,\"dynamic\",name= \"chetan\", age=21)\n",
    "# sort positional and keyword args"
   ]
  },
  {
   "cell_type": "code",
   "execution_count": 42,
   "id": "22b084f8",
   "metadata": {},
   "outputs": [
    {
     "name": "stdout",
     "output_type": "stream",
     "text": [
      "args: 1\n",
      "args: 2\n",
      "args: 3\n",
      "args: 4\n",
      "args: mango\n",
      "args: red\n",
      "name: chetan\n",
      "roll: 40\n",
      "pincode: 425408\n"
     ]
    }
   ],
   "source": [
    "def identify_kwargs(*args, **kwargs):\n",
    "    for i in args:\n",
    "        print(f\"args: {i}\")\n",
    "    for key, value in kwargs.items():\n",
    "        print(f\"{key}: {value}\")\n",
    "\n",
    "identify_kwargs(1,2,3,4, \"mango\", \"red\", name= \"chetan\", roll= 40, pincode= 425408)\n",
    "# Positional argument cannot appear after keyword arguments"
   ]
  },
  {
   "cell_type": "code",
   "execution_count": 43,
   "id": "fc0f7a0a",
   "metadata": {},
   "outputs": [
    {
     "data": {
      "text/plain": [
       "(8, 16)"
      ]
     },
     "execution_count": 43,
     "metadata": {},
     "output_type": "execute_result"
    }
   ],
   "source": [
    "# return statements\n",
    "def mult(a,b):\n",
    "    return a*b, a**b\n",
    "\n",
    "mult(4,2)"
   ]
  }
 ],
 "metadata": {
  "kernelspec": {
   "display_name": "myenv",
   "language": "python",
   "name": "python3"
  },
  "language_info": {
   "codemirror_mode": {
    "name": "ipython",
    "version": 3
   },
   "file_extension": ".py",
   "mimetype": "text/x-python",
   "name": "python",
   "nbconvert_exporter": "python",
   "pygments_lexer": "ipython3",
   "version": "3.13.1"
  }
 },
 "nbformat": 4,
 "nbformat_minor": 5
}
