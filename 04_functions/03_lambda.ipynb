{
 "cells": [
  {
   "cell_type": "code",
   "execution_count": 4,
   "id": "ae4ceb15",
   "metadata": {},
   "outputs": [
    {
     "data": {
      "text/plain": [
       "<function __main__.<lambda>(arguments)>"
      ]
     },
     "execution_count": 4,
     "metadata": {},
     "output_type": "execute_result"
    }
   ],
   "source": [
    "# lambda fn: small anonymous fn defined using lambda keyword, \n",
    "# used for short opt\n",
    "# multi args but one expression (logic)\n",
    "lambda arguments: expression"
   ]
  },
  {
   "cell_type": "code",
   "execution_count": 3,
   "id": "bb3209a1",
   "metadata": {},
   "outputs": [
    {
     "name": "stdout",
     "output_type": "stream",
     "text": [
      "<class 'function'>\n",
      "40\n"
     ]
    }
   ],
   "source": [
    "add= lambda a,b: a+b\n",
    "print(type(add))\n",
    "print(add(33,7))"
   ]
  },
  {
   "cell_type": "code",
   "execution_count": 2,
   "id": "6d0a60b3",
   "metadata": {},
   "outputs": [
    {
     "data": {
      "text/plain": [
       "False"
      ]
     },
     "execution_count": 2,
     "metadata": {},
     "output_type": "execute_result"
    }
   ],
   "source": [
    "even= lambda num: num%2==0\n",
    "even(23)"
   ]
  },
  {
   "cell_type": "code",
   "execution_count": 1,
   "id": "78ba0fac",
   "metadata": {},
   "outputs": [
    {
     "name": "stdout",
     "output_type": "stream",
     "text": [
      "81\n"
     ]
    }
   ],
   "source": [
    "# lambda fn are used for small numerical tasks\n",
    "sqrt= lambda a: a**2\n",
    "print(sqrt(9))"
   ]
  }
 ],
 "metadata": {
  "kernelspec": {
   "display_name": "Python 3",
   "language": "python",
   "name": "python3"
  },
  "language_info": {
   "codemirror_mode": {
    "name": "ipython",
    "version": 3
   },
   "file_extension": ".py",
   "mimetype": "text/x-python",
   "name": "python",
   "nbconvert_exporter": "python",
   "pygments_lexer": "ipython3",
   "version": "3.13.1"
  }
 },
 "nbformat": 4,
 "nbformat_minor": 5
}
