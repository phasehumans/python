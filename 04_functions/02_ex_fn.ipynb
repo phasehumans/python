{
 "cells": [
  {
   "cell_type": "code",
   "execution_count": 1,
   "id": "7a444e49",
   "metadata": {},
   "outputs": [
    {
     "name": "stdout",
     "output_type": "stream",
     "text": [
      "77.0\n",
      "35.0\n"
     ]
    }
   ],
   "source": [
    "# temperature conversion\n",
    "def convertTemp(temp,unit):\n",
    "    unit= unit.lower()\n",
    "    if (unit==\"c\"):\n",
    "        return temp *9/5 + 32 \n",
    "    elif (unit==\"f\"):\n",
    "        return (temp-32)*5/9\n",
    "    else:\n",
    "        return none\n",
    "\n",
    "print(convertTemp(25,'c'))\n",
    "print(convertTemp(95, \"F\"))"
   ]
  },
  {
   "cell_type": "code",
   "execution_count": 23,
   "id": "ea9c3f6b",
   "metadata": {},
   "outputs": [
    {
     "name": "stdout",
     "output_type": "stream",
     "text": [
      "Moderate Password\n"
     ]
    }
   ],
   "source": [
    "# password strength checker\n",
    "def password_check (passwrd):\n",
    "    if len(passwrd) > 6:\n",
    "        if passwrd.isdigit() == \"True\":\n",
    "            print(\"Strong Password\")\n",
    "        else:\n",
    "            print(\"Moderate Password\")\n",
    "    else:\n",
    "        print(\"Weak Password\")\n",
    "\n",
    "pass_input= input(\"enter password:\")\n",
    "password_check(pass_input)"
   ]
  },
  {
   "cell_type": "code",
   "execution_count": 6,
   "id": "470c0397",
   "metadata": {},
   "outputs": [
    {
     "name": "stdout",
     "output_type": "stream",
     "text": [
      "Palindrome\n"
     ]
    }
   ],
   "source": [
    "# check if string is palindrome\n",
    "def pali_check(string):\n",
    "    if string == string[::-1]:\n",
    "        print(\"Palindrome\")\n",
    "    else:\n",
    "        print(\"Not Palindrome\")\n",
    "\n",
    "str_input=input(\"enter the string here: \")\n",
    "pali_check(str_input.lower())"
   ]
  },
  {
   "cell_type": "code",
   "execution_count": 12,
   "id": "1066b2a9",
   "metadata": {},
   "outputs": [
    {
     "data": {
      "text/plain": [
       "24"
      ]
     },
     "execution_count": 12,
     "metadata": {},
     "output_type": "execute_result"
    }
   ],
   "source": [
    "# calculate factorial using recursion\n",
    "def fac(num):\n",
    "    fact= 1\n",
    "    while num > 0:\n",
    "        fact= fact*num\n",
    "        num-=1\n",
    "    return fact\n",
    "fac(4)\n"
   ]
  },
  {
   "cell_type": "code",
   "execution_count": 11,
   "id": "018c18ee",
   "metadata": {},
   "outputs": [
    {
     "name": "stdout",
     "output_type": "stream",
     "text": [
      "Valid Email\n"
     ]
    }
   ],
   "source": [
    "# validate email address\n",
    "def check_email(email):\n",
    "    if \"@gmail.com\" in email:\n",
    "        print(\"Valid Email\")\n",
    "    else: \n",
    "        print(\"Invalid Email\")\n",
    "\n",
    "check_email(\"chetansonawane@gmail.com\")"
   ]
  }
 ],
 "metadata": {
  "kernelspec": {
   "display_name": "Python 3",
   "language": "python",
   "name": "python3"
  },
  "language_info": {
   "codemirror_mode": {
    "name": "ipython",
    "version": 3
   },
   "file_extension": ".py",
   "mimetype": "text/x-python",
   "name": "python",
   "nbconvert_exporter": "python",
   "pygments_lexer": "ipython3",
   "version": "3.13.1"
  }
 },
 "nbformat": 4,
 "nbformat_minor": 5
}
