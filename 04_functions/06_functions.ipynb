{
  "nbformat": 4,
  "nbformat_minor": 0,
  "metadata": {
    "colab": {
      "provenance": []
    },
    "kernelspec": {
      "name": "python3",
      "display_name": "Python 3"
    },
    "language_info": {
      "name": "python"
    }
  },
  "cells": [
    {
      "cell_type": "markdown",
      "source": [
        "Functions\n",
        "- reusable block of code\n",
        "- built-in & user def"
      ],
      "metadata": {
        "id": "0rrh5FGxx59K"
      }
    },
    {
      "cell_type": "code",
      "source": [
        "# fn def\n",
        "def greet (name):\n",
        "  print(f\"Good Morning, {name}\")\n",
        "\n",
        "# fn calling\n",
        "greet(\"Chaitanya\")"
      ],
      "metadata": {
        "colab": {
          "base_uri": "https://localhost:8080/"
        },
        "id": "qp9NhX3GyDxx",
        "outputId": "b303fd40-400f-4349-f6b0-b5210562bd83"
      },
      "execution_count": null,
      "outputs": [
        {
          "output_type": "stream",
          "name": "stdout",
          "text": [
            "Good Morning, Chaitanya\n"
          ]
        }
      ]
    },
    {
      "cell_type": "code",
      "source": [
        "# multi input\n",
        "def multi_greet(*name):\n",
        "  print(f\"Good Morning, {name[1]}\")\n",
        "\n",
        "multi_greet(\"Chaitanya\", \"Nandini\", \"Jagruti\", \"Kalyan\")"
      ],
      "metadata": {
        "colab": {
          "base_uri": "https://localhost:8080/"
        },
        "id": "5dZxnWy0yWMm",
        "outputId": "7a25e79c-5e0e-4ac7-aa80-2502ef405d49"
      },
      "execution_count": null,
      "outputs": [
        {
          "output_type": "stream",
          "name": "stdout",
          "text": [
            "Good Morning, Nandini\n"
          ]
        }
      ]
    },
    {
      "cell_type": "code",
      "source": [
        "def greet_m(*name, n):\n",
        "  print(f\"Good Morning, {name[n]}\")\n",
        "\n",
        "greet_m(\"Chaitanya\", \"Nandini\", \"Jagruti\", \"Kalyan\", n=2)\n"
      ],
      "metadata": {
        "colab": {
          "base_uri": "https://localhost:8080/"
        },
        "id": "nKhqv4oyzKgB",
        "outputId": "acce2114-afcf-403b-e354-3c8a5e5cdf5a"
      },
      "execution_count": null,
      "outputs": [
        {
          "output_type": "stream",
          "name": "stdout",
          "text": [
            "Good Morning, Jagruti\n"
          ]
        }
      ]
    },
    {
      "cell_type": "code",
      "source": [
        "def user_greet(name):\n",
        "  print(f\"Good Morning, {name}\")\n",
        "\n",
        "x= input(\"enter your name: \")\n",
        "user_greet(x)"
      ],
      "metadata": {
        "colab": {
          "base_uri": "https://localhost:8080/"
        },
        "id": "-xfqn2rxzqh3",
        "outputId": "1fb3f50c-d35c-43f7-8086-330a94b93a86"
      },
      "execution_count": null,
      "outputs": [
        {
          "output_type": "stream",
          "name": "stdout",
          "text": [
            "enter your name: Chaitanya\n",
            "Good Morning, Chaitanya\n"
          ]
        }
      ]
    },
    {
      "cell_type": "code",
      "source": [
        "# default fn: parameter not pass then use default value\n",
        "\n",
        "def country_check(country=\"india\"):\n",
        "  print(\"you are from {}\".format(country))\n",
        "\n",
        "country_check(\"Sweden\")\n",
        "country_check()"
      ],
      "metadata": {
        "id": "YW54-0k10RlA",
        "colab": {
          "base_uri": "https://localhost:8080/"
        },
        "outputId": "a9a937f3-d26f-48d2-850a-d68c44b606c9"
      },
      "execution_count": null,
      "outputs": [
        {
          "output_type": "stream",
          "name": "stdout",
          "text": [
            "you are from Sweden\n",
            "you are from india\n"
          ]
        }
      ]
    },
    {
      "cell_type": "code",
      "source": [
        "def greet_default(name= \"User\"):\n",
        "  return \"Good Morning {}\".format(name)\n",
        "\n",
        "print(greet_default())\n",
        "print(greet_default(\"Chaitanya\"))"
      ],
      "metadata": {
        "colab": {
          "base_uri": "https://localhost:8080/"
        },
        "id": "SmFNpmeUauXJ",
        "outputId": "70aaee14-8732-41f9-9fdc-f9361ac7918e"
      },
      "execution_count": null,
      "outputs": [
        {
          "output_type": "stream",
          "name": "stdout",
          "text": [
            "Good Morning User\n",
            "Good Morning Chaitanya\n"
          ]
        }
      ]
    },
    {
      "cell_type": "code",
      "source": [
        "def add_num(a,b=10,c):\n",
        "  return a+b+c\n",
        "\n",
        "add_num(1,2)\n",
        "#  non-default argument follows default argument"
      ],
      "metadata": {
        "colab": {
          "base_uri": "https://localhost:8080/",
          "height": 106
        },
        "id": "Hyer2n88bJpJ",
        "outputId": "3eb6b930-7855-4f51-bc3d-e51069dbbe68"
      },
      "execution_count": null,
      "outputs": [
        {
          "output_type": "error",
          "ename": "SyntaxError",
          "evalue": "non-default argument follows default argument (<ipython-input-12-2328804790>, line 1)",
          "traceback": [
            "\u001b[0;36m  File \u001b[0;32m\"<ipython-input-12-2328804790>\"\u001b[0;36m, line \u001b[0;32m1\u001b[0m\n\u001b[0;31m    def add_num(a,b=10,c):\u001b[0m\n\u001b[0m                       ^\u001b[0m\n\u001b[0;31mSyntaxError\u001b[0m\u001b[0;31m:\u001b[0m non-default argument follows default argument\n"
          ]
        }
      ]
    },
    {
      "cell_type": "code",
      "source": [
        "def add_num2(a,c,b=10):\n",
        "  return a+b+c\n",
        "\n",
        "add_num2(1,2)"
      ],
      "metadata": {
        "colab": {
          "base_uri": "https://localhost:8080/"
        },
        "id": "uKHyjmTFd__m",
        "outputId": "5e9822e5-8160-40ec-a6dd-3bd1431b0a2f"
      },
      "execution_count": null,
      "outputs": [
        {
          "output_type": "execute_result",
          "data": {
            "text/plain": [
              "13"
            ]
          },
          "metadata": {},
          "execution_count": 13
        }
      ]
    },
    {
      "cell_type": "code",
      "source": [
        "def multi(x,y,z=10, u=2):\n",
        "  return x*y*z*u\n",
        "\n",
        "res= multi(1,2,3)\n",
        "print(res)\n",
        "\n",
        "# Z is overwrite with 3\n",
        "\n",
        "res2= multi(1,2, u=3)\n",
        "print(res2)"
      ],
      "metadata": {
        "colab": {
          "base_uri": "https://localhost:8080/"
        },
        "id": "eq_wHWWmePeA",
        "outputId": "d3a18cb0-3171-4aad-89e7-b1721b417ad4"
      },
      "execution_count": null,
      "outputs": [
        {
          "output_type": "stream",
          "name": "stdout",
          "text": [
            "12\n",
            "60\n"
          ]
        }
      ]
    },
    {
      "cell_type": "code",
      "source": [
        "# calculator\n",
        "def cal(a,b,op= \"+\"):\n",
        "  if op==\"+\":\n",
        "    return a+b\n",
        "  elif op==\"-\":\n",
        "    return a-b\n",
        "  elif op==\"*\":\n",
        "    return a*b\n",
        "  elif op==\"/\":\n",
        "    if b==0:\n",
        "      return \"B should not be zero\"\n",
        "    else:\n",
        "      return a/b\n",
        "  else:\n",
        "    return \"Invalid Operation\"\n",
        "\n",
        "num1= int(input(\"enter 1st number: \"))\n",
        "num2= int(input(\"enter 2nd number: \"))\n",
        "opr= input(\"enter the operation to perform: \")\n",
        "\n",
        "result= cal(num1, num2,opr)\n",
        "print(f\"Result is: {result} \")"
      ],
      "metadata": {
        "colab": {
          "base_uri": "https://localhost:8080/"
        },
        "id": "MBN_6H6YfKqp",
        "outputId": "cd73bc97-2826-4b6f-ebb8-df43074810c1"
      },
      "execution_count": null,
      "outputs": [
        {
          "output_type": "stream",
          "name": "stdout",
          "text": [
            "enter 1st number: 9\n",
            "enter 2nd number: 7\n",
            "enter the operation to perform: *\n",
            "Result is: 63 \n"
          ]
        }
      ]
    },
    {
      "cell_type": "code",
      "source": [
        "# print ---> display (show cake)\n",
        "# return ---> store (give cake)"
      ],
      "metadata": {
        "id": "WsvC-R3yjVyw"
      },
      "execution_count": null,
      "outputs": []
    },
    {
      "cell_type": "code",
      "source": [
        "# armstrong num\n",
        "def is_arm(num):\n",
        "  num1= num # num will change further\n",
        "  lst=[]\n",
        "  while num > 0:\n",
        "    res= num%10\n",
        "    num= num//10\n",
        "    lst.append(res)\n",
        "  res= 0\n",
        "  for i in lst:\n",
        "    res= res+ i**3\n",
        "    # not 3 but number of digits\n",
        "\n",
        "  if num1==res:\n",
        "    print(\"ArmStrong Number\")\n",
        "  else:\n",
        "    print(\"Not ArmStrong Number\")\n",
        "\n",
        "is_arm(153)"
      ],
      "metadata": {
        "colab": {
          "base_uri": "https://localhost:8080/"
        },
        "id": "HoP8ShTKrlz7",
        "outputId": "67d6ec37-e1e8-43fa-c77d-7663d1395a70"
      },
      "execution_count": null,
      "outputs": [
        {
          "output_type": "stream",
          "name": "stdout",
          "text": [
            "ArmStrong Number\n"
          ]
        }
      ]
    },
    {
      "cell_type": "code",
      "source": [
        "# armstrong number --> 153, 370\n",
        "def is_armstrong(num):\n",
        "  str_num= str(num)\n",
        "  num_digit= len(str_num)\n",
        "\n",
        "  res= 0\n",
        "  for i in str_num:\n",
        "    res= res + int(i) ** num_digit\n",
        "\n",
        "  if num==res:\n",
        "    return \"Armstrong\"\n",
        "  else:\n",
        "    return \"Not Armstrong\"\n",
        "\n",
        "is_armstrong(153)"
      ],
      "metadata": {
        "colab": {
          "base_uri": "https://localhost:8080/",
          "height": 35
        },
        "id": "RjecX4sJtvrT",
        "outputId": "bc01f70d-5d8f-4863-e9ee-e11c5ec86179"
      },
      "execution_count": null,
      "outputs": [
        {
          "output_type": "execute_result",
          "data": {
            "text/plain": [
              "'Armstrong'"
            ],
            "application/vnd.google.colaboratory.intrinsic+json": {
              "type": "string"
            }
          },
          "metadata": {},
          "execution_count": 58
        }
      ]
    },
    {
      "cell_type": "code",
      "source": [
        "# **kwargs: key word argument (tuple)\n",
        "# * args: multi argument (dict)"
      ],
      "metadata": {
        "id": "a8CJP3uOw5sg"
      },
      "execution_count": null,
      "outputs": []
    },
    {
      "cell_type": "code",
      "source": [
        "# *args\n",
        "\n",
        "def multi_by(*args):\n",
        "  return args[2] * 2\n",
        "\n",
        "double_num= multi_by(1,2,3,4)\n",
        "print(double_num)"
      ],
      "metadata": {
        "colab": {
          "base_uri": "https://localhost:8080/"
        },
        "id": "HxT-sjlE2FOo",
        "outputId": "7c66827b-2af4-454e-d95f-405c5e4ec3d0"
      },
      "execution_count": null,
      "outputs": [
        {
          "output_type": "stream",
          "name": "stdout",
          "text": [
            "6\n"
          ]
        }
      ]
    },
    {
      "cell_type": "code",
      "source": [
        "def print_args(*args):\n",
        "  for arg in args:\n",
        "    print(arg)\n",
        "\n",
        "print_args(1,2,3,4,5,6,7,8)"
      ],
      "metadata": {
        "colab": {
          "base_uri": "https://localhost:8080/"
        },
        "id": "ZesEJrKyn5WR",
        "outputId": "06c8bc0c-053b-4fdf-825f-36c8cb59706f"
      },
      "execution_count": 10,
      "outputs": [
        {
          "output_type": "stream",
          "name": "stdout",
          "text": [
            "1\n",
            "2\n",
            "3\n",
            "4\n",
            "5\n",
            "6\n",
            "7\n",
            "8\n"
          ]
        }
      ]
    },
    {
      "cell_type": "code",
      "source": [
        "# **kwargs\n",
        "\n",
        "def print_kwargs(**kwargs):\n",
        "  for key,value in kwargs.items():\n",
        "    print(f\"{key}: {value}\")\n",
        "\n",
        "print_kwargs(name= \"Chaitanya\", rollno= 40, age= 21, city= \"dondaicha\")"
      ],
      "metadata": {
        "colab": {
          "base_uri": "https://localhost:8080/"
        },
        "id": "m_MpclRNoFun",
        "outputId": "93db3a6e-0c17-4f44-99b5-b6e2b523435a"
      },
      "execution_count": 13,
      "outputs": [
        {
          "output_type": "stream",
          "name": "stdout",
          "text": [
            "name: Chaitanya\n",
            "rollno: 40\n",
            "age: 21\n",
            "city: dondaicha\n"
          ]
        }
      ]
    },
    {
      "cell_type": "code",
      "source": [
        "# recursion: fn calling itself"
      ],
      "metadata": {
        "id": "re02bVbDoi0F"
      },
      "execution_count": 14,
      "outputs": []
    },
    {
      "cell_type": "code",
      "source": [
        "def factorial_fn(num):\n",
        "  # base case condn\n",
        "  if num==1 or num== 0:\n",
        "    return 1\n",
        "  else:\n",
        "    # recursive fn\n",
        "    return num * factorial_fn(num-1)\n",
        "\n",
        "factorial_fn(5)\n",
        "\n",
        "# if logic is repeat then use recursion"
      ],
      "metadata": {
        "colab": {
          "base_uri": "https://localhost:8080/"
        },
        "id": "K0hPlB-xpXSo",
        "outputId": "bec581d1-5cd7-47f7-9e29-601d269afa01"
      },
      "execution_count": 17,
      "outputs": [
        {
          "output_type": "execute_result",
          "data": {
            "text/plain": [
              "120"
            ]
          },
          "metadata": {},
          "execution_count": 17
        }
      ]
    },
    {
      "cell_type": "code",
      "source": [
        "# lambda fn: one line fn\n",
        "\n",
        "add= lambda a,b: a+b\n",
        "print(add(2,3))"
      ],
      "metadata": {
        "colab": {
          "base_uri": "https://localhost:8080/"
        },
        "id": "Lv656_OftISe",
        "outputId": "5a1d973e-6f34-4355-f00c-e091456b2e4e"
      },
      "execution_count": 21,
      "outputs": [
        {
          "output_type": "stream",
          "name": "stdout",
          "text": [
            "5\n"
          ]
        }
      ]
    },
    {
      "cell_type": "code",
      "source": [
        "multiply= lambda a,b: a*b\n",
        "print(multiply(5,10))"
      ],
      "metadata": {
        "colab": {
          "base_uri": "https://localhost:8080/"
        },
        "id": "O6wyS2lUuBVy",
        "outputId": "ffb866b6-c369-4c2f-a137-6ebd64295ebf"
      },
      "execution_count": 19,
      "outputs": [
        {
          "output_type": "stream",
          "name": "stdout",
          "text": [
            "50\n"
          ]
        }
      ]
    },
    {
      "cell_type": "code",
      "source": [
        "sqrt= lambda num: num**2\n",
        "print(sqrt(5))"
      ],
      "metadata": {
        "colab": {
          "base_uri": "https://localhost:8080/"
        },
        "id": "8SPzGLmkuO6h",
        "outputId": "bd735fa0-1d90-4b98-8787-d0bbb2f623ff"
      },
      "execution_count": 22,
      "outputs": [
        {
          "output_type": "stream",
          "name": "stdout",
          "text": [
            "25\n"
          ]
        }
      ]
    },
    {
      "cell_type": "code",
      "source": [],
      "metadata": {
        "id": "qmrt85AsubZh"
      },
      "execution_count": null,
      "outputs": []
    }
  ]
}