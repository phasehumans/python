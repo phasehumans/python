{
 "cells": [
  {
   "cell_type": "code",
   "execution_count": 1,
   "id": "29ef55dd",
   "metadata": {},
   "outputs": [
    {
     "data": {
      "text/plain": [
       "81"
      ]
     },
     "execution_count": 1,
     "metadata": {},
     "output_type": "execute_result"
    }
   ],
   "source": [
    "# map fn: iterate over iterable (list, tuple, set, dict) \n",
    "# applies given function all items of iterable\n",
    "\n",
    "def square(x):\n",
    "    return x*x\n",
    "\n",
    "square(9)\n"
   ]
  },
  {
   "cell_type": "code",
   "execution_count": 25,
   "id": "4e31b086",
   "metadata": {},
   "outputs": [
    {
     "data": {
      "text/plain": [
       "[1, 4, 9, 16, 25, 36, 49, 64, 81]"
      ]
     },
     "execution_count": 25,
     "metadata": {},
     "output_type": "execute_result"
    }
   ],
   "source": [
    "# map\n",
    "numbers= [1,2,3,4,5,6,7,8,9]\n",
    "list(map(square,numbers))\n",
    "# applies fn to all elmt"
   ]
  },
  {
   "cell_type": "code",
   "execution_count": 26,
   "id": "61ee1b9d",
   "metadata": {},
   "outputs": [
    {
     "name": "stdout",
     "output_type": "stream",
     "text": [
      "<map object at 0x0000023CFEC4E5C0>\n",
      "[1, 8, 27, 64, 125]\n",
      "{64, 1, 8, 27, 125}\n",
      "(1, 8, 27, 64, 125)\n"
     ]
    }
   ],
   "source": [
    "def cube(num):\n",
    "    return num**3\n",
    "\n",
    "lst= [1,2,3,4,5]\n",
    "print((map(cube, lst)))\n",
    "print(list(map(cube,lst)))\n",
    "print(set(map(cube,lst)))       # unorder set and dict\n",
    "print(tuple(map(cube, lst)))\n",
    "\n",
    "# can't covert to dict"
   ]
  },
  {
   "cell_type": "code",
   "execution_count": 27,
   "id": "d59dc597",
   "metadata": {},
   "outputs": [
    {
     "name": "stdout",
     "output_type": "stream",
     "text": [
      "<map object at 0x0000023CFEE76020>\n",
      "1\n",
      "4\n",
      "9\n",
      "16\n",
      "25\n",
      "[None, None, None, None, None]\n"
     ]
    }
   ],
   "source": [
    "def sqrt(num):\n",
    "    print(num**2)\n",
    "\n",
    "print(map(sqrt, lst))\n",
    "print(list(map(sqrt,lst)))\n"
   ]
  },
  {
   "cell_type": "code",
   "execution_count": 28,
   "id": "fda8f137",
   "metadata": {},
   "outputs": [
    {
     "name": "stdout",
     "output_type": "stream",
     "text": [
      "list[<map object at 0x0000023CFEE74BE0>]\n",
      "[5, 12, 21, 32]\n"
     ]
    }
   ],
   "source": [
    "# map multi iterable\n",
    "num1= [1,2,3,4]\n",
    "num2= [5,6,7,8]\n",
    "\n",
    "multiNum=list[map(lambda a,b: a*b, num1,num2)]      #sqre array\n",
    "print(multiNum)\n",
    "\n",
    "multiNum2=list(map(lambda a,b: a*b, num1,num2))     \n",
    "print(multiNum2)\n"
   ]
  },
  {
   "cell_type": "code",
   "execution_count": 29,
   "id": "314874cb",
   "metadata": {},
   "outputs": [
    {
     "name": "stdout",
     "output_type": "stream",
     "text": [
      "[0.1, 0.2222222222222222, 0.375, 0.5714285714285714, 0.8333333333333334]\n"
     ]
    }
   ],
   "source": [
    "list1= [1,2,3,4,5]\n",
    "list2= [10,9,8,7,6]\n",
    "\n",
    "divide= list(map(lambda a,b: a/b, list1, list2))\n",
    "print(divide)"
   ]
  },
  {
   "cell_type": "code",
   "execution_count": null,
   "id": "c17a260d",
   "metadata": {},
   "outputs": [
    {
     "name": "stdout",
     "output_type": "stream",
     "text": [
      "<class 'str'>\n",
      "<class 'int'>\n"
     ]
    }
   ],
   "source": [
    "# map() to convert list of string into int\n",
    "str_num= ['1','2','3']\n",
    "print(type(str_num[1]))\n",
    "\n",
    "int_num= list(map(int, str_num))\n",
    "print(type(int_num[1]))"
   ]
  },
  {
   "cell_type": "code",
   "execution_count": 31,
   "id": "84e7050a",
   "metadata": {},
   "outputs": [
    {
     "name": "stdout",
     "output_type": "stream",
     "text": [
      "<map object at 0x0000023CFEE71870>\n",
      "<class 'map'>\n"
     ]
    }
   ],
   "source": [
    "input_int= map(int, input(\"enter input: \").split())\n",
    "print(input_int)\n",
    "print(type(input_int))"
   ]
  },
  {
   "cell_type": "code",
   "execution_count": 34,
   "id": "c80abcd2",
   "metadata": {},
   "outputs": [
    {
     "name": "stdout",
     "output_type": "stream",
     "text": [
      "['RED', 'GREEN', 'WHITE']\n"
     ]
    }
   ],
   "source": [
    "words= ['red', 'green', 'white']\n",
    "word= list(map(str.upper, words))\n",
    "print(word)"
   ]
  }
 ],
 "metadata": {
  "kernelspec": {
   "display_name": "Python 3",
   "language": "python",
   "name": "python3"
  },
  "language_info": {
   "codemirror_mode": {
    "name": "ipython",
    "version": 3
   },
   "file_extension": ".py",
   "mimetype": "text/x-python",
   "name": "python",
   "nbconvert_exporter": "python",
   "pygments_lexer": "ipython3",
   "version": "3.13.1"
  }
 },
 "nbformat": 4,
 "nbformat_minor": 5
}
