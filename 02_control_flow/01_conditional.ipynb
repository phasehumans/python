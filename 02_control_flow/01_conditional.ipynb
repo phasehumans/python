{
 "cells": [
  {
   "cell_type": "code",
   "execution_count": 2,
   "id": "4ac3a9c1",
   "metadata": {},
   "outputs": [
    {
     "name": "stdout",
     "output_type": "stream",
     "text": [
      "Eligible to Vote\n"
     ]
    }
   ],
   "source": [
    "# if statement\n",
    "age=20\n",
    "\n",
    "if(age > 18):\n",
    "    print(\"Eligible to Vote\")"
   ]
  },
  {
   "cell_type": "code",
   "execution_count": 3,
   "id": "fa40ae89",
   "metadata": {},
   "outputs": [
    {
     "name": "stdout",
     "output_type": "stream",
     "text": [
      "Pass\n"
     ]
    }
   ],
   "source": [
    "marks= 45\n",
    "\n",
    "if marks > 40:\n",
    "    print(\"Pass\")"
   ]
  },
  {
   "cell_type": "code",
   "execution_count": 4,
   "id": "833879ce",
   "metadata": {},
   "outputs": [
    {
     "name": "stdout",
     "output_type": "stream",
     "text": [
      "Not eligble to vote\n"
     ]
    }
   ],
   "source": [
    "# else statement\n",
    "age= 10\n",
    "\n",
    "if(age > 18):\n",
    "    print(\"Eligble to vote\")\n",
    "else:\n",
    "    print(\"Not eligble to vote\")"
   ]
  },
  {
   "cell_type": "code",
   "execution_count": 5,
   "id": "d9f0cd5e",
   "metadata": {},
   "outputs": [
    {
     "name": "stdout",
     "output_type": "stream",
     "text": [
      "B\n"
     ]
    }
   ],
   "source": [
    "# elif - else if (check multiple condn)\n",
    "marks= 75\n",
    "\n",
    "if(marks > 90):\n",
    "    print(\"A\")\n",
    "elif(marks > 70):\n",
    "    print(\"B\")\n",
    "elif(marks > 60):\n",
    "    print(\"C\")\n",
    "elif(marks > 40):\n",
    "    print(\"D\")\n",
    "else:\n",
    "    print(\"F\")\n"
   ]
  },
  {
   "cell_type": "code",
   "execution_count": 6,
   "id": "4d0fe86e",
   "metadata": {},
   "outputs": [
    {
     "name": "stdout",
     "output_type": "stream",
     "text": [
      "Even number\n"
     ]
    }
   ],
   "source": [
    "# nested conditionals \n",
    "num= int(input(\"enter number\"))\n",
    "\n",
    "if(num>0):\n",
    "    if(num%2==0):\n",
    "        print(\"Even number\")\n",
    "    else:\n",
    "        print(\"Odd number\")\n",
    "\n",
    "else:\n",
    "    print(\"Negative number\")"
   ]
  },
  {
   "cell_type": "code",
   "execution_count": 7,
   "id": "031dab16",
   "metadata": {},
   "outputs": [
    {
     "name": "stdout",
     "output_type": "stream",
     "text": [
      "Leap year\n"
     ]
    }
   ],
   "source": [
    "# leap year\n",
    "year= int(input(\"Enter the year\"))\n",
    "\n",
    "if(year%4==0):\n",
    "    if year%100==0:\n",
    "        if year%400==0:\n",
    "            print(\"Leap Year\")\n",
    "\n",
    "        else:\n",
    "            print(\"Not leap year\")\n",
    "    else:\n",
    "        print(\"Leap year\")\n",
    "\n",
    "else:\n",
    "    print(\"Not leap year\")"
   ]
  },
  {
   "cell_type": "code",
   "execution_count": 9,
   "id": "30694210",
   "metadata": {},
   "outputs": [
    {
     "name": "stdout",
     "output_type": "stream",
     "text": [
      "Result: 30\n"
     ]
    }
   ],
   "source": [
    "# calculator\n",
    "num1= int(input(\"Enter the num1\"))\n",
    "num2= int(input(\"Enter the num2\"))\n",
    "op= str(input(\"enter operation\"))\n",
    "\n",
    "if(op == \"+\"):\n",
    "    res= num1+num2\n",
    "elif(op == \"-\"):\n",
    "    res= num1-num2\n",
    "elif(op ==  \"*\"):\n",
    "    res= num1*num2\n",
    "elif(op == \"/\"):\n",
    "    if(num2== 0):\n",
    "        res= \"Infinity\"\n",
    "\n",
    "    else:\n",
    "        res= num1/num2\n",
    "else:\n",
    "    res= \"Invalid operation\"\n",
    "\n",
    "print(\"Result:\", res)"
   ]
  },
  {
   "cell_type": "code",
   "execution_count": null,
   "id": "da6f052b",
   "metadata": {},
   "outputs": [
    {
     "name": "stdout",
     "output_type": "stream",
     "text": [
      "PASS\n",
      "C\n"
     ]
    }
   ],
   "source": [
    "marks= int(input(\"enter marks: \"))\n",
    "\n",
    "if marks >= 40 and marks < 100 :\n",
    "    print(\"PASS\")\n",
    "\n",
    "    if marks > 90: \n",
    "        print(\"A\")\n",
    "    elif marks > 70:\n",
    "        print(\"B\")\n",
    "    elif marks > 50:\n",
    "        print(\"C\") \n",
    "    else:\n",
    "        print(\"D\")\n",
    "\n",
    "elif marks < 40 and marks < 100:\n",
    "    print(\"FAIL\")\n",
    "\n",
    "    if marks >= 38:\n",
    "        print(\"Grace Pass\")\n",
    "    else:\n",
    "        print(\"FAIL confirm\")\n",
    "\n",
    "else:\n",
    "    print(\"invalid marks\")"
   ]
  }
 ],
 "metadata": {
  "kernelspec": {
   "display_name": "myenv",
   "language": "python",
   "name": "python3"
  },
  "language_info": {
   "codemirror_mode": {
    "name": "ipython",
    "version": 3
   },
   "file_extension": ".py",
   "mimetype": "text/x-python",
   "name": "python",
   "nbconvert_exporter": "python",
   "pygments_lexer": "ipython3",
   "version": "3.13.1"
  }
 },
 "nbformat": 4,
 "nbformat_minor": 5
}
