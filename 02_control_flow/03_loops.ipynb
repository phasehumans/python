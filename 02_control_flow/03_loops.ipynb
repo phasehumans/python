{
 "cells": [
  {
   "cell_type": "code",
   "execution_count": 8,
   "id": "610a3c8b",
   "metadata": {},
   "outputs": [
    {
     "name": "stdout",
     "output_type": "stream",
     "text": [
      "1\n",
      "2\n",
      "3\n",
      "4\n",
      "5\n",
      "6\n",
      "7\n",
      "8\n"
     ]
    }
   ],
   "source": [
    "# for loop\n",
    "for i in range(1,9):        #range is fn, end is exclusive\n",
    "    print (i)"
   ]
  },
  {
   "cell_type": "code",
   "execution_count": 9,
   "id": "632e7c91",
   "metadata": {},
   "outputs": [
    {
     "name": "stdout",
     "output_type": "stream",
     "text": [
      "1\n",
      "3\n",
      "5\n",
      "7\n",
      "9\n"
     ]
    }
   ],
   "source": [
    "for i in range(1,10,2):     #range (start, end, stepsize)\n",
    "    print(i)"
   ]
  },
  {
   "cell_type": "code",
   "execution_count": 10,
   "id": "87b71554",
   "metadata": {},
   "outputs": [
    {
     "name": "stdout",
     "output_type": "stream",
     "text": [
      "C\n",
      "h\n",
      "a\n",
      "i\n",
      "t\n",
      "a\n",
      "n\n",
      "y\n",
      "a\n"
     ]
    }
   ],
   "source": [
    "str= \"Chaitanya\"\n",
    "for i in str:\n",
    "    print(i)"
   ]
  },
  {
   "cell_type": "code",
   "execution_count": 11,
   "id": "09d031e4",
   "metadata": {},
   "outputs": [
    {
     "name": "stdout",
     "output_type": "stream",
     "text": [
      "yes --> a\n",
      "yes --> a\n",
      "yes --> a\n",
      "yes --> a\n",
      "yes --> a\n"
     ]
    }
   ],
   "source": [
    "name= \"Chaitanya Sonawane\"\n",
    "\n",
    "for i in name :\n",
    "    if i == \"a\":\n",
    "        print(f\"yes --> {i}\")"
   ]
  },
  {
   "cell_type": "code",
   "execution_count": 12,
   "id": "64b0f8bb",
   "metadata": {},
   "outputs": [
    {
     "name": "stdout",
     "output_type": "stream",
     "text": [
      "count is  0\n",
      "count is  1\n",
      "count is  2\n",
      "count is  3\n",
      "count is  4\n"
     ]
    }
   ],
   "source": [
    "# while loop: continues to execute as long as the condn is true\n",
    "count = 0\n",
    "while(count<5):\n",
    "    print(\"count is \",count)\n",
    "    count= count+1      #count++ - X\n"
   ]
  },
  {
   "cell_type": "code",
   "execution_count": 13,
   "id": "26a25e77",
   "metadata": {},
   "outputs": [
    {
     "name": "stdout",
     "output_type": "stream",
     "text": [
      "0\n",
      "1\n",
      "2\n",
      "3\n",
      "4\n"
     ]
    }
   ],
   "source": [
    "# loop control statements\n",
    "\n",
    "# break: exits loop prematurely (permanent)\n",
    "for i in range(10):\n",
    "    if i==5:\n",
    "        break\n",
    "    print(i)"
   ]
  },
  {
   "cell_type": "code",
   "execution_count": 15,
   "id": "25fb3077",
   "metadata": {},
   "outputs": [
    {
     "name": "stdout",
     "output_type": "stream",
     "text": [
      "5\n",
      "5\n",
      "6\n",
      "6\n",
      "7\n",
      "7\n",
      "8\n",
      "8\n",
      "9\n",
      "9\n",
      "10\n"
     ]
    }
   ],
   "source": [
    "for i in range (5,15):\n",
    "    print(i)\n",
    "    if i == 10:\n",
    "        break\n",
    "    print(i)"
   ]
  },
  {
   "cell_type": "code",
   "execution_count": 18,
   "id": "437f9a30",
   "metadata": {},
   "outputs": [
    {
     "name": "stdout",
     "output_type": "stream",
     "text": [
      "c\n",
      "h\n",
      "a\n",
      "i\n"
     ]
    }
   ],
   "source": [
    "name= \"chaitanya sonawane\"\n",
    "\n",
    "for i in name:\n",
    "    if i == \"t\":\n",
    "        break\n",
    "    print(i)"
   ]
  },
  {
   "cell_type": "code",
   "execution_count": null,
   "id": "3bb1f771",
   "metadata": {},
   "outputs": [
    {
     "name": "stdout",
     "output_type": "stream",
     "text": [
      "0\n",
      "1\n",
      "2\n",
      "3\n",
      "4\n",
      "6\n",
      "7\n",
      "8\n",
      "9\n"
     ]
    }
   ],
   "source": [
    "#continue: skip current and continue\n",
    "for i in range(10):\n",
    "    if i==5:\n",
    "        continue\n",
    "    print(i)"
   ]
  },
  {
   "cell_type": "code",
   "execution_count": 16,
   "id": "9f0f348b",
   "metadata": {},
   "outputs": [
    {
     "name": "stdout",
     "output_type": "stream",
     "text": [
      "c\n",
      "h\n",
      "e\n",
      "t\n",
      "n\n",
      " \n",
      "s\n",
      "o\n",
      "n\n",
      "w\n",
      "n\n",
      "e\n"
     ]
    }
   ],
   "source": [
    "name= \"chetan sonawane\"\n",
    "\n",
    "for i in name:\n",
    "    if i == \"a\":\n",
    "        continue\n",
    "    print(i)"
   ]
  },
  {
   "cell_type": "code",
   "execution_count": 19,
   "id": "208fe654",
   "metadata": {},
   "outputs": [
    {
     "name": "stdout",
     "output_type": "stream",
     "text": [
      "1\n",
      "2\n",
      "3\n",
      "4\n",
      "5\n",
      "6\n",
      "7\n",
      "8\n",
      "9\n"
     ]
    }
   ],
   "source": [
    "#pass: null operation, it does nothing\n",
    "\n",
    "for i in range(1,10):\n",
    "    if i == 5:\n",
    "        pass\n",
    "    print(i)"
   ]
  },
  {
   "cell_type": "code",
   "execution_count": 20,
   "id": "fcbdd444",
   "metadata": {},
   "outputs": [
    {
     "name": "stdout",
     "output_type": "stream",
     "text": [
      "r\n",
      "c\n",
      "p\n",
      "i\n",
      "t\n",
      ",\n",
      " \n",
      "s\n",
      "h\n",
      "i\n",
      "r\n",
      "p\n",
      "u\n",
      "r\n"
     ]
    }
   ],
   "source": [
    "clg_name= \"rcpit, shirpur\"\n",
    "\n",
    "for i in clg_name:\n",
    "    if i== \"i\":\n",
    "        pass\n",
    "    print(i)"
   ]
  },
  {
   "cell_type": "code",
   "execution_count": 10,
   "id": "ec0978b8",
   "metadata": {},
   "outputs": [
    {
     "name": "stdout",
     "output_type": "stream",
     "text": [
      "i: 0 and j: 0\n",
      "i: 0 and j: 1\n",
      "i: 0 and j: 2\n",
      "i: 0 and j: 3\n",
      "i: 1 and j: 0\n",
      "i: 1 and j: 1\n",
      "i: 1 and j: 2\n",
      "i: 1 and j: 3\n",
      "i: 2 and j: 0\n",
      "i: 2 and j: 1\n",
      "i: 2 and j: 2\n",
      "i: 2 and j: 3\n"
     ]
    }
   ],
   "source": [
    "# nested loop: loop inside loop\n",
    "for i in range(3):\n",
    "    for j in range(4):\n",
    "        print(f\"i: {i} and j: {j}\")\n"
   ]
  },
  {
   "cell_type": "code",
   "execution_count": 29,
   "id": "26e0dcd6",
   "metadata": {},
   "outputs": [
    {
     "name": "stdout",
     "output_type": "stream",
     "text": [
      "*\n",
      "**\n",
      "***\n",
      "****\n"
     ]
    }
   ],
   "source": [
    "\n",
    "for j in range(1,5):\n",
    "        print(j * \"*\")"
   ]
  },
  {
   "cell_type": "code",
   "execution_count": 32,
   "id": "5462f3a6",
   "metadata": {},
   "outputs": [
    {
     "name": "stdout",
     "output_type": "stream",
     "text": [
      "*\n",
      "**\n",
      "***\n",
      "****\n",
      "*****\n",
      "******\n",
      "*******\n",
      "********\n",
      "*********\n"
     ]
    }
   ],
   "source": [
    "star_input= int(input(\"enter number of stars: \"))\n",
    "\n",
    "for i in range(1, star_input+1):\n",
    "    print(i * \"*\")"
   ]
  },
  {
   "cell_type": "code",
   "execution_count": 33,
   "id": "85a54e92",
   "metadata": {},
   "outputs": [
    {
     "name": "stdout",
     "output_type": "stream",
     "text": [
      "sum of first 5 number is 15\n"
     ]
    }
   ],
   "source": [
    "# sum of natual numbers\n",
    "num= int(input(\"enter the numeber\"))\n",
    "sum= 0\n",
    "for i in range(num+1):\n",
    "    sum= sum+i\n",
    "\n",
    "print(f\"sum of first {num} number is {sum}\")"
   ]
  }
 ],
 "metadata": {
  "kernelspec": {
   "display_name": "myenv",
   "language": "python",
   "name": "python3"
  },
  "language_info": {
   "codemirror_mode": {
    "name": "ipython",
    "version": 3
   },
   "file_extension": ".py",
   "mimetype": "text/x-python",
   "name": "python",
   "nbconvert_exporter": "python",
   "pygments_lexer": "ipython3",
   "version": "3.13.1"
  }
 },
 "nbformat": 4,
 "nbformat_minor": 5
}
