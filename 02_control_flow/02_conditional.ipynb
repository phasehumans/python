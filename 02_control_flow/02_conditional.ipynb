{
 "cells": [
  {
   "cell_type": "code",
   "execution_count": 1,
   "id": "4ac3a9c1",
   "metadata": {},
   "outputs": [
    {
     "name": "stdout",
     "output_type": "stream",
     "text": [
      "Eligible to Vote\n"
     ]
    }
   ],
   "source": [
    "# if statement\n",
    "age=20\n",
    "\n",
    "if(age > 18):\n",
    "    print(\"Eligible to Vote\")"
   ]
  },
  {
   "cell_type": "code",
   "execution_count": 2,
   "id": "833879ce",
   "metadata": {},
   "outputs": [
    {
     "name": "stdout",
     "output_type": "stream",
     "text": [
      "Not eligble to vote\n"
     ]
    }
   ],
   "source": [
    "# else statement\n",
    "age= 10\n",
    "\n",
    "if(age > 18):\n",
    "    print(\"Eligble to vote\")\n",
    "else:\n",
    "    print(\"Not eligble to vote\")"
   ]
  },
  {
   "cell_type": "code",
   "execution_count": 3,
   "id": "d9f0cd5e",
   "metadata": {},
   "outputs": [
    {
     "name": "stdout",
     "output_type": "stream",
     "text": [
      "B\n"
     ]
    }
   ],
   "source": [
    "# elif - else if (check multiple condn)\n",
    "marks= 75\n",
    "\n",
    "if(marks > 90):\n",
    "    print(\"A\")\n",
    "elif(marks > 70):\n",
    "    print(\"B\")\n",
    "elif(marks > 60):\n",
    "    print(\"C\")\n",
    "elif(marks > 40):\n",
    "    print(\"D\")\n",
    "else:\n",
    "    print(\"F\")\n"
   ]
  },
  {
   "cell_type": "code",
   "execution_count": 4,
   "id": "4d0fe86e",
   "metadata": {},
   "outputs": [
    {
     "name": "stdout",
     "output_type": "stream",
     "text": [
      "positive number\n",
      "Even number\n"
     ]
    }
   ],
   "source": [
    "# nested conditionals \n",
    "num= int(input(\"enter number\"))\n",
    "\n",
    "if(num>0):\n",
    "    print(\"positive number\")\n",
    "    if(num%2==0):\n",
    "        print(\"Even number\")\n",
    "    else:\n",
    "        print(\"Odd number\")\n",
    "\n",
    "else:\n",
    "    print(\"Negative number\")"
   ]
  }
 ],
 "metadata": {
  "kernelspec": {
   "display_name": "myenv",
   "language": "python",
   "name": "python3"
  },
  "language_info": {
   "codemirror_mode": {
    "name": "ipython",
    "version": 3
   },
   "file_extension": ".py",
   "mimetype": "text/x-python",
   "name": "python",
   "nbconvert_exporter": "python",
   "pygments_lexer": "ipython3",
   "version": "3.13.1"
  }
 },
 "nbformat": 4,
 "nbformat_minor": 5
}
