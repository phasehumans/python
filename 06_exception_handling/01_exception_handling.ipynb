{
  "nbformat": 4,
  "nbformat_minor": 0,
  "metadata": {
    "colab": {
      "provenance": []
    },
    "kernelspec": {
      "name": "python3",
      "display_name": "Python 3"
    },
    "language_info": {
      "name": "python"
    }
  },
  "cells": [
    {
      "cell_type": "markdown",
      "source": [
        "### Exception handling / Error handling\n",
        "1. Syntax err\n",
        "2. Logical err\n",
        "3. Runtime err\n",
        "\n",
        "\n",
        "- syntax err\n",
        "- indentation err\n",
        "- type err\n",
        "- name err\n",
        "- value err\n",
        "- index err\n",
        "- key err\n",
        "- attribute err\n",
        "- zero division err\n"
      ],
      "metadata": {
        "id": "4mOZypB31tR6"
      }
    },
    {
      "cell_type": "code",
      "source": [
        "# logical err\n",
        "\n",
        "length= 10\n",
        "width= 4\n",
        "\n",
        "area_rectangle= length + width # l*b\n",
        "print(area_rectangle)"
      ],
      "metadata": {
        "colab": {
          "base_uri": "https://localhost:8080/"
        },
        "id": "EN5eag5s27tu",
        "outputId": "dc7910a1-e69a-44aa-c082-f582f9a686b4"
      },
      "execution_count": null,
      "outputs": [
        {
          "output_type": "stream",
          "name": "stdout",
          "text": [
            "14\n"
          ]
        }
      ]
    },
    {
      "cell_type": "code",
      "source": [
        "# runtime err: run perfect for some input values and err on some values\n",
        "\n",
        "num = 21\n",
        "# den= 9\n",
        "den = 0\n",
        "\n",
        "res= num / den\n",
        "print(res)"
      ],
      "metadata": {
        "colab": {
          "base_uri": "https://localhost:8080/",
          "height": 193
        },
        "id": "Bn7XxKI73jU_",
        "outputId": "533818bc-d634-413d-c1de-eb4fc42c79de"
      },
      "execution_count": null,
      "outputs": [
        {
          "output_type": "error",
          "ename": "ZeroDivisionError",
          "evalue": "division by zero",
          "traceback": [
            "\u001b[0;31m---------------------------------------------------------------------------\u001b[0m",
            "\u001b[0;31mZeroDivisionError\u001b[0m                         Traceback (most recent call last)",
            "\u001b[0;32m/tmp/ipython-input-4-2460710058.py\u001b[0m in \u001b[0;36m<cell line: 0>\u001b[0;34m()\u001b[0m\n\u001b[1;32m      5\u001b[0m \u001b[0mden\u001b[0m \u001b[0;34m=\u001b[0m \u001b[0;36m0\u001b[0m\u001b[0;34m\u001b[0m\u001b[0;34m\u001b[0m\u001b[0m\n\u001b[1;32m      6\u001b[0m \u001b[0;34m\u001b[0m\u001b[0m\n\u001b[0;32m----> 7\u001b[0;31m \u001b[0mres\u001b[0m\u001b[0;34m=\u001b[0m \u001b[0mnum\u001b[0m \u001b[0;34m/\u001b[0m \u001b[0mden\u001b[0m\u001b[0;34m\u001b[0m\u001b[0;34m\u001b[0m\u001b[0m\n\u001b[0m\u001b[1;32m      8\u001b[0m \u001b[0mprint\u001b[0m\u001b[0;34m(\u001b[0m\u001b[0mres\u001b[0m\u001b[0;34m)\u001b[0m\u001b[0;34m\u001b[0m\u001b[0;34m\u001b[0m\u001b[0m\n",
            "\u001b[0;31mZeroDivisionError\u001b[0m: division by zero"
          ]
        }
      ]
    },
    {
      "cell_type": "markdown",
      "source": [
        "- try\n",
        "- except\n",
        "- else\n",
        "- finally"
      ],
      "metadata": {
        "id": "3f4vhE5Z6EMh"
      }
    },
    {
      "cell_type": "code",
      "source": [
        "# try --> contains code that might raise err, jumps to except block\n",
        "# except --> runs when their is err in try"
      ],
      "metadata": {
        "id": "oPx8WFMI6LCq"
      },
      "execution_count": 5,
      "outputs": []
    },
    {
      "cell_type": "code",
      "source": [
        "try:\n",
        "  num= int(input(\"enter number: \"))\n",
        "  res= 837/num\n",
        "  print(res)\n",
        "except ZeroDivisionError:\n",
        "  print(\"Not divide by Zero\")"
      ],
      "metadata": {
        "colab": {
          "base_uri": "https://localhost:8080/"
        },
        "id": "lAUVRgyWCUhV",
        "outputId": "708cdc42-bbdc-4be0-be8f-e377bca9f7a0"
      },
      "execution_count": 7,
      "outputs": [
        {
          "output_type": "stream",
          "name": "stdout",
          "text": [
            "enter number: 0\n",
            "Not divide by Zero\n"
          ]
        }
      ]
    },
    {
      "cell_type": "code",
      "source": [
        "# else --> when try block is succeded (optional block)\n",
        "# finally --> executed in both cases (optional block)\n",
        "\n",
        "try:\n",
        "  num= int(input(\"Enter the number: \"))\n",
        "  res= 948 / num\n",
        "\n",
        "except ZeroDivisionError:\n",
        "  print(\"Can't divide by zero\")\n",
        "\n",
        "except ValueError:\n",
        "  print(\"invalid number / integer\")\n",
        "\n",
        "# else block runs when try is succeded\n",
        "else:\n",
        "  print(f\"Result of 948 divide by {num} is {res}\")\n",
        "\n",
        "finally:\n",
        "  # use to free resources / cleanup actions\n",
        "  print(\"execution completed\")\n"
      ],
      "metadata": {
        "colab": {
          "base_uri": "https://localhost:8080/"
        },
        "id": "Zv6xg9foCrdn",
        "outputId": "3715e5c4-a42a-415c-d87b-261c06d1d69f"
      },
      "execution_count": 20,
      "outputs": [
        {
          "output_type": "stream",
          "name": "stdout",
          "text": [
            "Enter the number: 0\n",
            "Can't divide by zero\n",
            "execution completed\n"
          ]
        }
      ]
    },
    {
      "cell_type": "code",
      "source": [
        "my_index= [1,2,3,4,5,6,7,8,9,10]\n",
        "\n",
        "try:\n",
        "  print(my_index[10])\n",
        "\n",
        "except IndexError:\n",
        "  print(\"enter index betn 0-9\")\n"
      ],
      "metadata": {
        "colab": {
          "base_uri": "https://localhost:8080/"
        },
        "id": "9NYe7lEbEeVi",
        "outputId": "528bb6c1-b394-493d-8e90-6e0d63637451"
      },
      "execution_count": 32,
      "outputs": [
        {
          "output_type": "stream",
          "name": "stdout",
          "text": [
            "enter index betn 0-9\n"
          ]
        }
      ]
    },
    {
      "cell_type": "code",
      "source": [
        "my_dict = {\n",
        "    \"name\": \"chaitanya\",\n",
        "    \"email\": \"one@one.com\",\n",
        "    \"rollno\": 40,\n",
        "    \"prn\": 231107042\n",
        "}\n",
        "\n",
        "print(my_dict[\"name\"])\n",
        "# my_dict[\"city\"] --> key err\n",
        "executed_try= False\n",
        "\n",
        "try:\n",
        "  my_dict[\"city\"]\n",
        "  executed_try = True\n",
        "except KeyError:\n",
        "  print(\"city key is not in my-dict\")\n",
        "else:\n",
        "  print(\"no key err occur\")\n",
        "finally:\n",
        "  if executed_try:\n",
        "    print(\"try block executed\")\n",
        "  else:\n",
        "    print(\"except block executed\")\n",
        "\n",
        "# hoisting err --> name err\n"
      ],
      "metadata": {
        "colab": {
          "base_uri": "https://localhost:8080/"
        },
        "id": "uzfqzU5YPIl8",
        "outputId": "bb924ab0-589b-4d84-e990-665a1184a9f6"
      },
      "execution_count": 41,
      "outputs": [
        {
          "output_type": "stream",
          "name": "stdout",
          "text": [
            "chaitanya\n",
            "city key is not in my-dict\n",
            "except block executed\n"
          ]
        }
      ]
    },
    {
      "cell_type": "code",
      "source": [
        "# raise: custom err"
      ],
      "metadata": {
        "id": "c3n70GakQv34"
      },
      "execution_count": null,
      "outputs": []
    },
    {
      "cell_type": "code",
      "source": [
        "x= int(input(\"enter number: \"))\n",
        "\n",
        "if x > 5:\n",
        "  raise ValueError(\"Value should be less than 5\")\n",
        "\n",
        "print(x)"
      ],
      "metadata": {
        "colab": {
          "base_uri": "https://localhost:8080/",
          "height": 228
        },
        "id": "r6ddTUJfVEHN",
        "outputId": "ac332ff2-5403-46f9-97d1-a0cccbc594dc"
      },
      "execution_count": 47,
      "outputs": [
        {
          "name": "stdout",
          "output_type": "stream",
          "text": [
            "enter number: 7\n"
          ]
        },
        {
          "output_type": "error",
          "ename": "ValueError",
          "evalue": "Value should be less than 5",
          "traceback": [
            "\u001b[0;31m---------------------------------------------------------------------------\u001b[0m",
            "\u001b[0;31mValueError\u001b[0m                                Traceback (most recent call last)",
            "\u001b[0;32m/tmp/ipython-input-47-1377329272.py\u001b[0m in \u001b[0;36m<cell line: 0>\u001b[0;34m()\u001b[0m\n\u001b[1;32m      2\u001b[0m \u001b[0;34m\u001b[0m\u001b[0m\n\u001b[1;32m      3\u001b[0m \u001b[0;32mif\u001b[0m \u001b[0mx\u001b[0m \u001b[0;34m>\u001b[0m \u001b[0;36m5\u001b[0m\u001b[0;34m:\u001b[0m\u001b[0;34m\u001b[0m\u001b[0;34m\u001b[0m\u001b[0m\n\u001b[0;32m----> 4\u001b[0;31m   \u001b[0;32mraise\u001b[0m \u001b[0mValueError\u001b[0m\u001b[0;34m(\u001b[0m\u001b[0;34m\"Value should be less than 5\"\u001b[0m\u001b[0;34m)\u001b[0m\u001b[0;34m\u001b[0m\u001b[0;34m\u001b[0m\u001b[0m\n\u001b[0m\u001b[1;32m      5\u001b[0m \u001b[0;34m\u001b[0m\u001b[0m\n\u001b[1;32m      6\u001b[0m \u001b[0mprint\u001b[0m\u001b[0;34m(\u001b[0m\u001b[0mx\u001b[0m\u001b[0;34m)\u001b[0m\u001b[0;34m\u001b[0m\u001b[0;34m\u001b[0m\u001b[0m\n",
            "\u001b[0;31mValueError\u001b[0m: Value should be less than 5"
          ]
        }
      ]
    },
    {
      "cell_type": "code",
      "source": [],
      "metadata": {
        "id": "-OecH5QrVQg3"
      },
      "execution_count": null,
      "outputs": []
    }
  ]
}