{
  "cells": [
    {
      "cell_type": "code",
      "execution_count": 2,
      "metadata": {
        "id": "NVP_0Kt3pnEu"
      },
      "outputs": [],
      "source": [
        "import numpy as np"
      ]
    },
    {
      "cell_type": "code",
      "execution_count": 3,
      "metadata": {
        "id": "4y9Ikypvl761"
      },
      "outputs": [],
      "source": [
        "# arithmetic operations"
      ]
    },
    {
      "cell_type": "code",
      "execution_count": 4,
      "metadata": {
        "colab": {
          "base_uri": "https://localhost:8080/"
        },
        "id": "vEWr5Igd7aQ1",
        "outputId": "80278d51-5c2c-47dc-c0d0-a422cb72dd8d"
      },
      "outputs": [
        {
          "name": "stdout",
          "output_type": "stream",
          "text": [
            "[[1 2 3]\n",
            " [4 5 6]\n",
            " [7 8 9]]\n",
            "[[1 4 7]\n",
            " [2 5 8]\n",
            " [3 6 9]]\n",
            "[[1 4 7]\n",
            " [2 5 8]\n",
            " [3 6 9]]\n"
          ]
        }
      ],
      "source": [
        "# methods:\n",
        "\n",
        "# transpose - row to col & col to row\n",
        "arr= np.array([[1,2,3],\n",
        "               [4,5,6],\n",
        "               [7,8,9]])\n",
        "\n",
        "print(arr)\n",
        "\n",
        "print(arr.transpose())\n",
        "print(arr.T)    # T as shortcut attribute"
      ]
    },
    {
      "cell_type": "code",
      "execution_count": 5,
      "metadata": {
        "colab": {
          "base_uri": "https://localhost:8080/"
        },
        "id": "qC7W7YV_MkGF",
        "outputId": "4dcc9afe-2f18-48a7-8098-da50f8a22549"
      },
      "outputs": [
        {
          "name": "stdout",
          "output_type": "stream",
          "text": [
            "[1 4 3 2 7 5 8 6 4 0]\n",
            "[0 1 2 3 4 4 5 6 7 8]\n"
          ]
        }
      ],
      "source": [
        "# sorting - row & col wise\n",
        "\n",
        "arr1= np.array([1,4,3,2,7,5,8,6,4,0])\n",
        "arr1_sort= np.sort(arr1)\n",
        "print(arr1)\n",
        "print(arr1_sort)\n"
      ]
    },
    {
      "cell_type": "code",
      "execution_count": 6,
      "metadata": {
        "colab": {
          "base_uri": "https://localhost:8080/"
        },
        "id": "D7pbQHlAPox4",
        "outputId": "e974a5eb-f1c3-4a34-f3a0-30d9e06a1320"
      },
      "outputs": [
        {
          "name": "stdout",
          "output_type": "stream",
          "text": [
            "[[ 3 44 66]\n",
            " [ 3  7 99]\n",
            " [29 66 95]]\n"
          ]
        }
      ],
      "source": [
        "arr_2d= np.array([[3,44,66],\n",
        "                  [99,7,3],\n",
        "                  [29,95,66]])\n",
        "\n",
        "arr_sort1= np.sort(arr_2d, axis=1)  # axis=1 --> row sort\n",
        "print(arr_sort1)"
      ]
    },
    {
      "cell_type": "code",
      "execution_count": 7,
      "metadata": {
        "colab": {
          "base_uri": "https://localhost:8080/"
        },
        "id": "F-LLPmTdQ1TM",
        "outputId": "1902f694-dfee-4459-a9bf-8e75f56921e4"
      },
      "outputs": [
        {
          "name": "stdout",
          "output_type": "stream",
          "text": [
            "[[ 3  7  3]\n",
            " [29 44 66]\n",
            " [99 95 66]]\n"
          ]
        }
      ],
      "source": [
        "arr_sort2= np.sort(arr_2d, axis=0)  # axis= 0 --> col sort\n",
        "print(arr_sort2)"
      ]
    },
    {
      "cell_type": "code",
      "execution_count": 8,
      "metadata": {
        "colab": {
          "base_uri": "https://localhost:8080/"
        },
        "id": "LUws8gk8Rgmk",
        "outputId": "58ee387b-5f62-48c5-ea99-ba7e06af4e6f"
      },
      "outputs": [
        {
          "name": "stdout",
          "output_type": "stream",
          "text": [
            "indices of sorted array: [9 0 3 2 8 1 5 7 4 6]\n"
          ]
        }
      ],
      "source": [
        "# argsort()- indices of sorted\n",
        "\n",
        "arr_argsort= np.argsort(arr1)\n",
        "print(\"indices of sorted array:\", arr_argsort)"
      ]
    },
    {
      "cell_type": "code",
      "execution_count": 9,
      "metadata": {
        "colab": {
          "base_uri": "https://localhost:8080/"
        },
        "id": "OXS3SSyLT2tQ",
        "outputId": "ac6eebe3-e176-4e76-86e5-adf45277ee48"
      },
      "outputs": [
        {
          "name": "stdout",
          "output_type": "stream",
          "text": [
            "[0.12 0.4  0.2  0.9  0.5 ]\n",
            "[0 2 1 4 3]\n",
            "[3 4 1]\n",
            "0.9\n"
          ]
        }
      ],
      "source": [
        "# scores= np.random.randfloat(0,10, size=4)\n",
        "\n",
        "# ranking systems\n",
        "scores= np.array([0.12, 0.4, 0.2, 0.9, 0.5])\n",
        "print(scores)\n",
        "\n",
        "argsort_sc= np.argsort(scores)\n",
        "print(argsort_sc)\n",
        "\n",
        "top3= argsort_sc[-3:][::-1]\n",
        "print(top3)\n",
        "\n",
        "print(scores[3])"
      ]
    },
    {
      "cell_type": "code",
      "execution_count": 10,
      "metadata": {
        "colab": {
          "base_uri": "https://localhost:8080/"
        },
        "id": "NQRLPXnoYPsL",
        "outputId": "e98c3e8d-f2a6-42fb-ae59-cfe3ac9a9e0f"
      },
      "outputs": [
        {
          "name": "stdout",
          "output_type": "stream",
          "text": [
            "[ 1  2  3 77 88 99]\n"
          ]
        }
      ],
      "source": [
        "# concatenate\n",
        "\n",
        "a= np.array([1,2,3])\n",
        "b= np.array([77,88,99])\n",
        "\n",
        "res= np.concatenate((a,b))\n",
        "print(res)\n"
      ]
    },
    {
      "cell_type": "code",
      "execution_count": 11,
      "metadata": {
        "colab": {
          "base_uri": "https://localhost:8080/"
        },
        "id": "44ul9o1fbyq2",
        "outputId": "4f0a2079-0733-4541-c6b1-5c046e468eba"
      },
      "outputs": [
        {
          "name": "stdout",
          "output_type": "stream",
          "text": [
            "[[13 55 67 34 56 88]\n",
            " [23 55 77 23 60 37]]\n",
            "[[13 55 67]\n",
            " [23 55 77]\n",
            " [34 56 88]\n",
            " [23 60 37]]\n"
          ]
        }
      ],
      "source": [
        "arr1= np.array([[13,55,67],\n",
        "                [23,55,77]])\n",
        "arr2= np.array([[34,56,88],\n",
        "                [23,60,37]])\n",
        "\n",
        "res1= np.concatenate((arr1, arr2), axis=1)\n",
        "res0= np.concatenate((arr1, arr2), axis=0)\n",
        "\n",
        "print(res1)   # aixs=1 col connect\n",
        "print(res0)\n",
        "\n"
      ]
    },
    {
      "cell_type": "code",
      "execution_count": 12,
      "metadata": {
        "colab": {
          "base_uri": "https://localhost:8080/"
        },
        "id": "2unpVIUHd-wI",
        "outputId": "4328f363-b486-479c-a6da-a1869c6d2ea1"
      },
      "outputs": [
        {
          "name": "stdout",
          "output_type": "stream",
          "text": [
            "[1 2 3 4 5 6 7 8 9]\n",
            "[[1 2 3]\n",
            " [4 5 6]\n",
            " [7 8 9]]\n"
          ]
        }
      ],
      "source": [
        "# reshape : change existing arr\n",
        "\n",
        "arr_1d= np.array([1,2,3,4,5,6,7,8,9])\n",
        "print(arr_1d)\n",
        "\n",
        "arr_2d= arr_1d.reshape(3,3)\n",
        "print(arr_2d)"
      ]
    },
    {
      "cell_type": "code",
      "execution_count": 13,
      "metadata": {
        "id": "Prm8AZXGfYPQ"
      },
      "outputs": [],
      "source": [
        "# conactenate --> numpy [arr focused]\n",
        "# concat --> pandas"
      ]
    },
    {
      "cell_type": "code",
      "execution_count": 14,
      "metadata": {
        "colab": {
          "base_uri": "https://localhost:8080/"
        },
        "id": "L64S8slJhWbA",
        "outputId": "243cf220-c9cf-4880-c3e3-42221d55e168"
      },
      "outputs": [
        {
          "name": "stdout",
          "output_type": "stream",
          "text": [
            "[array([1, 2, 3]), array([4, 5, 6]), array([7, 8, 9])]\n"
          ]
        }
      ],
      "source": [
        "# split() -->\n",
        "\n",
        "split_arr= np.split(arr_1d, 3)\n",
        "print(split_arr)"
      ]
    },
    {
      "cell_type": "code",
      "execution_count": 15,
      "metadata": {
        "colab": {
          "base_uri": "https://localhost:8080/"
        },
        "id": "TUSktWbuh0nf",
        "outputId": "522668dd-0734-4a43-a7a2-44237b250dc8"
      },
      "outputs": [
        {
          "name": "stdout",
          "output_type": "stream",
          "text": [
            "[[1 2 3]\n",
            " [4 5 6]\n",
            " [7 8 9]]\n",
            "[1 2 3 4 5 6 7 8 9]\n"
          ]
        }
      ],
      "source": [
        "print(arr_2d)\n",
        "print(arr_2d.reshape(-1))"
      ]
    },
    {
      "cell_type": "markdown",
      "metadata": {
        "id": "CRuAH37Elz-U"
      },
      "source": [
        "stats operations:\n",
        "- np.mean\n",
        "- np.median\n",
        "- np.min\n",
        "- np.max\n",
        "- np.sum\n",
        "- np.std --> standard deviation"
      ]
    },
    {
      "cell_type": "code",
      "execution_count": 16,
      "metadata": {
        "colab": {
          "base_uri": "https://localhost:8080/"
        },
        "id": "PV6xtrqEinIn",
        "outputId": "7f0b197f-6db8-4b49-e8f7-8abde6245cfb"
      },
      "outputs": [
        {
          "name": "stdout",
          "output_type": "stream",
          "text": [
            "5.0\n",
            "45\n",
            "2.581988897471611\n"
          ]
        }
      ],
      "source": [
        "# stats operations: mean, median, mode, standard deviation,\n",
        "#  min and max, sum\n",
        "\n",
        "print(np.mean(arr_2d))\n",
        "\n",
        "sum_2d= np.sum(arr_2d)\n",
        "print(sum_2d)\n",
        "\n",
        "std_dev= np.std(arr_2d)\n",
        "print(std_dev)"
      ]
    },
    {
      "cell_type": "code",
      "execution_count": 17,
      "metadata": {
        "colab": {
          "base_uri": "https://localhost:8080/"
        },
        "id": "mCXHkx6MmS-u",
        "outputId": "75ea31c9-fb9a-44c8-a700-cdfef2b21db1"
      },
      "outputs": [
        {
          "name": "stdout",
          "output_type": "stream",
          "text": [
            "[0. 0. 0. 0. 0. 0. 0. 0. 0.]\n",
            "[[0. 0. 0. 0.]\n",
            " [0. 0. 0. 0.]\n",
            " [0. 0. 0. 0.]]\n",
            "[[[0 0 0]\n",
            "  [0 0 0]\n",
            "  [0 0 0]\n",
            "  [0 0 0]]\n",
            "\n",
            " [[0 0 0]\n",
            "  [0 0 0]\n",
            "  [0 0 0]\n",
            "  [0 0 0]]\n",
            "\n",
            " [[0 0 0]\n",
            "  [0 0 0]\n",
            "  [0 0 0]\n",
            "  [0 0 0]]]\n"
          ]
        }
      ],
      "source": [
        "# data creation / array creation\n",
        "\n",
        "arr= np.zeros(9)\n",
        "print(arr)\n",
        "\n",
        "arr2= np.zeros((3,4))\n",
        "print(arr2)\n",
        "\n",
        "arr3= np.zeros((3,4,3), dtype=int)\n",
        "print(arr3)"
      ]
    },
    {
      "cell_type": "code",
      "execution_count": 18,
      "metadata": {
        "colab": {
          "base_uri": "https://localhost:8080/"
        },
        "id": "-xYTT70BmZCL",
        "outputId": "05204f3d-8b5e-4785-ef33-1276db96bc65"
      },
      "outputs": [
        {
          "name": "stdout",
          "output_type": "stream",
          "text": [
            "[1 1 1 1 1 1 1]\n",
            "[['1' '1' '1']\n",
            " ['1' '1' '1']]\n"
          ]
        }
      ],
      "source": [
        "a1= np.ones(7, dtype=int)\n",
        "print(a1)\n",
        "\n",
        "\n",
        "a2= np.ones((2,3), dtype= str)\n",
        "print(a2)\n"
      ]
    },
    {
      "cell_type": "code",
      "execution_count": 19,
      "metadata": {
        "colab": {
          "base_uri": "https://localhost:8080/"
        },
        "id": "VEoHQn0WnUHl",
        "outputId": "cd2d578b-4de6-43f9-d1ba-9aaf62d21e55"
      },
      "outputs": [
        {
          "name": "stdout",
          "output_type": "stream",
          "text": [
            "[7 7 7 7 7]\n"
          ]
        }
      ],
      "source": [
        "amix= np.full(5,7) # (size, value)\n",
        "print(amix)"
      ]
    },
    {
      "cell_type": "code",
      "execution_count": 23,
      "metadata": {
        "colab": {
          "base_uri": "https://localhost:8080/"
        },
        "id": "sLP4Ng2LBBSu",
        "outputId": "5dc90f74-b5ca-4ed0-cd85-c0099abe12a2"
      },
      "outputs": [
        {
          "name": "stdout",
          "output_type": "stream",
          "text": [
            "[[1. 0. 0. 0.]\n",
            " [0. 1. 0. 0.]\n",
            " [0. 0. 1. 0.]\n",
            " [0. 0. 0. 1.]]\n"
          ]
        }
      ],
      "source": [
        "identity_mx= np.eye(4,4)\n",
        "print(identity_mx)"
      ]
    },
    {
      "cell_type": "code",
      "execution_count": 26,
      "metadata": {
        "colab": {
          "base_uri": "https://localhost:8080/"
        },
        "id": "3aimCStRBrmK",
        "outputId": "91537662-b3e6-45d7-dbf7-0e24e3d9fa3a"
      },
      "outputs": [
        {
          "name": "stdout",
          "output_type": "stream",
          "text": [
            "[13 16 19 22 25 28 31 34]\n"
          ]
        }
      ],
      "source": [
        "# np.arange(start, stop, stepsize)\n",
        "\n",
        "arr= np.arange(13,35,3)\n",
        "print(arr)"
      ]
    },
    {
      "cell_type": "code",
      "execution_count": 28,
      "metadata": {
        "colab": {
          "base_uri": "https://localhost:8080/"
        },
        "id": "OwDCRfLqCAQZ",
        "outputId": "dbf7bc50-0600-4090-ef19-1da5ac608f71"
      },
      "outputs": [
        {
          "name": "stdout",
          "output_type": "stream",
          "text": [
            "[0.42315563 0.69248392 0.18351375 0.2817596  0.02965944 0.4845014 ]\n"
          ]
        }
      ],
      "source": [
        "arr2= np.random.random(6)\n",
        "print(arr2)"
      ]
    },
    {
      "cell_type": "code",
      "execution_count": 30,
      "metadata": {
        "colab": {
          "base_uri": "https://localhost:8080/"
        },
        "id": "sb2O6jD9CuCB",
        "outputId": "12d8ea13-d352-4778-85dd-11f753a2fcf2"
      },
      "outputs": [
        {
          "name": "stdout",
          "output_type": "stream",
          "text": [
            "[[0.77495013 0.72405789 0.2174663 ]\n",
            " [0.51586111 0.56789168 0.07560722]\n",
            " [0.3592611  0.60636263 0.71237742]]\n"
          ]
        }
      ],
      "source": [
        "arr2= np.random.random((3,3))\n",
        "print(arr2)"
      ]
    },
    {
      "cell_type": "code",
      "execution_count": 34,
      "metadata": {
        "colab": {
          "base_uri": "https://localhost:8080/"
        },
        "id": "gI8d3QxdC2OM",
        "outputId": "e3a4cc3d-60be-4487-eda9-87f9e053a5e1"
      },
      "outputs": [
        {
          "name": "stdout",
          "output_type": "stream",
          "text": [
            "[3.   3.75 4.5  5.25 6.  ]\n"
          ]
        }
      ],
      "source": [
        "# linspace(start,stop,num, endpoint, retstep, dtype)\n",
        "\n",
        "arr_line= np.linspace(3,6,5, dtype=float)\n",
        "# divide based on\n",
        "print(arr_line)"
      ]
    },
    {
      "cell_type": "code",
      "execution_count": null,
      "metadata": {
        "id": "Qicv7gXjEVUR"
      },
      "outputs": [],
      "source": []
    }
  ],
  "metadata": {
    "colab": {
      "provenance": []
    },
    "kernelspec": {
      "display_name": "Python 3",
      "name": "python3"
    },
    "language_info": {
      "codemirror_mode": {
        "name": "ipython",
        "version": 3
      },
      "file_extension": ".py",
      "mimetype": "text/x-python",
      "name": "python",
      "nbconvert_exporter": "python",
      "pygments_lexer": "ipython3",
      "version": "3.13.1"
    }
  },
  "nbformat": 4,
  "nbformat_minor": 0
}
